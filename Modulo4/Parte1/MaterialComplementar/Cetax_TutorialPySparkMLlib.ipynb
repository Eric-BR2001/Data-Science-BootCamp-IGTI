{
  "nbformat": 4,
  "nbformat_minor": 0,
  "metadata": {
    "colab": {
      "name": "Cetax_TutorialPySparkMLlib",
      "provenance": [],
      "collapsed_sections": []
    },
    "kernelspec": {
      "name": "python3",
      "display_name": "Python 3"
    }
  },
  "cells": [
    {
      "cell_type": "markdown",
      "metadata": {
        "id": "SlgwG46pHEYI",
        "colab_type": "text"
      },
      "source": [
        "# Tutorial PySqpark e MLlib"
      ]
    },
    {
      "cell_type": "markdown",
      "metadata": {
        "id": "_4kFQ_iYHMVE",
        "colab_type": "text"
      },
      "source": [
        "### Instalação e configuração das bibliotecas e suas dependências"
      ]
    },
    {
      "cell_type": "code",
      "metadata": {
        "id": "Z6wKIM0zCXq9",
        "colab_type": "code",
        "colab": {}
      },
      "source": [
        "# Baixando e instalando o Java (JDK)\n",
        "!apt-get install openjdk-8-jdk-headless -qq > /dev/null #Java\n",
        "\n",
        "# Baixando e instalando o ecossistema Hadoop com o Spark\n",
        "!wget -q https://downloads.apache.org/spark/spark-3.0.1/spark-3.0.1-bin-hadoop2.7-hive1.2.tgz\n",
        "!tar xf spark-3.0.1-bin-hadoop2.7-hive1.2.tgz\n",
        "\n",
        "# Importando as bibliotecas Python para executar o Spark\n",
        "!pip install -q findspark\n",
        "!pip install -q pyspark"
      ],
      "execution_count": 1,
      "outputs": []
    },
    {
      "cell_type": "markdown",
      "metadata": {
        "id": "yacZnTlFHgQL",
        "colab_type": "text"
      },
      "source": [
        "### Inicialização do Spark"
      ]
    },
    {
      "cell_type": "code",
      "metadata": {
        "id": "Q-fFHDjECpdU",
        "colab_type": "code",
        "colab": {}
      },
      "source": [
        "import findspark\n",
        "\n",
        "findspark.init(\"/content/spark-3.0.1-bin-hadoop2.7-hive1.2\")"
      ],
      "execution_count": 2,
      "outputs": []
    },
    {
      "cell_type": "markdown",
      "metadata": {
        "id": "NsVU0zFBHqZZ",
        "colab_type": "text"
      },
      "source": [
        "### Inicialização de uma Sessão no Spark"
      ]
    },
    {
      "cell_type": "code",
      "metadata": {
        "id": "Z6DQP1TSDA6F",
        "colab_type": "code",
        "colab": {}
      },
      "source": [
        "# Importando o módulo de sessões do Spark\n",
        "from pyspark.sql import SparkSession\n",
        "\n",
        "# Criando uma sessão do Spark\n",
        "spark = SparkSession.builder \\\n",
        "    .master(\"local\") \\\n",
        "    .appName(\"Linear Regression Model\") \\\n",
        "    .config(\"spark.executor.memory\", \"1gb\") \\\n",
        "    .getOrCreate()\n",
        "\n",
        "# Armazenando o endereço do programa SparkContext\n",
        "sc = spark.sparkContext"
      ],
      "execution_count": 3,
      "outputs": []
    },
    {
      "cell_type": "markdown",
      "metadata": {
        "id": "R9qlOwEyH8Rp",
        "colab_type": "text"
      },
      "source": [
        "### Importação de um arquivo no Google Colab"
      ]
    },
    {
      "cell_type": "code",
      "metadata": {
        "id": "odC0OMLTDJ2u",
        "colab_type": "code",
        "colab": {
          "resources": {
            "http://localhost:8080/nbextensions/google.colab/files.js": {
              "data": "Ly8gQ29weXJpZ2h0IDIwMTcgR29vZ2xlIExMQwovLwovLyBMaWNlbnNlZCB1bmRlciB0aGUgQXBhY2hlIExpY2Vuc2UsIFZlcnNpb24gMi4wICh0aGUgIkxpY2Vuc2UiKTsKLy8geW91IG1heSBub3QgdXNlIHRoaXMgZmlsZSBleGNlcHQgaW4gY29tcGxpYW5jZSB3aXRoIHRoZSBMaWNlbnNlLgovLyBZb3UgbWF5IG9idGFpbiBhIGNvcHkgb2YgdGhlIExpY2Vuc2UgYXQKLy8KLy8gICAgICBodHRwOi8vd3d3LmFwYWNoZS5vcmcvbGljZW5zZXMvTElDRU5TRS0yLjAKLy8KLy8gVW5sZXNzIHJlcXVpcmVkIGJ5IGFwcGxpY2FibGUgbGF3IG9yIGFncmVlZCB0byBpbiB3cml0aW5nLCBzb2Z0d2FyZQovLyBkaXN0cmlidXRlZCB1bmRlciB0aGUgTGljZW5zZSBpcyBkaXN0cmlidXRlZCBvbiBhbiAiQVMgSVMiIEJBU0lTLAovLyBXSVRIT1VUIFdBUlJBTlRJRVMgT1IgQ09ORElUSU9OUyBPRiBBTlkgS0lORCwgZWl0aGVyIGV4cHJlc3Mgb3IgaW1wbGllZC4KLy8gU2VlIHRoZSBMaWNlbnNlIGZvciB0aGUgc3BlY2lmaWMgbGFuZ3VhZ2UgZ292ZXJuaW5nIHBlcm1pc3Npb25zIGFuZAovLyBsaW1pdGF0aW9ucyB1bmRlciB0aGUgTGljZW5zZS4KCi8qKgogKiBAZmlsZW92ZXJ2aWV3IEhlbHBlcnMgZm9yIGdvb2dsZS5jb2xhYiBQeXRob24gbW9kdWxlLgogKi8KKGZ1bmN0aW9uKHNjb3BlKSB7CmZ1bmN0aW9uIHNwYW4odGV4dCwgc3R5bGVBdHRyaWJ1dGVzID0ge30pIHsKICBjb25zdCBlbGVtZW50ID0gZG9jdW1lbnQuY3JlYXRlRWxlbWVudCgnc3BhbicpOwogIGVsZW1lbnQudGV4dENvbnRlbnQgPSB0ZXh0OwogIGZvciAoY29uc3Qga2V5IG9mIE9iamVjdC5rZXlzKHN0eWxlQXR0cmlidXRlcykpIHsKICAgIGVsZW1lbnQuc3R5bGVba2V5XSA9IHN0eWxlQXR0cmlidXRlc1trZXldOwogIH0KICByZXR1cm4gZWxlbWVudDsKfQoKLy8gTWF4IG51bWJlciBvZiBieXRlcyB3aGljaCB3aWxsIGJlIHVwbG9hZGVkIGF0IGEgdGltZS4KY29uc3QgTUFYX1BBWUxPQURfU0laRSA9IDEwMCAqIDEwMjQ7CgpmdW5jdGlvbiBfdXBsb2FkRmlsZXMoaW5wdXRJZCwgb3V0cHV0SWQpIHsKICBjb25zdCBzdGVwcyA9IHVwbG9hZEZpbGVzU3RlcChpbnB1dElkLCBvdXRwdXRJZCk7CiAgY29uc3Qgb3V0cHV0RWxlbWVudCA9IGRvY3VtZW50LmdldEVsZW1lbnRCeUlkKG91dHB1dElkKTsKICAvLyBDYWNoZSBzdGVwcyBvbiB0aGUgb3V0cHV0RWxlbWVudCB0byBtYWtlIGl0IGF2YWlsYWJsZSBmb3IgdGhlIG5leHQgY2FsbAogIC8vIHRvIHVwbG9hZEZpbGVzQ29udGludWUgZnJvbSBQeXRob24uCiAgb3V0cHV0RWxlbWVudC5zdGVwcyA9IHN0ZXBzOwoKICByZXR1cm4gX3VwbG9hZEZpbGVzQ29udGludWUob3V0cHV0SWQpOwp9CgovLyBUaGlzIGlzIHJvdWdobHkgYW4gYXN5bmMgZ2VuZXJhdG9yIChub3Qgc3VwcG9ydGVkIGluIHRoZSBicm93c2VyIHlldCksCi8vIHdoZXJlIHRoZXJlIGFyZSBtdWx0aXBsZSBhc3luY2hyb25vdXMgc3RlcHMgYW5kIHRoZSBQeXRob24gc2lkZSBpcyBnb2luZwovLyB0byBwb2xsIGZvciBjb21wbGV0aW9uIG9mIGVhY2ggc3RlcC4KLy8gVGhpcyB1c2VzIGEgUHJvbWlzZSB0byBibG9jayB0aGUgcHl0aG9uIHNpZGUgb24gY29tcGxldGlvbiBvZiBlYWNoIHN0ZXAsCi8vIHRoZW4gcGFzc2VzIHRoZSByZXN1bHQgb2YgdGhlIHByZXZpb3VzIHN0ZXAgYXMgdGhlIGlucHV0IHRvIHRoZSBuZXh0IHN0ZXAuCmZ1bmN0aW9uIF91cGxvYWRGaWxlc0NvbnRpbnVlKG91dHB1dElkKSB7CiAgY29uc3Qgb3V0cHV0RWxlbWVudCA9IGRvY3VtZW50LmdldEVsZW1lbnRCeUlkKG91dHB1dElkKTsKICBjb25zdCBzdGVwcyA9IG91dHB1dEVsZW1lbnQuc3RlcHM7CgogIGNvbnN0IG5leHQgPSBzdGVwcy5uZXh0KG91dHB1dEVsZW1lbnQubGFzdFByb21pc2VWYWx1ZSk7CiAgcmV0dXJuIFByb21pc2UucmVzb2x2ZShuZXh0LnZhbHVlLnByb21pc2UpLnRoZW4oKHZhbHVlKSA9PiB7CiAgICAvLyBDYWNoZSB0aGUgbGFzdCBwcm9taXNlIHZhbHVlIHRvIG1ha2UgaXQgYXZhaWxhYmxlIHRvIHRoZSBuZXh0CiAgICAvLyBzdGVwIG9mIHRoZSBnZW5lcmF0b3IuCiAgICBvdXRwdXRFbGVtZW50Lmxhc3RQcm9taXNlVmFsdWUgPSB2YWx1ZTsKICAgIHJldHVybiBuZXh0LnZhbHVlLnJlc3BvbnNlOwogIH0pOwp9CgovKioKICogR2VuZXJhdG9yIGZ1bmN0aW9uIHdoaWNoIGlzIGNhbGxlZCBiZXR3ZWVuIGVhY2ggYXN5bmMgc3RlcCBvZiB0aGUgdXBsb2FkCiAqIHByb2Nlc3MuCiAqIEBwYXJhbSB7c3RyaW5nfSBpbnB1dElkIEVsZW1lbnQgSUQgb2YgdGhlIGlucHV0IGZpbGUgcGlja2VyIGVsZW1lbnQuCiAqIEBwYXJhbSB7c3RyaW5nfSBvdXRwdXRJZCBFbGVtZW50IElEIG9mIHRoZSBvdXRwdXQgZGlzcGxheS4KICogQHJldHVybiB7IUl0ZXJhYmxlPCFPYmplY3Q+fSBJdGVyYWJsZSBvZiBuZXh0IHN0ZXBzLgogKi8KZnVuY3Rpb24qIHVwbG9hZEZpbGVzU3RlcChpbnB1dElkLCBvdXRwdXRJZCkgewogIGNvbnN0IGlucHV0RWxlbWVudCA9IGRvY3VtZW50LmdldEVsZW1lbnRCeUlkKGlucHV0SWQpOwogIGlucHV0RWxlbWVudC5kaXNhYmxlZCA9IGZhbHNlOwoKICBjb25zdCBvdXRwdXRFbGVtZW50ID0gZG9jdW1lbnQuZ2V0RWxlbWVudEJ5SWQob3V0cHV0SWQpOwogIG91dHB1dEVsZW1lbnQuaW5uZXJIVE1MID0gJyc7CgogIGNvbnN0IHBpY2tlZFByb21pc2UgPSBuZXcgUHJvbWlzZSgocmVzb2x2ZSkgPT4gewogICAgaW5wdXRFbGVtZW50LmFkZEV2ZW50TGlzdGVuZXIoJ2NoYW5nZScsIChlKSA9PiB7CiAgICAgIHJlc29sdmUoZS50YXJnZXQuZmlsZXMpOwogICAgfSk7CiAgfSk7CgogIGNvbnN0IGNhbmNlbCA9IGRvY3VtZW50LmNyZWF0ZUVsZW1lbnQoJ2J1dHRvbicpOwogIGlucHV0RWxlbWVudC5wYXJlbnRFbGVtZW50LmFwcGVuZENoaWxkKGNhbmNlbCk7CiAgY2FuY2VsLnRleHRDb250ZW50ID0gJ0NhbmNlbCB1cGxvYWQnOwogIGNvbnN0IGNhbmNlbFByb21pc2UgPSBuZXcgUHJvbWlzZSgocmVzb2x2ZSkgPT4gewogICAgY2FuY2VsLm9uY2xpY2sgPSAoKSA9PiB7CiAgICAgIHJlc29sdmUobnVsbCk7CiAgICB9OwogIH0pOwoKICAvLyBXYWl0IGZvciB0aGUgdXNlciB0byBwaWNrIHRoZSBmaWxlcy4KICBjb25zdCBmaWxlcyA9IHlpZWxkIHsKICAgIHByb21pc2U6IFByb21pc2UucmFjZShbcGlja2VkUHJvbWlzZSwgY2FuY2VsUHJvbWlzZV0pLAogICAgcmVzcG9uc2U6IHsKICAgICAgYWN0aW9uOiAnc3RhcnRpbmcnLAogICAgfQogIH07CgogIGNhbmNlbC5yZW1vdmUoKTsKCiAgLy8gRGlzYWJsZSB0aGUgaW5wdXQgZWxlbWVudCBzaW5jZSBmdXJ0aGVyIHBpY2tzIGFyZSBub3QgYWxsb3dlZC4KICBpbnB1dEVsZW1lbnQuZGlzYWJsZWQgPSB0cnVlOwoKICBpZiAoIWZpbGVzKSB7CiAgICByZXR1cm4gewogICAgICByZXNwb25zZTogewogICAgICAgIGFjdGlvbjogJ2NvbXBsZXRlJywKICAgICAgfQogICAgfTsKICB9CgogIGZvciAoY29uc3QgZmlsZSBvZiBmaWxlcykgewogICAgY29uc3QgbGkgPSBkb2N1bWVudC5jcmVhdGVFbGVtZW50KCdsaScpOwogICAgbGkuYXBwZW5kKHNwYW4oZmlsZS5uYW1lLCB7Zm9udFdlaWdodDogJ2JvbGQnfSkpOwogICAgbGkuYXBwZW5kKHNwYW4oCiAgICAgICAgYCgke2ZpbGUudHlwZSB8fCAnbi9hJ30pIC0gJHtmaWxlLnNpemV9IGJ5dGVzLCBgICsKICAgICAgICBgbGFzdCBtb2RpZmllZDogJHsKICAgICAgICAgICAgZmlsZS5sYXN0TW9kaWZpZWREYXRlID8gZmlsZS5sYXN0TW9kaWZpZWREYXRlLnRvTG9jYWxlRGF0ZVN0cmluZygpIDoKICAgICAgICAgICAgICAgICAgICAgICAgICAgICAgICAgICAgJ24vYSd9IC0gYCkpOwogICAgY29uc3QgcGVyY2VudCA9IHNwYW4oJzAlIGRvbmUnKTsKICAgIGxpLmFwcGVuZENoaWxkKHBlcmNlbnQpOwoKICAgIG91dHB1dEVsZW1lbnQuYXBwZW5kQ2hpbGQobGkpOwoKICAgIGNvbnN0IGZpbGVEYXRhUHJvbWlzZSA9IG5ldyBQcm9taXNlKChyZXNvbHZlKSA9PiB7CiAgICAgIGNvbnN0IHJlYWRlciA9IG5ldyBGaWxlUmVhZGVyKCk7CiAgICAgIHJlYWRlci5vbmxvYWQgPSAoZSkgPT4gewogICAgICAgIHJlc29sdmUoZS50YXJnZXQucmVzdWx0KTsKICAgICAgfTsKICAgICAgcmVhZGVyLnJlYWRBc0FycmF5QnVmZmVyKGZpbGUpOwogICAgfSk7CiAgICAvLyBXYWl0IGZvciB0aGUgZGF0YSB0byBiZSByZWFkeS4KICAgIGxldCBmaWxlRGF0YSA9IHlpZWxkIHsKICAgICAgcHJvbWlzZTogZmlsZURhdGFQcm9taXNlLAogICAgICByZXNwb25zZTogewogICAgICAgIGFjdGlvbjogJ2NvbnRpbnVlJywKICAgICAgfQogICAgfTsKCiAgICAvLyBVc2UgYSBjaHVua2VkIHNlbmRpbmcgdG8gYXZvaWQgbWVzc2FnZSBzaXplIGxpbWl0cy4gU2VlIGIvNjIxMTU2NjAuCiAgICBsZXQgcG9zaXRpb24gPSAwOwogICAgd2hpbGUgKHBvc2l0aW9uIDwgZmlsZURhdGEuYnl0ZUxlbmd0aCkgewogICAgICBjb25zdCBsZW5ndGggPSBNYXRoLm1pbihmaWxlRGF0YS5ieXRlTGVuZ3RoIC0gcG9zaXRpb24sIE1BWF9QQVlMT0FEX1NJWkUpOwogICAgICBjb25zdCBjaHVuayA9IG5ldyBVaW50OEFycmF5KGZpbGVEYXRhLCBwb3NpdGlvbiwgbGVuZ3RoKTsKICAgICAgcG9zaXRpb24gKz0gbGVuZ3RoOwoKICAgICAgY29uc3QgYmFzZTY0ID0gYnRvYShTdHJpbmcuZnJvbUNoYXJDb2RlLmFwcGx5KG51bGwsIGNodW5rKSk7CiAgICAgIHlpZWxkIHsKICAgICAgICByZXNwb25zZTogewogICAgICAgICAgYWN0aW9uOiAnYXBwZW5kJywKICAgICAgICAgIGZpbGU6IGZpbGUubmFtZSwKICAgICAgICAgIGRhdGE6IGJhc2U2NCwKICAgICAgICB9LAogICAgICB9OwogICAgICBwZXJjZW50LnRleHRDb250ZW50ID0KICAgICAgICAgIGAke01hdGgucm91bmQoKHBvc2l0aW9uIC8gZmlsZURhdGEuYnl0ZUxlbmd0aCkgKiAxMDApfSUgZG9uZWA7CiAgICB9CiAgfQoKICAvLyBBbGwgZG9uZS4KICB5aWVsZCB7CiAgICByZXNwb25zZTogewogICAgICBhY3Rpb246ICdjb21wbGV0ZScsCiAgICB9CiAgfTsKfQoKc2NvcGUuZ29vZ2xlID0gc2NvcGUuZ29vZ2xlIHx8IHt9OwpzY29wZS5nb29nbGUuY29sYWIgPSBzY29wZS5nb29nbGUuY29sYWIgfHwge307CnNjb3BlLmdvb2dsZS5jb2xhYi5fZmlsZXMgPSB7CiAgX3VwbG9hZEZpbGVzLAogIF91cGxvYWRGaWxlc0NvbnRpbnVlLAp9Owp9KShzZWxmKTsK",
              "ok": true,
              "headers": [
                [
                  "content-type",
                  "application/javascript"
                ]
              ],
              "status": 200,
              "status_text": ""
            }
          },
          "base_uri": "https://localhost:8080/",
          "height": 72
        },
        "outputId": "feb8822e-efed-4b20-b804-71e41df9ddc6"
      },
      "source": [
        "# Importando o módulo de manipulação de arquivos do Google Colab\n",
        "from google.colab import files\n",
        "\n",
        "# Fazendo o upload de um arquivo\n",
        "uploaded = files.upload()"
      ],
      "execution_count": 4,
      "outputs": [
        {
          "output_type": "display_data",
          "data": {
            "text/html": [
              "\n",
              "     <input type=\"file\" id=\"files-8d0fc3ad-d05c-4137-b14d-7c5f66ba9413\" name=\"files[]\" multiple disabled\n",
              "        style=\"border:none\" />\n",
              "     <output id=\"result-8d0fc3ad-d05c-4137-b14d-7c5f66ba9413\">\n",
              "      Upload widget is only available when the cell has been executed in the\n",
              "      current browser session. Please rerun this cell to enable.\n",
              "      </output>\n",
              "      <script src=\"/nbextensions/google.colab/files.js\"></script> "
            ],
            "text/plain": [
              "<IPython.core.display.HTML object>"
            ]
          },
          "metadata": {
            "tags": []
          }
        },
        {
          "output_type": "stream",
          "text": [
            "Saving Salary_Data.csv to Salary_Data (2).csv\n"
          ],
          "name": "stdout"
        }
      ]
    },
    {
      "cell_type": "markdown",
      "metadata": {
        "id": "mfdyED2UIDgM",
        "colab_type": "text"
      },
      "source": [
        "### Manipulação de RDD's"
      ]
    },
    {
      "cell_type": "code",
      "metadata": {
        "id": "j9DMPJMvDcSE",
        "colab_type": "code",
        "colab": {}
      },
      "source": [
        "# Lendo um conjunto de dados num RDD\n",
        "rdd = sc.textFile('Salary_Data.csv')"
      ],
      "execution_count": 5,
      "outputs": []
    },
    {
      "cell_type": "code",
      "metadata": {
        "id": "Z3XEuVd2Dqf0",
        "colab_type": "code",
        "colab": {
          "base_uri": "https://localhost:8080/",
          "height": 34
        },
        "outputId": "df72552c-0181-470c-e32e-ef113baab205"
      },
      "source": [
        "# Apresentando os primeiros 2 registros do conjunto de dados \n",
        "rdd.take(2)"
      ],
      "execution_count": 6,
      "outputs": [
        {
          "output_type": "execute_result",
          "data": {
            "text/plain": [
              "['1.1,39343.00', '1.3,46205.00']"
            ]
          },
          "metadata": {
            "tags": []
          },
          "execution_count": 6
        }
      ]
    },
    {
      "cell_type": "code",
      "metadata": {
        "id": "fwVqlw8GDvUM",
        "colab_type": "code",
        "colab": {
          "base_uri": "https://localhost:8080/",
          "height": 34
        },
        "outputId": "e50ee476-813e-4edb-b3dc-0e377338097d"
      },
      "source": [
        "# Sperando os valores por um delimitador (vírgula)\n",
        "rdd = rdd.map(lambda line: line.split(\",\"))\n",
        "\n",
        "# Apresentando o primeiro registro do conjunto de dados pós separado\n",
        "rdd.take(1)"
      ],
      "execution_count": 7,
      "outputs": [
        {
          "output_type": "execute_result",
          "data": {
            "text/plain": [
              "[['1.1', '39343.00']]"
            ]
          },
          "metadata": {
            "tags": []
          },
          "execution_count": 7
        }
      ]
    },
    {
      "cell_type": "code",
      "metadata": {
        "id": "YtjdC8YdD3FV",
        "colab_type": "code",
        "colab": {
          "base_uri": "https://localhost:8080/",
          "height": 34
        },
        "outputId": "240a6d2f-f2f2-4df9-9784-c5dcb602e013"
      },
      "source": [
        "# Apresentando o primeiro registro \n",
        "rdd.first()"
      ],
      "execution_count": 8,
      "outputs": [
        {
          "output_type": "execute_result",
          "data": {
            "text/plain": [
              "['1.1', '39343.00']"
            ]
          },
          "metadata": {
            "tags": []
          },
          "execution_count": 8
        }
      ]
    },
    {
      "cell_type": "code",
      "metadata": {
        "id": "G1DWHwDMD7iu",
        "colab_type": "code",
        "colab": {
          "base_uri": "https://localhost:8080/",
          "height": 34
        },
        "outputId": "417abf02-c1c4-493c-8f8c-5521b485eb82"
      },
      "source": [
        "# Apresentando o(s) primeiro(s) n registros do conjunto de dados\n",
        "rdd.top(1)"
      ],
      "execution_count": 9,
      "outputs": [
        {
          "output_type": "execute_result",
          "data": {
            "text/plain": [
              "[['9.6', '112635.00']]"
            ]
          },
          "metadata": {
            "tags": []
          },
          "execution_count": 9
        }
      ]
    },
    {
      "cell_type": "code",
      "metadata": {
        "id": "Mo8mBDnrD-QZ",
        "colab_type": "code",
        "colab": {}
      },
      "source": [
        "# Importando o modulo de registros do Spark\n",
        "from pyspark.sql import Row\n",
        "\n",
        "# Criando um dataframe com o RDD separado em anos de experiência (posição 0) e salário (posição 1)\n",
        "df = rdd.map(lambda line: Row(YearsExperience=line[0], Salary=line[1])).toDF()"
      ],
      "execution_count": 10,
      "outputs": []
    },
    {
      "cell_type": "code",
      "metadata": {
        "id": "eDTksGAvEa3C",
        "colab_type": "code",
        "colab": {
          "base_uri": "https://localhost:8080/",
          "height": 459
        },
        "outputId": "053e19c6-537c-4ab9-841e-7e311a7f26bf"
      },
      "source": [
        "# Apresentando os primeiros 20 (padrão) registros \n",
        "df.show()"
      ],
      "execution_count": 11,
      "outputs": [
        {
          "output_type": "stream",
          "text": [
            "+---------------+--------+\n",
            "|YearsExperience|  Salary|\n",
            "+---------------+--------+\n",
            "|            1.1|39343.00|\n",
            "|            1.3|46205.00|\n",
            "|            1.5|37731.00|\n",
            "|            2.0|43525.00|\n",
            "|            2.2|39891.00|\n",
            "|            2.9|56642.00|\n",
            "|            3.0|60150.00|\n",
            "|            3.2|54445.00|\n",
            "|            3.2|64445.00|\n",
            "|            3.7|57189.00|\n",
            "|            3.9|63218.00|\n",
            "|            4.0|55794.00|\n",
            "|            4.0|56957.00|\n",
            "|            4.1|57081.00|\n",
            "|            4.5|61111.00|\n",
            "|            4.9|67938.00|\n",
            "|            5.1|66029.00|\n",
            "|            5.3|83088.00|\n",
            "|            5.9|81363.00|\n",
            "|            6.0|93940.00|\n",
            "+---------------+--------+\n",
            "only showing top 20 rows\n",
            "\n"
          ],
          "name": "stdout"
        }
      ]
    },
    {
      "cell_type": "code",
      "metadata": {
        "id": "qTNdtfq1EdVQ",
        "colab_type": "code",
        "colab": {
          "base_uri": "https://localhost:8080/",
          "height": 85
        },
        "outputId": "6efd0cdc-1fef-4956-801e-28d94ec1352b"
      },
      "source": [
        "# Apresentando o schema (tipos de dados) do conjunto de dados\n",
        "df.printSchema()"
      ],
      "execution_count": 12,
      "outputs": [
        {
          "output_type": "stream",
          "text": [
            "root\n",
            " |-- YearsExperience: string (nullable = true)\n",
            " |-- Salary: string (nullable = true)\n",
            "\n"
          ],
          "name": "stdout"
        }
      ]
    },
    {
      "cell_type": "code",
      "metadata": {
        "id": "gBH9J9klEfce",
        "colab_type": "code",
        "colab": {}
      },
      "source": [
        "# Importando os módulos de tipos do Spark\n",
        "from pyspark.sql.types import *\n",
        "\n",
        "# Função que converte o(s) tipo(s) de coluna(s) num dataframe do Spark\n",
        "def convertColumn(df, names, newType):\n",
        "    for name in names: \n",
        "        df = df.withColumn(name, df[name].cast(newType))\n",
        "    return df \n",
        "\n",
        "# Definindo a lista de colunas a ser convertidas\n",
        "columns = ['YearsExperience', 'Salary']\n",
        "\n",
        "# Convertendo as colunas para tipo float\n",
        "df = convertColumn(df, columns, FloatType())"
      ],
      "execution_count": 13,
      "outputs": []
    },
    {
      "cell_type": "code",
      "metadata": {
        "id": "WykH65osEpha",
        "colab_type": "code",
        "colab": {
          "base_uri": "https://localhost:8080/",
          "height": 85
        },
        "outputId": "58315116-bb74-46d7-da82-834daf6ddb17"
      },
      "source": [
        "# Apresentando novamente o schema com os tipos alterados\n",
        "df.printSchema()"
      ],
      "execution_count": 14,
      "outputs": [
        {
          "output_type": "stream",
          "text": [
            "root\n",
            " |-- YearsExperience: float (nullable = true)\n",
            " |-- Salary: float (nullable = true)\n",
            "\n"
          ],
          "name": "stdout"
        }
      ]
    },
    {
      "cell_type": "code",
      "metadata": {
        "id": "dc0M5okDEjNp",
        "colab_type": "code",
        "colab": {
          "base_uri": "https://localhost:8080/",
          "height": 459
        },
        "outputId": "e5130379-6157-40b8-a1e7-5822f5da2251"
      },
      "source": [
        "# Apresentando os 20 primeiros registros do dataframe \n",
        "df.show()"
      ],
      "execution_count": 15,
      "outputs": [
        {
          "output_type": "stream",
          "text": [
            "+---------------+-------+\n",
            "|YearsExperience| Salary|\n",
            "+---------------+-------+\n",
            "|            1.1|39343.0|\n",
            "|            1.3|46205.0|\n",
            "|            1.5|37731.0|\n",
            "|            2.0|43525.0|\n",
            "|            2.2|39891.0|\n",
            "|            2.9|56642.0|\n",
            "|            3.0|60150.0|\n",
            "|            3.2|54445.0|\n",
            "|            3.2|64445.0|\n",
            "|            3.7|57189.0|\n",
            "|            3.9|63218.0|\n",
            "|            4.0|55794.0|\n",
            "|            4.0|56957.0|\n",
            "|            4.1|57081.0|\n",
            "|            4.5|61111.0|\n",
            "|            4.9|67938.0|\n",
            "|            5.1|66029.0|\n",
            "|            5.3|83088.0|\n",
            "|            5.9|81363.0|\n",
            "|            6.0|93940.0|\n",
            "+---------------+-------+\n",
            "only showing top 20 rows\n",
            "\n"
          ],
          "name": "stdout"
        }
      ]
    },
    {
      "cell_type": "code",
      "metadata": {
        "id": "w5vmZkeTEmdw",
        "colab_type": "code",
        "colab": {
          "base_uri": "https://localhost:8080/",
          "height": 289
        },
        "outputId": "33e4b55b-8721-4342-a9de-3a6a7e97220c"
      },
      "source": [
        "# Apresentando os salários dos primeiros 10 registros\n",
        "df.select('Salary') \\\n",
        "    .show(10)"
      ],
      "execution_count": 16,
      "outputs": [
        {
          "output_type": "stream",
          "text": [
            "+-------+\n",
            "| Salary|\n",
            "+-------+\n",
            "|39343.0|\n",
            "|46205.0|\n",
            "|37731.0|\n",
            "|43525.0|\n",
            "|39891.0|\n",
            "|56642.0|\n",
            "|60150.0|\n",
            "|54445.0|\n",
            "|64445.0|\n",
            "|57189.0|\n",
            "+-------+\n",
            "only showing top 10 rows\n",
            "\n"
          ],
          "name": "stdout"
        }
      ]
    },
    {
      "cell_type": "code",
      "metadata": {
        "id": "Ib-anmTmEs-h",
        "colab_type": "code",
        "colab": {
          "base_uri": "https://localhost:8080/",
          "height": 459
        },
        "outputId": "50050a65-6508-4f8c-d03f-e0c7b8dd6ab6"
      },
      "source": [
        "# Agrupando o dataframe por salários e contabilizando os diferentes valores\n",
        "df.groupBy(\"Salary\") \\\n",
        "    .count() \\\n",
        "    .sort(\"Salary\", ascending=False) \\\n",
        "    .show()"
      ],
      "execution_count": 17,
      "outputs": [
        {
          "output_type": "stream",
          "text": [
            "+--------+-----+\n",
            "|  Salary|count|\n",
            "+--------+-----+\n",
            "|122391.0|    1|\n",
            "|121872.0|    1|\n",
            "|116969.0|    1|\n",
            "|113812.0|    1|\n",
            "|112635.0|    1|\n",
            "|109431.0|    1|\n",
            "|105582.0|    1|\n",
            "|101302.0|    1|\n",
            "| 98273.0|    1|\n",
            "| 93940.0|    1|\n",
            "| 91738.0|    1|\n",
            "| 83088.0|    1|\n",
            "| 81363.0|    1|\n",
            "| 67938.0|    1|\n",
            "| 66029.0|    1|\n",
            "| 64445.0|    1|\n",
            "| 63218.0|    1|\n",
            "| 61111.0|    1|\n",
            "| 60150.0|    1|\n",
            "| 57189.0|    1|\n",
            "+--------+-----+\n",
            "only showing top 20 rows\n",
            "\n"
          ],
          "name": "stdout"
        }
      ]
    },
    {
      "cell_type": "code",
      "metadata": {
        "id": "Ieuo_lKtExp6",
        "colab_type": "code",
        "colab": {
          "base_uri": "https://localhost:8080/",
          "height": 187
        },
        "outputId": "ceb51aaf-8b75-4116-f0ae-d7abde3da77a"
      },
      "source": [
        "# Apresentando as estatísticas do dataframe (quantidade, média, desvio padrão, mínimo e máximo)\n",
        "df.describe().show()"
      ],
      "execution_count": 18,
      "outputs": [
        {
          "output_type": "stream",
          "text": [
            "+-------+------------------+------------------+\n",
            "|summary|   YearsExperience|            Salary|\n",
            "+-------+------------------+------------------+\n",
            "|  count|                30|                30|\n",
            "|   mean|5.3133333643277485|           76003.0|\n",
            "| stddev|2.8378881722287805|27414.429784582302|\n",
            "|    min|               1.1|           37731.0|\n",
            "|    max|              10.5|          122391.0|\n",
            "+-------+------------------+------------------+\n",
            "\n"
          ],
          "name": "stdout"
        }
      ]
    },
    {
      "cell_type": "markdown",
      "metadata": {
        "id": "ORnC92hQtHHd",
        "colab_type": "text"
      },
      "source": [
        "### Preparação dos Dados"
      ]
    },
    {
      "cell_type": "code",
      "metadata": {
        "id": "NuZstx56E1m3",
        "colab_type": "code",
        "colab": {}
      },
      "source": [
        "# Importando o módulo de tipo vetor denso para preparação dos dados para aplicar a regressão linear\n",
        "from pyspark.ml.linalg import DenseVector\n",
        "\n",
        "# Criando um novo dataframe no formato [(salário, DenseVector(anos de experiência))]\n",
        "input_data = df.rdd.map(lambda x: (x[0], DenseVector(x[1:])))\n",
        "\n",
        "# Substituindo o dataframe antigo pelo novo criado anteriormente\n",
        "df = spark.createDataFrame(input_data, [\"label\", \"features\"])"
      ],
      "execution_count": 19,
      "outputs": []
    },
    {
      "cell_type": "code",
      "metadata": {
        "id": "CYwzkSjfE41M",
        "colab_type": "code",
        "colab": {
          "base_uri": "https://localhost:8080/",
          "height": 51
        },
        "outputId": "53e9b2fb-16bb-4101-f6c1-8c5c50da9e7b"
      },
      "source": [
        "# Importando o módulo de normalização de dados \n",
        "from pyspark.ml.feature import StandardScaler\n",
        "\n",
        "# Inicializando a normalização dos dados com as configurações necessárias (coluna(s) de entrada e saída)\n",
        "standardScaler = StandardScaler(inputCol=\"features\", outputCol=\"features_scaled\")\n",
        "\n",
        "# Aplicando a normalização dos dados\n",
        "scaler = standardScaler.fit(df)\n",
        "\n",
        "# Transformando o dataframe com os dados normalizados\n",
        "scaled_df = scaler.transform(df)\n",
        "\n",
        "# Apresentando os primeiros 2 registros do dataframe\n",
        "scaled_df.take(2)"
      ],
      "execution_count": 20,
      "outputs": [
        {
          "output_type": "execute_result",
          "data": {
            "text/plain": [
              "[Row(label=1.100000023841858, features=DenseVector([39343.0]), features_scaled=DenseVector([1.4351])),\n",
              " Row(label=1.2999999523162842, features=DenseVector([46205.0]), features_scaled=DenseVector([1.6854]))]"
            ]
          },
          "metadata": {
            "tags": []
          },
          "execution_count": 20
        }
      ]
    },
    {
      "cell_type": "code",
      "metadata": {
        "id": "sfTM_iDuE81m",
        "colab_type": "code",
        "colab": {}
      },
      "source": [
        "# Separando os dados em treino (75%) e teste (25%)\n",
        "train_data, test_data = scaled_df.randomSplit([.75,.25], seed=1234)"
      ],
      "execution_count": 21,
      "outputs": []
    },
    {
      "cell_type": "markdown",
      "metadata": {
        "id": "tMayyFgGt80u",
        "colab_type": "text"
      },
      "source": [
        "### Processamento dos Dados"
      ]
    },
    {
      "cell_type": "markdown",
      "metadata": {
        "id": "dZczrR9pvyxb",
        "colab_type": "text"
      },
      "source": [
        "Crianção do(s) Modelo(s)"
      ]
    },
    {
      "cell_type": "code",
      "metadata": {
        "id": "FztUD6GeFBhq",
        "colab_type": "code",
        "colab": {}
      },
      "source": [
        "# Importando o módulo de regressão linear do Spark\n",
        "from pyspark.ml.regression import LinearRegression\n",
        "\n",
        "# Inicializando a regressão linear com as configurações necessárias (coluna com os rótulos e número máximo de iterações)\n",
        "lr = LinearRegression(labelCol=\"label\", maxIter=10)\n",
        "\n",
        "# Aplicando a regressão linear nos dados de treino e criando o modelo\n",
        "linearModel = lr.fit(train_data)"
      ],
      "execution_count": 22,
      "outputs": []
    },
    {
      "cell_type": "code",
      "metadata": {
        "id": "RLHuaMuuFE-o",
        "colab_type": "code",
        "colab": {
          "base_uri": "https://localhost:8080/",
          "height": 102
        },
        "outputId": "85f8210f-6292-4e45-ca88-dcba47e10adf"
      },
      "source": [
        "# Gerando as predições com modelo sobre os dados de teste\n",
        "predicted = linearModel.transform(test_data)\n",
        "\n",
        "# Recuperando as predições e rótulos dos dados de teste\n",
        "predictions = predicted.select(\"prediction\").rdd.map(lambda x: x[0])\n",
        "labels = predicted.select(\"label\").rdd.map(lambda x: x[0])\n",
        "\n",
        "# Combinando as predições com os rótulos dos dados de teste\n",
        "predictionAndLabel = predictions.zip(labels).collect()\n",
        "\n",
        "# Apresentando os primeiros 5 registros com as predições e rótulos dos dados de teste \n",
        "predictionAndLabel[:5]"
      ],
      "execution_count": 23,
      "outputs": [
        {
          "output_type": "execute_result",
          "data": {
            "text/plain": [
              "[(2.4088336346189774, 1.2999999523162842),\n",
              " (1.8115026389699527, 2.200000047683716),\n",
              " (7.334685753949579, 7.099999904632568),\n",
              " (8.390279553355947, 8.699999809265137),\n",
              " (8.026147940708958, 9.0)]"
            ]
          },
          "metadata": {
            "tags": []
          },
          "execution_count": 23
        }
      ]
    },
    {
      "cell_type": "code",
      "metadata": {
        "id": "E5PGIb6QFJGF",
        "colab_type": "code",
        "colab": {
          "base_uri": "https://localhost:8080/",
          "height": 34
        },
        "outputId": "58ecc516-acd5-41ea-a5d9-b82d361a8de8"
      },
      "source": [
        "# Apresentando o(s) coeficiente(s) angulare(s) do modelo (beta1)\n",
        "linearModel.coefficients"
      ],
      "execution_count": 24,
      "outputs": [
        {
          "output_type": "execute_result",
          "data": {
            "text/plain": [
              "DenseVector([0.0001])"
            ]
          },
          "metadata": {
            "tags": []
          },
          "execution_count": 24
        }
      ]
    },
    {
      "cell_type": "code",
      "metadata": {
        "id": "OVuHYOtGFMFG",
        "colab_type": "code",
        "colab": {
          "base_uri": "https://localhost:8080/",
          "height": 34
        },
        "outputId": "21c61656-bcc4-4564-a0a5-bc376f2a1a33"
      },
      "source": [
        "# Apresentando o intercepto do modelo (beta0)\n",
        "linearModel.intercept"
      ],
      "execution_count": 25,
      "outputs": [
        {
          "output_type": "execute_result",
          "data": {
            "text/plain": [
              "-1.962353988751815"
            ]
          },
          "metadata": {
            "tags": []
          },
          "execution_count": 25
        }
      ]
    },
    {
      "cell_type": "markdown",
      "metadata": {
        "id": "0_uPCnkPwAjS",
        "colab_type": "text"
      },
      "source": [
        "Avaliação de Métricas"
      ]
    },
    {
      "cell_type": "code",
      "metadata": {
        "id": "eWN7X3ZLFOY6",
        "colab_type": "code",
        "colab": {
          "base_uri": "https://localhost:8080/",
          "height": 34
        },
        "outputId": "40dde38e-7ac8-4c4c-a596-a36997a001a1"
      },
      "source": [
        "# Apresentando o erro quadrático médio do modelo (RMSE)\n",
        "linearModel.summary.rootMeanSquaredError"
      ],
      "execution_count": 26,
      "outputs": [
        {
          "output_type": "execute_result",
          "data": {
            "text/plain": [
              "0.5604487702361474"
            ]
          },
          "metadata": {
            "tags": []
          },
          "execution_count": 26
        }
      ]
    },
    {
      "cell_type": "code",
      "metadata": {
        "id": "PpWPoTY9FRIz",
        "colab_type": "code",
        "colab": {
          "base_uri": "https://localhost:8080/",
          "height": 34
        },
        "outputId": "befef14a-881d-42c0-86ef-631bfc9fc192"
      },
      "source": [
        "# Apresentando o R2 do modelo\n",
        "linearModel.summary.r2"
      ],
      "execution_count": 27,
      "outputs": [
        {
          "output_type": "execute_result",
          "data": {
            "text/plain": [
              "0.9347632503845014"
            ]
          },
          "metadata": {
            "tags": []
          },
          "execution_count": 27
        }
      ]
    },
    {
      "cell_type": "markdown",
      "metadata": {
        "id": "Mpr1dw-nwGoE",
        "colab_type": "text"
      },
      "source": [
        "### Finalização da Sessão do Spark"
      ]
    },
    {
      "cell_type": "code",
      "metadata": {
        "id": "udDfokK3FTrX",
        "colab_type": "code",
        "colab": {}
      },
      "source": [
        "# Encerrando a sessão do Spark\n",
        "spark.stop()"
      ],
      "execution_count": 28,
      "outputs": []
    }
  ]
}