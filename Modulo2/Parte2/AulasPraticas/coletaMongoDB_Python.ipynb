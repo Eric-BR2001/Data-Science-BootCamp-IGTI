{
 "metadata": {
  "language_info": {
   "codemirror_mode": {
    "name": "ipython",
    "version": 3
   },
   "file_extension": ".py",
   "mimetype": "text/x-python",
   "name": "python",
   "nbconvert_exporter": "python",
   "pygments_lexer": "ipython3",
   "version": "3.7.1-final"
  },
  "orig_nbformat": 2,
  "kernelspec": {
   "name": "python3",
   "display_name": "Python 3"
  }
 },
 "nbformat": 4,
 "nbformat_minor": 2,
 "cells": [
  {
   "cell_type": "markdown",
   "metadata": {},
   "source": [
    "# Coleta de Dados no MongoDB com Python"
   ]
  },
  {
   "cell_type": "markdown",
   "metadata": {},
   "source": [
    "**OBSERVAÇÃO:**\n",
    "\n",
    "Antes de usar o pymongo pela primeira vez, é necessário instalar o pacote. Para isso, acesse o prompt do Anaconda e execute o comando abaixo:\n",
    "\n",
    "*conda install -c wakari pymongo*"
   ]
  },
  {
   "cell_type": "code",
   "execution_count": 1,
   "metadata": {},
   "outputs": [],
   "source": [
    "# Importação de pacote/biblioteca\n",
    "import pymongo"
   ]
  },
  {
   "cell_type": "code",
   "execution_count": 2,
   "metadata": {},
   "outputs": [],
   "source": [
    "# Conexão ao banco de dados\n",
    "#from pymongo import MongoClient\n",
    "con = pymongo.MongoClient('localhost', 27017)"
   ]
  },
  {
   "cell_type": "code",
   "execution_count": 3,
   "metadata": {},
   "outputs": [
    {
     "output_type": "execute_result",
     "data": {
      "text/plain": "MongoClient(host=['localhost:27017'], document_class=dict, tz_aware=False, connect=True)"
     },
     "metadata": {},
     "execution_count": 3
    }
   ],
   "source": [
    "# Apresentar as informações sobre a conexão\n",
    "con"
   ]
  },
  {
   "cell_type": "code",
   "execution_count": 4,
   "metadata": {},
   "outputs": [
    {
     "output_type": "execute_result",
     "data": {
      "text/plain": "['admin', 'config', 'igti', 'local']"
     },
     "metadata": {},
     "execution_count": 4
    }
   ],
   "source": [
    "# Listar os bancos de dados\n",
    "con.list_database_names()"
   ]
  },
  {
   "cell_type": "code",
   "execution_count": 5,
   "metadata": {},
   "outputs": [],
   "source": [
    "# Selecionar o banco de dados\n",
    "db = con.igti"
   ]
  },
  {
   "cell_type": "code",
   "execution_count": 6,
   "metadata": {},
   "outputs": [
    {
     "output_type": "execute_result",
     "data": {
      "text/plain": "Database(MongoClient(host=['localhost:27017'], document_class=dict, tz_aware=False, connect=True), 'igti')"
     },
     "metadata": {},
     "execution_count": 6
    }
   ],
   "source": [
    "# Apresentar as informações sobre o banco de dados\n",
    "db"
   ]
  },
  {
   "cell_type": "code",
   "execution_count": 7,
   "metadata": {},
   "outputs": [
    {
     "output_type": "execute_result",
     "data": {
      "text/plain": "['irisDump', 'megasena', 'iris', 'pessoas']"
     },
     "metadata": {},
     "execution_count": 7
    }
   ],
   "source": [
    "# Listar as coleções\n",
    "db.list_collection_names()"
   ]
  },
  {
   "cell_type": "code",
   "execution_count": 8,
   "metadata": {},
   "outputs": [],
   "source": [
    "# Selecionar a coleção\n",
    "collection = db.megasena"
   ]
  },
  {
   "cell_type": "code",
   "execution_count": 9,
   "metadata": {},
   "outputs": [
    {
     "output_type": "execute_result",
     "data": {
      "text/plain": "{'_id': ObjectId('5f23a22e9ba8313d5c24ca75'),\n 'Concurso': '1',\n 'Data Sorteio': '11/03/1996',\n '1ª Dezena': '4',\n '2ª Dezena': '5',\n '3ª Dezena': '30',\n '4ª Dezena': '33',\n '5ª Dezena': '41',\n '6ª Dezena': '52',\n 'Arrecadacao_Total': '0',\n 'Ganhadores_Sena': '0',\n 'Cidade': '\\xa0',\n 'UF': '\\xa0',\n 'Rateio_Sena': '0',\n 'Ganhadores_Quina': '17',\n 'Rateio_Quina': '39158,92',\n 'Ganhadores_Quadra': '2016',\n 'Rateio_Quadra': '330,21',\n 'Acumulado': 'SIM',\n 'Valor_Acumulado': '1714650,23',\n 'Estimativa_Prêmio': '0',\n 'Acumulado_Mega_da_Virada': '0'}"
     },
     "metadata": {},
     "execution_count": 9
    }
   ],
   "source": [
    "# Selecionar o primeiro elemento da coleção (utilizando apresentação do Jupyter Notebook)\n",
    "collection.find_one()"
   ]
  },
  {
   "cell_type": "code",
   "execution_count": 10,
   "metadata": {
    "tags": []
   },
   "outputs": [
    {
     "output_type": "stream",
     "name": "stdout",
     "text": "{'_id': ObjectId('5f23a22e9ba8313d5c24ca75'), 'Concurso': '1', 'Data Sorteio': '11/03/1996', '1ª Dezena': '4', '2ª Dezena': '5', '3ª Dezena': '30', '4ª Dezena': '33', '5ª Dezena': '41', '6ª Dezena': '52', 'Arrecadacao_Total': '0', 'Ganhadores_Sena': '0', 'Cidade': '\\xa0', 'UF': '\\xa0', 'Rateio_Sena': '0', 'Ganhadores_Quina': '17', 'Rateio_Quina': '39158,92', 'Ganhadores_Quadra': '2016', 'Rateio_Quadra': '330,21', 'Acumulado': 'SIM', 'Valor_Acumulado': '1714650,23', 'Estimativa_Prêmio': '0', 'Acumulado_Mega_da_Virada': '0'}\n"
    }
   ],
   "source": [
    "# Selecionar o primeiro documento da coleção que atenda à condição (utilizando a função print nativa do Python)\n",
    "print(collection.find_one({ \"Ganhadores_Sena\": \"0\" }))"
   ]
  },
  {
   "cell_type": "code",
   "execution_count": 11,
   "metadata": {},
   "outputs": [],
   "source": [
    "# Importação de pacote/biblioteca\n",
    "import pprint #outro pacote para imprimir"
   ]
  },
  {
   "cell_type": "code",
   "execution_count": 12,
   "metadata": {
    "tags": []
   },
   "outputs": [
    {
     "output_type": "stream",
     "name": "stdout",
     "text": "{'1ª Dezena': '4',\n '2ª Dezena': '5',\n '3ª Dezena': '30',\n '4ª Dezena': '33',\n '5ª Dezena': '41',\n '6ª Dezena': '52',\n 'Acumulado': 'SIM',\n 'Acumulado_Mega_da_Virada': '0',\n 'Arrecadacao_Total': '0',\n 'Cidade': '\\xa0',\n 'Concurso': '1',\n 'Data Sorteio': '11/03/1996',\n 'Estimativa_Prêmio': '0',\n 'Ganhadores_Quadra': '2016',\n 'Ganhadores_Quina': '17',\n 'Ganhadores_Sena': '0',\n 'Rateio_Quadra': '330,21',\n 'Rateio_Quina': '39158,92',\n 'Rateio_Sena': '0',\n 'UF': '\\xa0',\n 'Valor_Acumulado': '1714650,23',\n '_id': ObjectId('5f23a22e9ba8313d5c24ca75')}\n"
    }
   ],
   "source": [
    "# Selecionar o primeiro documento da coleção que atenda à condição (utilizando uma biblioteca de impressão com uma formatação melhor)\n",
    "pprint.pprint(collection.find_one({ \"Ganhadores_Sena\": \"0\" }))"
   ]
  },
  {
   "cell_type": "code",
   "execution_count": 13,
   "metadata": {
    "tags": []
   },
   "outputs": [
    {
     "output_type": "stream",
     "name": "stdout",
     "text": "{'1ª Dezena': '14',\n '2ª Dezena': '29',\n '3ª Dezena': '30',\n '4ª Dezena': '46',\n '5ª Dezena': '48',\n '6ª Dezena': '51',\n 'Acumulado': 'SIM',\n 'Acumulado_Mega_da_Virada': '0',\n 'Arrecadacao_Total': '0',\n 'Cidade': '\\xa0',\n 'Concurso': '100',\n 'Data Sorteio': '01/02/1998',\n 'Estimativa_Prêmio': '0',\n 'Ganhadores_Quadra': '3600',\n 'Ganhadores_Quina': '56',\n 'Ganhadores_Sena': '0',\n 'Rateio_Quadra': '247,32',\n 'Rateio_Quina': '15930,48',\n 'Rateio_Sena': '0',\n 'UF': '\\xa0',\n 'Valor_Acumulado': '8585129,47',\n '_id': ObjectId('5f23a22f9ba8313d5c24cada')}\n"
    }
   ],
   "source": [
    "# Selecionar o primeiro documento da coleção que atenda à condição (imprimindo em um formato mais bem legível)\n",
    "pprint.pprint(collection.find_one({ \"Concurso\": \"100\" }))"
   ]
  },
  {
   "cell_type": "code",
   "execution_count": 14,
   "metadata": {
    "tags": []
   },
   "outputs": [
    {
     "output_type": "stream",
     "name": "stdout",
     "text": "{'1ª Dezena': '3',\n '2ª Dezena': '7',\n '3ª Dezena': '24',\n '4ª Dezena': '32',\n '5ª Dezena': '36',\n '6ª Dezena': '45',\n 'Acumulado': 'NÃO',\n 'Acumulado_Mega_da_Virada': '0',\n 'Arrecadacao_Total': '0',\n 'Cidade': '',\n 'Concurso': '233',\n 'Data Sorteio': '19/08/2000',\n 'Estimativa_Prêmio': '0',\n 'Ganhadores_Quadra': '21452',\n 'Ganhadores_Quina': '512',\n 'Ganhadores_Sena': '5',\n 'Rateio_Quadra': '90,2',\n 'Rateio_Quina': '3790,28',\n 'Rateio_Sena': '3196547,03',\n 'UF': 'DF ',\n 'Valor_Acumulado': '0',\n '_id': ObjectId('5f23a22f9ba8313d5c24cb64')}\n{'1ª Dezena': '3',\n '2ª Dezena': '4',\n '3ª Dezena': '29',\n '4ª Dezena': '36',\n '5ª Dezena': '45',\n '6ª Dezena': '55',\n 'Acumulado': 'NÃO',\n 'Acumulado_Mega_da_Virada': '0',\n 'Arrecadacao_Total': '549326718',\n 'Cidade': 'RUSSAS ',\n 'Concurso': '1350',\n 'Data Sorteio': '31/12/2011',\n 'Estimativa_Prêmio': '2500000',\n 'Ganhadores_Quadra': '85582',\n 'Ganhadores_Quina': '954',\n 'Ganhadores_Sena': '5',\n 'Rateio_Quadra': '536,83',\n 'Rateio_Quina': '33711,3',\n 'Rateio_Sena': '35523497,52',\n 'UF': 'CE ',\n 'Valor_Acumulado': '0',\n '_id': ObjectId('5f23a22f9ba8313d5c24d02f')}\n"
    }
   ],
   "source": [
    "# Selecionar os documentos da coleção que atendam à condição e imprimir os documentos\n",
    "for documents in collection.find({ \"Ganhadores_Sena\": \"5\" }):\n",
    "    pprint.pprint(documents)"
   ]
  },
  {
   "cell_type": "code",
   "execution_count": 15,
   "metadata": {},
   "outputs": [
    {
     "output_type": "execute_result",
     "data": {
      "text/plain": "['irisDump', 'megasena', 'iris', 'pessoas']"
     },
     "metadata": {},
     "execution_count": 15
    }
   ],
   "source": [
    "# Listar as coleções\n",
    "db.list_collection_names()"
   ]
  },
  {
   "cell_type": "markdown",
   "metadata": {},
   "source": [
    "Cria um banco de dados e uma coleção"
   ]
  },
  {
   "cell_type": "code",
   "execution_count": 16,
   "metadata": {},
   "outputs": [],
   "source": [
    "# Conexão ao banco de dados\n",
    "con = pymongo.MongoClient(\"mongodb://localhost\")"
   ]
  },
  {
   "cell_type": "code",
   "execution_count": 17,
   "metadata": {},
   "outputs": [
    {
     "output_type": "execute_result",
     "data": {
      "text/plain": "['admin', 'config', 'igti', 'local']"
     },
     "metadata": {},
     "execution_count": 17
    }
   ],
   "source": [
    "# Listar os bancos de dados\n",
    "con.list_database_names()"
   ]
  },
  {
   "cell_type": "code",
   "execution_count": 18,
   "metadata": {},
   "outputs": [],
   "source": [
    "# Selecionar o banco de dados Vendas (caso não exista, o mesmo será criado)\n",
    "db = con[\"Vendas\"]"
   ]
  },
  {
   "cell_type": "code",
   "execution_count": 19,
   "metadata": {},
   "outputs": [
    {
     "output_type": "execute_result",
     "data": {
      "text/plain": "['admin', 'config', 'igti', 'local']"
     },
     "metadata": {},
     "execution_count": 19
    }
   ],
   "source": [
    "# Listar os bancos de dados\n",
    "con.list_database_names()"
   ]
  },
  {
   "cell_type": "code",
   "execution_count": 20,
   "metadata": {},
   "outputs": [],
   "source": [
    "# Selecionar a coleção clientes (caso não exista, a mesma será criada)\n",
    "colecao = db[\"clientes\"]"
   ]
  },
  {
   "cell_type": "code",
   "execution_count": 21,
   "metadata": {},
   "outputs": [
    {
     "output_type": "execute_result",
     "data": {
      "text/plain": "[]"
     },
     "metadata": {},
     "execution_count": 21
    }
   ],
   "source": [
    "# Listar as coleções\n",
    "db.list_collection_names()"
   ]
  },
  {
   "cell_type": "code",
   "execution_count": 22,
   "metadata": {},
   "outputs": [],
   "source": [
    "# Criar um novo documento em formato JSON\n",
    "documento = { \"nome\": \"maria\", \"idade\": 23}"
   ]
  },
  {
   "cell_type": "code",
   "execution_count": 23,
   "metadata": {},
   "outputs": [],
   "source": [
    "# Inserir o documento na coleção\n",
    "resultado = colecao.insert_one(documento)"
   ]
  },
  {
   "cell_type": "code",
   "execution_count": 24,
   "metadata": {
    "tags": []
   },
   "outputs": [
    {
     "output_type": "stream",
     "name": "stdout",
     "text": "<pymongo.results.InsertOneResult object at 0x000002949FAA6A88>\n"
    }
   ],
   "source": [
    "# Apresentar o resultado da inclusão\n",
    "print(resultado)"
   ]
  },
  {
   "cell_type": "code",
   "execution_count": 25,
   "metadata": {},
   "outputs": [
    {
     "output_type": "execute_result",
     "data": {
      "text/plain": "['Vendas', 'admin', 'config', 'igti', 'local']"
     },
     "metadata": {},
     "execution_count": 25
    }
   ],
   "source": [
    "# Listar os bancos de dados\n",
    "con.list_database_names()"
   ]
  },
  {
   "cell_type": "code",
   "execution_count": 26,
   "metadata": {},
   "outputs": [
    {
     "output_type": "execute_result",
     "data": {
      "text/plain": "['clientes']"
     },
     "metadata": {},
     "execution_count": 26
    }
   ],
   "source": [
    "# Listar as coleções\n",
    "db.list_collection_names()"
   ]
  },
  {
   "cell_type": "code",
   "execution_count": 27,
   "metadata": {
    "tags": []
   },
   "outputs": [
    {
     "output_type": "stream",
     "name": "stdout",
     "text": "{'_id': ObjectId('5f25f919c7aa9e287e15ce8a'), 'nome': 'maria', 'idade': 23}\n"
    }
   ],
   "source": [
    "# Listar o primeiro documento encontrado\n",
    "print(colecao.find_one())"
   ]
  },
  {
   "cell_type": "code",
   "execution_count": 28,
   "metadata": {
    "tags": []
   },
   "outputs": [
    {
     "output_type": "stream",
     "name": "stdout",
     "text": "{'_id': ObjectId('5f25f919c7aa9e287e15ce8a'), 'idade': 23, 'nome': 'maria'}\n"
    }
   ],
   "source": [
    "# Selecionar os documentos da coleção que atendam à condição e imprimir os documentos\n",
    "for resultado in colecao.find():\n",
    "    pprint.pprint(resultado)"
   ]
  },
  {
   "cell_type": "code",
   "execution_count": 29,
   "metadata": {},
   "outputs": [],
   "source": [
    "# Criar novos documentos em documento\n",
    "documento = [\n",
    "    { \"nome\": \"jorge\", \"idade\": 33 },\n",
    "    { \"nome\": \"ana\" },\n",
    "    { \"nome\": \"William\", \"endereco\": \"Avenida  Central n. 954\" },\n",
    "    { \"nome\": \"ana\", \"endereco\": \"Avenida  Central n. 954\" },\n",
    "    { \"nome\": \"William\", \"endereco\": \"Avenida  Central n. 954\" },\n",
    "    { \"nome\": \"William\" }\n",
    "]"
   ]
  },
  {
   "cell_type": "code",
   "execution_count": 30,
   "metadata": {
    "tags": []
   },
   "outputs": [
    {
     "output_type": "stream",
     "name": "stdout",
     "text": "[{'idade': 33, 'nome': 'jorge'},\n {'nome': 'ana'},\n {'endereco': 'Avenida  Central n. 954', 'nome': 'William'},\n {'endereco': 'Avenida  Central n. 954', 'nome': 'ana'},\n {'endereco': 'Avenida  Central n. 954', 'nome': 'William'},\n {'nome': 'William'}]\n"
    }
   ],
   "source": [
    "# Apresentar o conteúdo dos documentos\n",
    "pprint.pprint(documento)"
   ]
  },
  {
   "cell_type": "code",
   "execution_count": 31,
   "metadata": {},
   "outputs": [],
   "source": [
    "# Inserir os documentos na coleção\n",
    "resultado = colecao.insert_many(documento)"
   ]
  },
  {
   "cell_type": "code",
   "execution_count": 32,
   "metadata": {
    "tags": []
   },
   "outputs": [
    {
     "output_type": "stream",
     "name": "stdout",
     "text": "<pymongo.results.InsertManyResult object at 0x000002949FA86D48>\n"
    }
   ],
   "source": [
    "# Apresentar o resultado da inclusão\n",
    "print(resultado)"
   ]
  },
  {
   "cell_type": "code",
   "execution_count": 33,
   "metadata": {
    "tags": []
   },
   "outputs": [
    {
     "output_type": "stream",
     "name": "stdout",
     "text": "{'_id': ObjectId('5f25f919c7aa9e287e15ce8a'), 'idade': 23, 'nome': 'maria'}\n{'_id': ObjectId('5f25f9ddc7aa9e287e15ce8b'), 'idade': 33, 'nome': 'jorge'}\n{'_id': ObjectId('5f25f9ddc7aa9e287e15ce8c'), 'nome': 'ana'}\n{'_id': ObjectId('5f25f9ddc7aa9e287e15ce8d'),\n 'endereco': 'Avenida  Central n. 954',\n 'nome': 'William'}\n{'_id': ObjectId('5f25f9ddc7aa9e287e15ce8e'),\n 'endereco': 'Avenida  Central n. 954',\n 'nome': 'ana'}\n{'_id': ObjectId('5f25f9ddc7aa9e287e15ce8f'),\n 'endereco': 'Avenida  Central n. 954',\n 'nome': 'William'}\n{'_id': ObjectId('5f25f9ddc7aa9e287e15ce90'), 'nome': 'William'}\n"
    }
   ],
   "source": [
    "# Selecionar todos os documentos da coleção e imprimir os documentos\n",
    "for resultado in colecao.find():\n",
    "    pprint.pprint(resultado)"
   ]
  },
  {
   "cell_type": "code",
   "execution_count": 34,
   "metadata": {},
   "outputs": [
    {
     "output_type": "execute_result",
     "data": {
      "text/plain": "<pymongo.results.UpdateResult at 0x294a2732c48>"
     },
     "metadata": {},
     "execution_count": 34
    }
   ],
   "source": [
    "# Alterar o primeiro documento da coleção que atenda à condição\n",
    "condicao = { 'nome': 'ana' }\n",
    "valor = { \"$set\": { \"logradouro\": \"Avenida JK\", \"num\": 345 } }\n",
    "\n",
    "colecao.update_one(condicao, valor)"
   ]
  },
  {
   "cell_type": "code",
   "execution_count": 35,
   "metadata": {
    "tags": []
   },
   "outputs": [
    {
     "output_type": "stream",
     "name": "stdout",
     "text": "{'_id': ObjectId('5f25f919c7aa9e287e15ce8a'), 'idade': 23, 'nome': 'maria'}\n{'_id': ObjectId('5f25f9ddc7aa9e287e15ce8b'), 'idade': 33, 'nome': 'jorge'}\n{'_id': ObjectId('5f25f9ddc7aa9e287e15ce8c'),\n 'logradouro': 'Avenida JK',\n 'nome': 'ana',\n 'num': 345}\n{'_id': ObjectId('5f25f9ddc7aa9e287e15ce8d'),\n 'endereco': 'Avenida  Central n. 954',\n 'nome': 'William'}\n{'_id': ObjectId('5f25f9ddc7aa9e287e15ce8e'),\n 'endereco': 'Avenida  Central n. 954',\n 'nome': 'ana'}\n{'_id': ObjectId('5f25f9ddc7aa9e287e15ce8f'),\n 'endereco': 'Avenida  Central n. 954',\n 'nome': 'William'}\n{'_id': ObjectId('5f25f9ddc7aa9e287e15ce90'), 'nome': 'William'}\n"
    }
   ],
   "source": [
    "# Selecionar todos os documentos da coleção e imprimir os documentos\n",
    "for resultado in colecao.find():\n",
    "    pprint.pprint(resultado)"
   ]
  },
  {
   "cell_type": "code",
   "execution_count": 36,
   "metadata": {
    "tags": []
   },
   "outputs": [
    {
     "output_type": "stream",
     "name": "stdout",
     "text": "{'_id': ObjectId('5f25f9ddc7aa9e287e15ce8c'),\n 'logradouro': 'Avenida JK',\n 'nome': 'ana',\n 'num': 345}\n{'_id': ObjectId('5f25f9ddc7aa9e287e15ce8e'),\n 'endereco': 'Avenida  Central n. 954',\n 'nome': 'ana'}\n"
    }
   ],
   "source": [
    "# Selecionar todos os documentos da coleção que atendam à condição e imprimir os documentos\n",
    "for resultado in colecao.find({ 'nome': 'ana' }):\n",
    "    pprint.pprint(resultado)"
   ]
  },
  {
   "cell_type": "code",
   "execution_count": 37,
   "metadata": {},
   "outputs": [
    {
     "output_type": "execute_result",
     "data": {
      "text/plain": "<pymongo.results.UpdateResult at 0x294a2168948>"
     },
     "metadata": {},
     "execution_count": 37
    }
   ],
   "source": [
    "# Alterar todos os documentos da coleção que atendam à condição\n",
    "condicao = { 'nome': 'ana' }\n",
    "valor = { \"$set\": { \"logradouro\": \"Avenida JK\", \"num\": 345 } }\n",
    "\n",
    "colecao.update_many(condicao, valor)"
   ]
  },
  {
   "cell_type": "code",
   "execution_count": 38,
   "metadata": {
    "tags": []
   },
   "outputs": [
    {
     "output_type": "stream",
     "name": "stdout",
     "text": "{'_id': ObjectId('5f25f9ddc7aa9e287e15ce8c'),\n 'logradouro': 'Avenida JK',\n 'nome': 'ana',\n 'num': 345}\n{'_id': ObjectId('5f25f9ddc7aa9e287e15ce8e'),\n 'endereco': 'Avenida  Central n. 954',\n 'logradouro': 'Avenida JK',\n 'nome': 'ana',\n 'num': 345}\n"
    }
   ],
   "source": [
    "# Selecionar todos os documentos da coleção que atendam à condição e imprimir os documentos\n",
    "for resultado in colecao.find({ 'nome': 'ana' }):\n",
    "    pprint.pprint(resultado)"
   ]
  },
  {
   "cell_type": "code",
   "execution_count": 40,
   "metadata": {},
   "outputs": [
    {
     "output_type": "execute_result",
     "data": {
      "text/plain": "<pymongo.results.DeleteResult at 0x294a208d1c8>"
     },
     "metadata": {},
     "execution_count": 40
    }
   ],
   "source": [
    "# Excluir o primeiro documento da coleção que atenda à condição\n",
    "condicao = { 'nome': 'William' }\n",
    "\n",
    "colecao.delete_one(condicao)"
   ]
  },
  {
   "cell_type": "code",
   "execution_count": 41,
   "metadata": {
    "tags": []
   },
   "outputs": [
    {
     "output_type": "stream",
     "name": "stdout",
     "text": "{'_id': ObjectId('5f25f9ddc7aa9e287e15ce8f'),\n 'endereco': 'Avenida  Central n. 954',\n 'nome': 'William'}\n{'_id': ObjectId('5f25f9ddc7aa9e287e15ce90'), 'nome': 'William'}\n"
    }
   ],
   "source": [
    "# Selecionar todos os documentos da coleção que atendam à condição e imprimir os documentos\n",
    "for resultado in colecao.find({ 'nome': 'William' }):\n",
    "    pprint.pprint(resultado)"
   ]
  },
  {
   "cell_type": "code",
   "execution_count": 42,
   "metadata": {},
   "outputs": [
    {
     "output_type": "execute_result",
     "data": {
      "text/plain": "<pymongo.results.DeleteResult at 0x294a239d9c8>"
     },
     "metadata": {},
     "execution_count": 42
    }
   ],
   "source": [
    "# Excluir todos os documentos da coleção que atendam à condição\n",
    "condicao = { 'nome': 'William' }\n",
    "\n",
    "colecao.delete_many(condicao)"
   ]
  },
  {
   "cell_type": "code",
   "execution_count": 43,
   "metadata": {},
   "outputs": [],
   "source": [
    "# Selecionar todos os documentos da coleção que atendam à condição e imprimir os documentos\n",
    "for resultado in colecao.find({ 'nome': 'William' }):\n",
    "    pprint.pprint(resultado)"
   ]
  },
  {
   "cell_type": "code",
   "execution_count": 44,
   "metadata": {
    "tags": []
   },
   "outputs": [
    {
     "output_type": "stream",
     "name": "stdout",
     "text": "{'_id': ObjectId('5f25f919c7aa9e287e15ce8a'), 'idade': 23, 'nome': 'maria'}\n{'_id': ObjectId('5f25f9ddc7aa9e287e15ce8b'), 'idade': 33, 'nome': 'jorge'}\n{'_id': ObjectId('5f25f9ddc7aa9e287e15ce8c'),\n 'logradouro': 'Avenida JK',\n 'nome': 'ana',\n 'num': 345}\n{'_id': ObjectId('5f25f9ddc7aa9e287e15ce8e'),\n 'endereco': 'Avenida  Central n. 954',\n 'logradouro': 'Avenida JK',\n 'nome': 'ana',\n 'num': 345}\n"
    }
   ],
   "source": [
    "# Selecionar todos os documentos da coleção e imprimir os documentos\n",
    "for resultado in colecao.find():\n",
    "    pprint.pprint(resultado)"
   ]
  }
 ]
}