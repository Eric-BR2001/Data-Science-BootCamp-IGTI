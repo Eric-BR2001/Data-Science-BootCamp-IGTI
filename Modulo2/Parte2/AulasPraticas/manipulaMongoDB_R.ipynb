{
 "cells": [
  {
   "cell_type": "markdown",
   "metadata": {},
   "source": [
    "# Coleta de Dados no MongoDB com R"
   ]
  },
  {
   "cell_type": "markdown",
   "metadata": {},
   "source": [
    "Para detalhes sobre o pacote mongolite, acesse:\n",
    "\n",
    "- https://cran.r-project.org/web/packages/mongolite/index.html"
   ]
  },
  {
   "cell_type": "code",
   "execution_count": 1,
   "metadata": {},
   "outputs": [
    {
     "name": "stdout",
     "output_type": "stream",
     "text": [
      "package 'mongolite' successfully unpacked and MD5 sums checked\n",
      "\n",
      "The downloaded binary packages are in\n",
      "\tC:\\Users\\USUARIO\\AppData\\Local\\Temp\\RtmpmA7DAt\\downloaded_packages\n"
     ]
    }
   ],
   "source": [
    "# Instalação das bibliotecas\n",
    "install.packages('mongolite')"
   ]
  },
  {
   "cell_type": "code",
   "execution_count": 2,
   "metadata": {},
   "outputs": [
    {
     "name": "stderr",
     "output_type": "stream",
     "text": [
      "Loading required package: mongolite\n",
      "Warning message:\n",
      "\"package 'mongolite' was built under R version 3.6.3\""
     ]
    }
   ],
   "source": [
    "# Importação de bibliotecas\n",
    "require(mongolite)"
   ]
  },
  {
   "cell_type": "markdown",
   "metadata": {},
   "source": [
    "**OBSERVAÇÃO:** A mensagem de erro abaixo indica que você não tem o pacote RMongo instalado\n",
    "\n",
    "Loading required package: mongolite Warning message in library(package, lib.doc=lib.doc, character.only=TRUE, logical.return=TRUE): \"there is no package called 'mongolite'\"\n",
    "\n",
    "**Para instalar, execute o comando abaixo:**\n",
    "\n",
    "- install.packages('mongolite')"
   ]
  },
  {
   "cell_type": "code",
   "execution_count": 3,
   "metadata": {},
   "outputs": [
    {
     "name": "stderr",
     "output_type": "stream",
     "text": [
      "Registered S3 method overwritten by 'openssl':\n",
      "  method      from\n",
      "  print.bytes Rcpp\n"
     ]
    }
   ],
   "source": [
    "# Conecta ao SGBD MongoDB\n",
    "connection <- mongo(collection=\"megasena\", db=\"igti\", url=\"mongodb://localhost\")"
   ]
  },
  {
   "cell_type": "code",
   "execution_count": 4,
   "metadata": {},
   "outputs": [],
   "source": [
    "# Filtra por ganhadores da sena\n",
    "query <- connection$find('{ \"Ganhadores_Sena\": \"1\" }')"
   ]
  },
  {
   "cell_type": "code",
   "execution_count": 5,
   "metadata": {},
   "outputs": [],
   "source": [
    "# Seleciona o campo rateio da sena\n",
    "exam_scores <- query[c(\"Rateio_Sena\")]"
   ]
  },
  {
   "cell_type": "code",
   "execution_count": 6,
   "metadata": {},
   "outputs": [
    {
     "data": {
      "text/plain": [
       " Rateio_Sena       \n",
       " Length:327        \n",
       " Class :character  \n",
       " Mode  :character  "
      ]
     },
     "metadata": {},
     "output_type": "display_data"
    }
   ],
   "source": [
    "# Visualiza a sumarização do campo para todos os documentos\n",
    "summary(exam_scores)"
   ]
  },
  {
   "cell_type": "markdown",
   "metadata": {},
   "source": [
    "### Ler a coleção Iris no arquivo CSV e inserir no MongoDB"
   ]
  },
  {
   "cell_type": "code",
   "execution_count": 7,
   "metadata": {},
   "outputs": [],
   "source": [
    "# Carrega o conjunto de dados iris.csv (pode ser obtido pelo seguinte link: https://gist.githubusercontent.com/netj/8836201/raw/6f9306ad21398ea43cba4f7d537619d0e07d5ae3/iris.csv)\n",
    "iris <- read.csv(\"C:/Users/USUARIO/Downloads/IGTI/Bootcamp Online - Cientista de Dados/3_Modulo2_Coleta_e_Obtencao_de_Dados/Parte2/AulasPraticas/dados/iris.csv\")"
   ]
  },
  {
   "cell_type": "code",
   "execution_count": 8,
   "metadata": {},
   "outputs": [
    {
     "data": {
      "text/html": [
       "<table>\n",
       "<thead><tr><th scope=col>sepal.length</th><th scope=col>sepal.width</th><th scope=col>petal.length</th><th scope=col>petal.width</th><th scope=col>variety</th></tr></thead>\n",
       "<tbody>\n",
       "\t<tr><td>5.1   </td><td>3.5   </td><td>1.4   </td><td>0.2   </td><td>Setosa</td></tr>\n",
       "\t<tr><td>4.9   </td><td>3.0   </td><td>1.4   </td><td>0.2   </td><td>Setosa</td></tr>\n",
       "\t<tr><td>4.7   </td><td>3.2   </td><td>1.3   </td><td>0.2   </td><td>Setosa</td></tr>\n",
       "\t<tr><td>4.6   </td><td>3.1   </td><td>1.5   </td><td>0.2   </td><td>Setosa</td></tr>\n",
       "\t<tr><td>5.0   </td><td>3.6   </td><td>1.4   </td><td>0.2   </td><td>Setosa</td></tr>\n",
       "\t<tr><td>5.4   </td><td>3.9   </td><td>1.7   </td><td>0.4   </td><td>Setosa</td></tr>\n",
       "\t<tr><td>4.6   </td><td>3.4   </td><td>1.4   </td><td>0.3   </td><td>Setosa</td></tr>\n",
       "\t<tr><td>5.0   </td><td>3.4   </td><td>1.5   </td><td>0.2   </td><td>Setosa</td></tr>\n",
       "\t<tr><td>4.4   </td><td>2.9   </td><td>1.4   </td><td>0.2   </td><td>Setosa</td></tr>\n",
       "\t<tr><td>4.9   </td><td>3.1   </td><td>1.5   </td><td>0.1   </td><td>Setosa</td></tr>\n",
       "\t<tr><td>5.4   </td><td>3.7   </td><td>1.5   </td><td>0.2   </td><td>Setosa</td></tr>\n",
       "\t<tr><td>4.8   </td><td>3.4   </td><td>1.6   </td><td>0.2   </td><td>Setosa</td></tr>\n",
       "\t<tr><td>4.8   </td><td>3.0   </td><td>1.4   </td><td>0.1   </td><td>Setosa</td></tr>\n",
       "\t<tr><td>4.3   </td><td>3.0   </td><td>1.1   </td><td>0.1   </td><td>Setosa</td></tr>\n",
       "\t<tr><td>5.8   </td><td>4.0   </td><td>1.2   </td><td>0.2   </td><td>Setosa</td></tr>\n",
       "\t<tr><td>5.7   </td><td>4.4   </td><td>1.5   </td><td>0.4   </td><td>Setosa</td></tr>\n",
       "\t<tr><td>5.4   </td><td>3.9   </td><td>1.3   </td><td>0.4   </td><td>Setosa</td></tr>\n",
       "\t<tr><td>5.1   </td><td>3.5   </td><td>1.4   </td><td>0.3   </td><td>Setosa</td></tr>\n",
       "\t<tr><td>5.7   </td><td>3.8   </td><td>1.7   </td><td>0.3   </td><td>Setosa</td></tr>\n",
       "\t<tr><td>5.1   </td><td>3.8   </td><td>1.5   </td><td>0.3   </td><td>Setosa</td></tr>\n",
       "\t<tr><td>5.4   </td><td>3.4   </td><td>1.7   </td><td>0.2   </td><td>Setosa</td></tr>\n",
       "\t<tr><td>5.1   </td><td>3.7   </td><td>1.5   </td><td>0.4   </td><td>Setosa</td></tr>\n",
       "\t<tr><td>4.6   </td><td>3.6   </td><td>1.0   </td><td>0.2   </td><td>Setosa</td></tr>\n",
       "\t<tr><td>5.1   </td><td>3.3   </td><td>1.7   </td><td>0.5   </td><td>Setosa</td></tr>\n",
       "\t<tr><td>4.8   </td><td>3.4   </td><td>1.9   </td><td>0.2   </td><td>Setosa</td></tr>\n",
       "\t<tr><td>5.0   </td><td>3.0   </td><td>1.6   </td><td>0.2   </td><td>Setosa</td></tr>\n",
       "\t<tr><td>5.0   </td><td>3.4   </td><td>1.6   </td><td>0.4   </td><td>Setosa</td></tr>\n",
       "\t<tr><td>5.2   </td><td>3.5   </td><td>1.5   </td><td>0.2   </td><td>Setosa</td></tr>\n",
       "\t<tr><td>5.2   </td><td>3.4   </td><td>1.4   </td><td>0.2   </td><td>Setosa</td></tr>\n",
       "\t<tr><td>4.7   </td><td>3.2   </td><td>1.6   </td><td>0.2   </td><td>Setosa</td></tr>\n",
       "\t<tr><td>...</td><td>...</td><td>...</td><td>...</td><td>...</td></tr>\n",
       "\t<tr><td>6.9      </td><td>3.2      </td><td>5.7      </td><td>2.3      </td><td>Virginica</td></tr>\n",
       "\t<tr><td>5.6      </td><td>2.8      </td><td>4.9      </td><td>2.0      </td><td>Virginica</td></tr>\n",
       "\t<tr><td>7.7      </td><td>2.8      </td><td>6.7      </td><td>2.0      </td><td>Virginica</td></tr>\n",
       "\t<tr><td>6.3      </td><td>2.7      </td><td>4.9      </td><td>1.8      </td><td>Virginica</td></tr>\n",
       "\t<tr><td>6.7      </td><td>3.3      </td><td>5.7      </td><td>2.1      </td><td>Virginica</td></tr>\n",
       "\t<tr><td>7.2      </td><td>3.2      </td><td>6.0      </td><td>1.8      </td><td>Virginica</td></tr>\n",
       "\t<tr><td>6.2      </td><td>2.8      </td><td>4.8      </td><td>1.8      </td><td>Virginica</td></tr>\n",
       "\t<tr><td>6.1      </td><td>3.0      </td><td>4.9      </td><td>1.8      </td><td>Virginica</td></tr>\n",
       "\t<tr><td>6.4      </td><td>2.8      </td><td>5.6      </td><td>2.1      </td><td>Virginica</td></tr>\n",
       "\t<tr><td>7.2      </td><td>3.0      </td><td>5.8      </td><td>1.6      </td><td>Virginica</td></tr>\n",
       "\t<tr><td>7.4      </td><td>2.8      </td><td>6.1      </td><td>1.9      </td><td>Virginica</td></tr>\n",
       "\t<tr><td>7.9      </td><td>3.8      </td><td>6.4      </td><td>2.0      </td><td>Virginica</td></tr>\n",
       "\t<tr><td>6.4      </td><td>2.8      </td><td>5.6      </td><td>2.2      </td><td>Virginica</td></tr>\n",
       "\t<tr><td>6.3      </td><td>2.8      </td><td>5.1      </td><td>1.5      </td><td>Virginica</td></tr>\n",
       "\t<tr><td>6.1      </td><td>2.6      </td><td>5.6      </td><td>1.4      </td><td>Virginica</td></tr>\n",
       "\t<tr><td>7.7      </td><td>3.0      </td><td>6.1      </td><td>2.3      </td><td>Virginica</td></tr>\n",
       "\t<tr><td>6.3      </td><td>3.4      </td><td>5.6      </td><td>2.4      </td><td>Virginica</td></tr>\n",
       "\t<tr><td>6.4      </td><td>3.1      </td><td>5.5      </td><td>1.8      </td><td>Virginica</td></tr>\n",
       "\t<tr><td>6.0      </td><td>3.0      </td><td>4.8      </td><td>1.8      </td><td>Virginica</td></tr>\n",
       "\t<tr><td>6.9      </td><td>3.1      </td><td>5.4      </td><td>2.1      </td><td>Virginica</td></tr>\n",
       "\t<tr><td>6.7      </td><td>3.1      </td><td>5.6      </td><td>2.4      </td><td>Virginica</td></tr>\n",
       "\t<tr><td>6.9      </td><td>3.1      </td><td>5.1      </td><td>2.3      </td><td>Virginica</td></tr>\n",
       "\t<tr><td>5.8      </td><td>2.7      </td><td>5.1      </td><td>1.9      </td><td>Virginica</td></tr>\n",
       "\t<tr><td>6.8      </td><td>3.2      </td><td>5.9      </td><td>2.3      </td><td>Virginica</td></tr>\n",
       "\t<tr><td>6.7      </td><td>3.3      </td><td>5.7      </td><td>2.5      </td><td>Virginica</td></tr>\n",
       "\t<tr><td>6.7      </td><td>3.0      </td><td>5.2      </td><td>2.3      </td><td>Virginica</td></tr>\n",
       "\t<tr><td>6.3      </td><td>2.5      </td><td>5.0      </td><td>1.9      </td><td>Virginica</td></tr>\n",
       "\t<tr><td>6.5      </td><td>3.0      </td><td>5.2      </td><td>2.0      </td><td>Virginica</td></tr>\n",
       "\t<tr><td>6.2      </td><td>3.4      </td><td>5.4      </td><td>2.3      </td><td>Virginica</td></tr>\n",
       "\t<tr><td>5.9      </td><td>3.0      </td><td>5.1      </td><td>1.8      </td><td>Virginica</td></tr>\n",
       "</tbody>\n",
       "</table>\n"
      ],
      "text/latex": [
       "\\begin{tabular}{r|lllll}\n",
       " sepal.length & sepal.width & petal.length & petal.width & variety\\\\\n",
       "\\hline\n",
       "\t 5.1    & 3.5    & 1.4    & 0.2    & Setosa\\\\\n",
       "\t 4.9    & 3.0    & 1.4    & 0.2    & Setosa\\\\\n",
       "\t 4.7    & 3.2    & 1.3    & 0.2    & Setosa\\\\\n",
       "\t 4.6    & 3.1    & 1.5    & 0.2    & Setosa\\\\\n",
       "\t 5.0    & 3.6    & 1.4    & 0.2    & Setosa\\\\\n",
       "\t 5.4    & 3.9    & 1.7    & 0.4    & Setosa\\\\\n",
       "\t 4.6    & 3.4    & 1.4    & 0.3    & Setosa\\\\\n",
       "\t 5.0    & 3.4    & 1.5    & 0.2    & Setosa\\\\\n",
       "\t 4.4    & 2.9    & 1.4    & 0.2    & Setosa\\\\\n",
       "\t 4.9    & 3.1    & 1.5    & 0.1    & Setosa\\\\\n",
       "\t 5.4    & 3.7    & 1.5    & 0.2    & Setosa\\\\\n",
       "\t 4.8    & 3.4    & 1.6    & 0.2    & Setosa\\\\\n",
       "\t 4.8    & 3.0    & 1.4    & 0.1    & Setosa\\\\\n",
       "\t 4.3    & 3.0    & 1.1    & 0.1    & Setosa\\\\\n",
       "\t 5.8    & 4.0    & 1.2    & 0.2    & Setosa\\\\\n",
       "\t 5.7    & 4.4    & 1.5    & 0.4    & Setosa\\\\\n",
       "\t 5.4    & 3.9    & 1.3    & 0.4    & Setosa\\\\\n",
       "\t 5.1    & 3.5    & 1.4    & 0.3    & Setosa\\\\\n",
       "\t 5.7    & 3.8    & 1.7    & 0.3    & Setosa\\\\\n",
       "\t 5.1    & 3.8    & 1.5    & 0.3    & Setosa\\\\\n",
       "\t 5.4    & 3.4    & 1.7    & 0.2    & Setosa\\\\\n",
       "\t 5.1    & 3.7    & 1.5    & 0.4    & Setosa\\\\\n",
       "\t 4.6    & 3.6    & 1.0    & 0.2    & Setosa\\\\\n",
       "\t 5.1    & 3.3    & 1.7    & 0.5    & Setosa\\\\\n",
       "\t 4.8    & 3.4    & 1.9    & 0.2    & Setosa\\\\\n",
       "\t 5.0    & 3.0    & 1.6    & 0.2    & Setosa\\\\\n",
       "\t 5.0    & 3.4    & 1.6    & 0.4    & Setosa\\\\\n",
       "\t 5.2    & 3.5    & 1.5    & 0.2    & Setosa\\\\\n",
       "\t 5.2    & 3.4    & 1.4    & 0.2    & Setosa\\\\\n",
       "\t 4.7    & 3.2    & 1.6    & 0.2    & Setosa\\\\\n",
       "\t ... & ... & ... & ... & ...\\\\\n",
       "\t 6.9       & 3.2       & 5.7       & 2.3       & Virginica\\\\\n",
       "\t 5.6       & 2.8       & 4.9       & 2.0       & Virginica\\\\\n",
       "\t 7.7       & 2.8       & 6.7       & 2.0       & Virginica\\\\\n",
       "\t 6.3       & 2.7       & 4.9       & 1.8       & Virginica\\\\\n",
       "\t 6.7       & 3.3       & 5.7       & 2.1       & Virginica\\\\\n",
       "\t 7.2       & 3.2       & 6.0       & 1.8       & Virginica\\\\\n",
       "\t 6.2       & 2.8       & 4.8       & 1.8       & Virginica\\\\\n",
       "\t 6.1       & 3.0       & 4.9       & 1.8       & Virginica\\\\\n",
       "\t 6.4       & 2.8       & 5.6       & 2.1       & Virginica\\\\\n",
       "\t 7.2       & 3.0       & 5.8       & 1.6       & Virginica\\\\\n",
       "\t 7.4       & 2.8       & 6.1       & 1.9       & Virginica\\\\\n",
       "\t 7.9       & 3.8       & 6.4       & 2.0       & Virginica\\\\\n",
       "\t 6.4       & 2.8       & 5.6       & 2.2       & Virginica\\\\\n",
       "\t 6.3       & 2.8       & 5.1       & 1.5       & Virginica\\\\\n",
       "\t 6.1       & 2.6       & 5.6       & 1.4       & Virginica\\\\\n",
       "\t 7.7       & 3.0       & 6.1       & 2.3       & Virginica\\\\\n",
       "\t 6.3       & 3.4       & 5.6       & 2.4       & Virginica\\\\\n",
       "\t 6.4       & 3.1       & 5.5       & 1.8       & Virginica\\\\\n",
       "\t 6.0       & 3.0       & 4.8       & 1.8       & Virginica\\\\\n",
       "\t 6.9       & 3.1       & 5.4       & 2.1       & Virginica\\\\\n",
       "\t 6.7       & 3.1       & 5.6       & 2.4       & Virginica\\\\\n",
       "\t 6.9       & 3.1       & 5.1       & 2.3       & Virginica\\\\\n",
       "\t 5.8       & 2.7       & 5.1       & 1.9       & Virginica\\\\\n",
       "\t 6.8       & 3.2       & 5.9       & 2.3       & Virginica\\\\\n",
       "\t 6.7       & 3.3       & 5.7       & 2.5       & Virginica\\\\\n",
       "\t 6.7       & 3.0       & 5.2       & 2.3       & Virginica\\\\\n",
       "\t 6.3       & 2.5       & 5.0       & 1.9       & Virginica\\\\\n",
       "\t 6.5       & 3.0       & 5.2       & 2.0       & Virginica\\\\\n",
       "\t 6.2       & 3.4       & 5.4       & 2.3       & Virginica\\\\\n",
       "\t 5.9       & 3.0       & 5.1       & 1.8       & Virginica\\\\\n",
       "\\end{tabular}\n"
      ],
      "text/markdown": [
       "\n",
       "| sepal.length | sepal.width | petal.length | petal.width | variety |\n",
       "|---|---|---|---|---|\n",
       "| 5.1    | 3.5    | 1.4    | 0.2    | Setosa |\n",
       "| 4.9    | 3.0    | 1.4    | 0.2    | Setosa |\n",
       "| 4.7    | 3.2    | 1.3    | 0.2    | Setosa |\n",
       "| 4.6    | 3.1    | 1.5    | 0.2    | Setosa |\n",
       "| 5.0    | 3.6    | 1.4    | 0.2    | Setosa |\n",
       "| 5.4    | 3.9    | 1.7    | 0.4    | Setosa |\n",
       "| 4.6    | 3.4    | 1.4    | 0.3    | Setosa |\n",
       "| 5.0    | 3.4    | 1.5    | 0.2    | Setosa |\n",
       "| 4.4    | 2.9    | 1.4    | 0.2    | Setosa |\n",
       "| 4.9    | 3.1    | 1.5    | 0.1    | Setosa |\n",
       "| 5.4    | 3.7    | 1.5    | 0.2    | Setosa |\n",
       "| 4.8    | 3.4    | 1.6    | 0.2    | Setosa |\n",
       "| 4.8    | 3.0    | 1.4    | 0.1    | Setosa |\n",
       "| 4.3    | 3.0    | 1.1    | 0.1    | Setosa |\n",
       "| 5.8    | 4.0    | 1.2    | 0.2    | Setosa |\n",
       "| 5.7    | 4.4    | 1.5    | 0.4    | Setosa |\n",
       "| 5.4    | 3.9    | 1.3    | 0.4    | Setosa |\n",
       "| 5.1    | 3.5    | 1.4    | 0.3    | Setosa |\n",
       "| 5.7    | 3.8    | 1.7    | 0.3    | Setosa |\n",
       "| 5.1    | 3.8    | 1.5    | 0.3    | Setosa |\n",
       "| 5.4    | 3.4    | 1.7    | 0.2    | Setosa |\n",
       "| 5.1    | 3.7    | 1.5    | 0.4    | Setosa |\n",
       "| 4.6    | 3.6    | 1.0    | 0.2    | Setosa |\n",
       "| 5.1    | 3.3    | 1.7    | 0.5    | Setosa |\n",
       "| 4.8    | 3.4    | 1.9    | 0.2    | Setosa |\n",
       "| 5.0    | 3.0    | 1.6    | 0.2    | Setosa |\n",
       "| 5.0    | 3.4    | 1.6    | 0.4    | Setosa |\n",
       "| 5.2    | 3.5    | 1.5    | 0.2    | Setosa |\n",
       "| 5.2    | 3.4    | 1.4    | 0.2    | Setosa |\n",
       "| 4.7    | 3.2    | 1.6    | 0.2    | Setosa |\n",
       "| ... | ... | ... | ... | ... |\n",
       "| 6.9       | 3.2       | 5.7       | 2.3       | Virginica |\n",
       "| 5.6       | 2.8       | 4.9       | 2.0       | Virginica |\n",
       "| 7.7       | 2.8       | 6.7       | 2.0       | Virginica |\n",
       "| 6.3       | 2.7       | 4.9       | 1.8       | Virginica |\n",
       "| 6.7       | 3.3       | 5.7       | 2.1       | Virginica |\n",
       "| 7.2       | 3.2       | 6.0       | 1.8       | Virginica |\n",
       "| 6.2       | 2.8       | 4.8       | 1.8       | Virginica |\n",
       "| 6.1       | 3.0       | 4.9       | 1.8       | Virginica |\n",
       "| 6.4       | 2.8       | 5.6       | 2.1       | Virginica |\n",
       "| 7.2       | 3.0       | 5.8       | 1.6       | Virginica |\n",
       "| 7.4       | 2.8       | 6.1       | 1.9       | Virginica |\n",
       "| 7.9       | 3.8       | 6.4       | 2.0       | Virginica |\n",
       "| 6.4       | 2.8       | 5.6       | 2.2       | Virginica |\n",
       "| 6.3       | 2.8       | 5.1       | 1.5       | Virginica |\n",
       "| 6.1       | 2.6       | 5.6       | 1.4       | Virginica |\n",
       "| 7.7       | 3.0       | 6.1       | 2.3       | Virginica |\n",
       "| 6.3       | 3.4       | 5.6       | 2.4       | Virginica |\n",
       "| 6.4       | 3.1       | 5.5       | 1.8       | Virginica |\n",
       "| 6.0       | 3.0       | 4.8       | 1.8       | Virginica |\n",
       "| 6.9       | 3.1       | 5.4       | 2.1       | Virginica |\n",
       "| 6.7       | 3.1       | 5.6       | 2.4       | Virginica |\n",
       "| 6.9       | 3.1       | 5.1       | 2.3       | Virginica |\n",
       "| 5.8       | 2.7       | 5.1       | 1.9       | Virginica |\n",
       "| 6.8       | 3.2       | 5.9       | 2.3       | Virginica |\n",
       "| 6.7       | 3.3       | 5.7       | 2.5       | Virginica |\n",
       "| 6.7       | 3.0       | 5.2       | 2.3       | Virginica |\n",
       "| 6.3       | 2.5       | 5.0       | 1.9       | Virginica |\n",
       "| 6.5       | 3.0       | 5.2       | 2.0       | Virginica |\n",
       "| 6.2       | 3.4       | 5.4       | 2.3       | Virginica |\n",
       "| 5.9       | 3.0       | 5.1       | 1.8       | Virginica |\n",
       "\n"
      ],
      "text/plain": [
       "    sepal.length sepal.width petal.length petal.width variety  \n",
       "1   5.1          3.5         1.4          0.2         Setosa   \n",
       "2   4.9          3.0         1.4          0.2         Setosa   \n",
       "3   4.7          3.2         1.3          0.2         Setosa   \n",
       "4   4.6          3.1         1.5          0.2         Setosa   \n",
       "5   5.0          3.6         1.4          0.2         Setosa   \n",
       "6   5.4          3.9         1.7          0.4         Setosa   \n",
       "7   4.6          3.4         1.4          0.3         Setosa   \n",
       "8   5.0          3.4         1.5          0.2         Setosa   \n",
       "9   4.4          2.9         1.4          0.2         Setosa   \n",
       "10  4.9          3.1         1.5          0.1         Setosa   \n",
       "11  5.4          3.7         1.5          0.2         Setosa   \n",
       "12  4.8          3.4         1.6          0.2         Setosa   \n",
       "13  4.8          3.0         1.4          0.1         Setosa   \n",
       "14  4.3          3.0         1.1          0.1         Setosa   \n",
       "15  5.8          4.0         1.2          0.2         Setosa   \n",
       "16  5.7          4.4         1.5          0.4         Setosa   \n",
       "17  5.4          3.9         1.3          0.4         Setosa   \n",
       "18  5.1          3.5         1.4          0.3         Setosa   \n",
       "19  5.7          3.8         1.7          0.3         Setosa   \n",
       "20  5.1          3.8         1.5          0.3         Setosa   \n",
       "21  5.4          3.4         1.7          0.2         Setosa   \n",
       "22  5.1          3.7         1.5          0.4         Setosa   \n",
       "23  4.6          3.6         1.0          0.2         Setosa   \n",
       "24  5.1          3.3         1.7          0.5         Setosa   \n",
       "25  4.8          3.4         1.9          0.2         Setosa   \n",
       "26  5.0          3.0         1.6          0.2         Setosa   \n",
       "27  5.0          3.4         1.6          0.4         Setosa   \n",
       "28  5.2          3.5         1.5          0.2         Setosa   \n",
       "29  5.2          3.4         1.4          0.2         Setosa   \n",
       "30  4.7          3.2         1.6          0.2         Setosa   \n",
       "... ...          ...         ...          ...         ...      \n",
       "121 6.9          3.2         5.7          2.3         Virginica\n",
       "122 5.6          2.8         4.9          2.0         Virginica\n",
       "123 7.7          2.8         6.7          2.0         Virginica\n",
       "124 6.3          2.7         4.9          1.8         Virginica\n",
       "125 6.7          3.3         5.7          2.1         Virginica\n",
       "126 7.2          3.2         6.0          1.8         Virginica\n",
       "127 6.2          2.8         4.8          1.8         Virginica\n",
       "128 6.1          3.0         4.9          1.8         Virginica\n",
       "129 6.4          2.8         5.6          2.1         Virginica\n",
       "130 7.2          3.0         5.8          1.6         Virginica\n",
       "131 7.4          2.8         6.1          1.9         Virginica\n",
       "132 7.9          3.8         6.4          2.0         Virginica\n",
       "133 6.4          2.8         5.6          2.2         Virginica\n",
       "134 6.3          2.8         5.1          1.5         Virginica\n",
       "135 6.1          2.6         5.6          1.4         Virginica\n",
       "136 7.7          3.0         6.1          2.3         Virginica\n",
       "137 6.3          3.4         5.6          2.4         Virginica\n",
       "138 6.4          3.1         5.5          1.8         Virginica\n",
       "139 6.0          3.0         4.8          1.8         Virginica\n",
       "140 6.9          3.1         5.4          2.1         Virginica\n",
       "141 6.7          3.1         5.6          2.4         Virginica\n",
       "142 6.9          3.1         5.1          2.3         Virginica\n",
       "143 5.8          2.7         5.1          1.9         Virginica\n",
       "144 6.8          3.2         5.9          2.3         Virginica\n",
       "145 6.7          3.3         5.7          2.5         Virginica\n",
       "146 6.7          3.0         5.2          2.3         Virginica\n",
       "147 6.3          2.5         5.0          1.9         Virginica\n",
       "148 6.5          3.0         5.2          2.0         Virginica\n",
       "149 6.2          3.4         5.4          2.3         Virginica\n",
       "150 5.9          3.0         5.1          1.8         Virginica"
      ]
     },
     "metadata": {},
     "output_type": "display_data"
    }
   ],
   "source": [
    "# Visualiza o conteúdo do conjunto de dados\n",
    "iris"
   ]
  },
  {
   "cell_type": "code",
   "execution_count": 9,
   "metadata": {},
   "outputs": [],
   "source": [
    "# Conecta ao SGBD MongoDB, a uma coleção específica\n",
    "connection <- mongo(collection=\"iris\", db=\"igti\", url=\"mongodb://localhost\")"
   ]
  },
  {
   "cell_type": "code",
   "execution_count": 10,
   "metadata": {},
   "outputs": [
    {
     "data": {
      "text/plain": [
       "List of 5\n",
       " $ nInserted  : num 150\n",
       " $ nMatched   : num 0\n",
       " $ nRemoved   : num 0\n",
       " $ nUpserted  : num 0\n",
       " $ writeErrors: list()"
      ]
     },
     "metadata": {},
     "output_type": "display_data"
    }
   ],
   "source": [
    "# Insere o conjunto na coleção iris\n",
    "connection$insert(iris)"
   ]
  },
  {
   "cell_type": "code",
   "execution_count": 11,
   "metadata": {},
   "outputs": [
    {
     "data": {
      "text/html": [
       "<table>\n",
       "<thead><tr><th scope=col>sepal_length</th><th scope=col>sepal_width</th><th scope=col>petal_length</th><th scope=col>petal_width</th><th scope=col>variety</th></tr></thead>\n",
       "<tbody>\n",
       "\t<tr><td>5.1   </td><td>3.5   </td><td>1.4   </td><td>0.2   </td><td>Setosa</td></tr>\n",
       "\t<tr><td>4.9   </td><td>3.0   </td><td>1.4   </td><td>0.2   </td><td>Setosa</td></tr>\n",
       "\t<tr><td>4.7   </td><td>3.2   </td><td>1.3   </td><td>0.2   </td><td>Setosa</td></tr>\n",
       "\t<tr><td>4.6   </td><td>3.1   </td><td>1.5   </td><td>0.2   </td><td>Setosa</td></tr>\n",
       "\t<tr><td>5.0   </td><td>3.6   </td><td>1.4   </td><td>0.2   </td><td>Setosa</td></tr>\n",
       "</tbody>\n",
       "</table>\n"
      ],
      "text/latex": [
       "\\begin{tabular}{r|lllll}\n",
       " sepal\\_length & sepal\\_width & petal\\_length & petal\\_width & variety\\\\\n",
       "\\hline\n",
       "\t 5.1    & 3.5    & 1.4    & 0.2    & Setosa\\\\\n",
       "\t 4.9    & 3.0    & 1.4    & 0.2    & Setosa\\\\\n",
       "\t 4.7    & 3.2    & 1.3    & 0.2    & Setosa\\\\\n",
       "\t 4.6    & 3.1    & 1.5    & 0.2    & Setosa\\\\\n",
       "\t 5.0    & 3.6    & 1.4    & 0.2    & Setosa\\\\\n",
       "\\end{tabular}\n"
      ],
      "text/markdown": [
       "\n",
       "| sepal_length | sepal_width | petal_length | petal_width | variety |\n",
       "|---|---|---|---|---|\n",
       "| 5.1    | 3.5    | 1.4    | 0.2    | Setosa |\n",
       "| 4.9    | 3.0    | 1.4    | 0.2    | Setosa |\n",
       "| 4.7    | 3.2    | 1.3    | 0.2    | Setosa |\n",
       "| 4.6    | 3.1    | 1.5    | 0.2    | Setosa |\n",
       "| 5.0    | 3.6    | 1.4    | 0.2    | Setosa |\n",
       "\n"
      ],
      "text/plain": [
       "  sepal_length sepal_width petal_length petal_width variety\n",
       "1 5.1          3.5         1.4          0.2         Setosa \n",
       "2 4.9          3.0         1.4          0.2         Setosa \n",
       "3 4.7          3.2         1.3          0.2         Setosa \n",
       "4 4.6          3.1         1.5          0.2         Setosa \n",
       "5 5.0          3.6         1.4          0.2         Setosa "
      ]
     },
     "metadata": {},
     "output_type": "display_data"
    }
   ],
   "source": [
    "# Busca os primeiros 5 documentos da coleção iris\n",
    "connection$find(limit=5)"
   ]
  },
  {
   "cell_type": "code",
   "execution_count": 12,
   "metadata": {},
   "outputs": [
    {
     "data": {
      "text/plain": [
       "List of 6\n",
       " $ nInserted  : int 3\n",
       " $ nMatched   : int 0\n",
       " $ nModified  : int 0\n",
       " $ nRemoved   : int 0\n",
       " $ nUpserted  : int 0\n",
       " $ writeErrors: list()"
      ]
     },
     "metadata": {},
     "output_type": "display_data"
    }
   ],
   "source": [
    "# Cria uma nova coleção: pessoas\n",
    "pessoas <- mongo(collection=\"pessoas\", db=\"igti\", url=\"mongodb://localhost\")\n",
    "\n",
    "# Cria novas entradas de documentos (formato JSON)\n",
    "str <- c('{ \"nome\": \"maria\" }', '{ \"nome\": \"ana\", \"idade\": 23 }', '{ \"nome\": \"joão\" }')\n",
    "\n",
    "# Insere as entradas na coleção pessoas\n",
    "pessoas$insert(str)"
   ]
  },
  {
   "cell_type": "code",
   "execution_count": 13,
   "metadata": {},
   "outputs": [
    {
     "data": {
      "text/html": [
       "<table>\n",
       "<thead><tr><th scope=col>nome</th><th scope=col>idade</th></tr></thead>\n",
       "<tbody>\n",
       "\t<tr><td>maria</td><td>NA   </td></tr>\n",
       "\t<tr><td>ana  </td><td>23   </td></tr>\n",
       "\t<tr><td>joão </td><td>NA   </td></tr>\n",
       "</tbody>\n",
       "</table>\n"
      ],
      "text/latex": [
       "\\begin{tabular}{r|ll}\n",
       " nome & idade\\\\\n",
       "\\hline\n",
       "\t maria & NA   \\\\\n",
       "\t ana   & 23   \\\\\n",
       "\t joão  & NA   \\\\\n",
       "\\end{tabular}\n"
      ],
      "text/markdown": [
       "\n",
       "| nome | idade |\n",
       "|---|---|\n",
       "| maria | NA    |\n",
       "| ana   | 23    |\n",
       "| joão  | NA    |\n",
       "\n"
      ],
      "text/plain": [
       "  nome  idade\n",
       "1 maria NA   \n",
       "2 ana   23   \n",
       "3 joão  NA   "
      ]
     },
     "metadata": {},
     "output_type": "display_data"
    }
   ],
   "source": [
    "# Busca todos os documentos na coleção pessoas\n",
    "pessoas$find()"
   ]
  },
  {
   "cell_type": "code",
   "execution_count": 14,
   "metadata": {},
   "outputs": [
    {
     "data": {
      "text/html": [
       "3"
      ],
      "text/latex": [
       "3"
      ],
      "text/markdown": [
       "3"
      ],
      "text/plain": [
       "[1] 3"
      ]
     },
     "metadata": {},
     "output_type": "display_data"
    }
   ],
   "source": [
    "# Apresenta a quantidade total de documentos\n",
    "pessoas$count()"
   ]
  },
  {
   "cell_type": "code",
   "execution_count": 15,
   "metadata": {},
   "outputs": [
    {
     "data": {
      "text/html": [
       "2"
      ],
      "text/latex": [
       "2"
      ],
      "text/markdown": [
       "2"
      ],
      "text/plain": [
       "[1] 2"
      ]
     },
     "metadata": {},
     "output_type": "display_data"
    }
   ],
   "source": [
    "# Exclui os documentos com idade = 23 (neste caso, apenas a ana)\n",
    "pessoas$remove('{ \"idade\": 23 }')\n",
    "pessoas$count()"
   ]
  },
  {
   "cell_type": "code",
   "execution_count": 16,
   "metadata": {},
   "outputs": [
    {
     "data": {
      "text/html": [
       "<table>\n",
       "<thead><tr><th scope=col>nome</th></tr></thead>\n",
       "<tbody>\n",
       "\t<tr><td>maria</td></tr>\n",
       "\t<tr><td>joão </td></tr>\n",
       "</tbody>\n",
       "</table>\n"
      ],
      "text/latex": [
       "\\begin{tabular}{r|l}\n",
       " nome\\\\\n",
       "\\hline\n",
       "\t maria\\\\\n",
       "\t joão \\\\\n",
       "\\end{tabular}\n"
      ],
      "text/markdown": [
       "\n",
       "| nome |\n",
       "|---|\n",
       "| maria |\n",
       "| joão  |\n",
       "\n"
      ],
      "text/plain": [
       "  nome \n",
       "1 maria\n",
       "2 joão "
      ]
     },
     "metadata": {},
     "output_type": "display_data"
    }
   ],
   "source": [
    "# Busca todos os documentos na coleção pessoas\n",
    "pessoas$find()"
   ]
  },
  {
   "cell_type": "code",
   "execution_count": 17,
   "metadata": {},
   "outputs": [
    {
     "data": {
      "text/plain": [
       "List of 6\n",
       " $ nInserted  : int 3\n",
       " $ nMatched   : int 0\n",
       " $ nModified  : int 0\n",
       " $ nRemoved   : int 0\n",
       " $ nUpserted  : int 0\n",
       " $ writeErrors: list()"
      ]
     },
     "metadata": {},
     "output_type": "display_data"
    }
   ],
   "source": [
    "# Cria novas entradas de documentos (formato JSON)\n",
    "str <- c('{ \"nome\": \"bill\" }', '{ \"nome\": \"anna\", \"idade\": 23 }', '{ \"nome\": \"josé\", \"idade\": 35 }')\n",
    "\n",
    "# Insere as entradas na coleção pessoas\n",
    "pessoas$insert(str)"
   ]
  },
  {
   "cell_type": "code",
   "execution_count": 18,
   "metadata": {},
   "outputs": [
    {
     "data": {
      "text/html": [
       "<table>\n",
       "<thead><tr><th scope=col>nome</th><th scope=col>idade</th></tr></thead>\n",
       "<tbody>\n",
       "\t<tr><td>maria</td><td>NA   </td></tr>\n",
       "\t<tr><td>joão </td><td>NA   </td></tr>\n",
       "\t<tr><td>bill </td><td>NA   </td></tr>\n",
       "\t<tr><td>anna </td><td>23   </td></tr>\n",
       "\t<tr><td>josé </td><td>35   </td></tr>\n",
       "</tbody>\n",
       "</table>\n"
      ],
      "text/latex": [
       "\\begin{tabular}{r|ll}\n",
       " nome & idade\\\\\n",
       "\\hline\n",
       "\t maria & NA   \\\\\n",
       "\t joão  & NA   \\\\\n",
       "\t bill  & NA   \\\\\n",
       "\t anna  & 23   \\\\\n",
       "\t josé  & 35   \\\\\n",
       "\\end{tabular}\n"
      ],
      "text/markdown": [
       "\n",
       "| nome | idade |\n",
       "|---|---|\n",
       "| maria | NA    |\n",
       "| joão  | NA    |\n",
       "| bill  | NA    |\n",
       "| anna  | 23    |\n",
       "| josé  | 35    |\n",
       "\n"
      ],
      "text/plain": [
       "  nome  idade\n",
       "1 maria NA   \n",
       "2 joão  NA   \n",
       "3 bill  NA   \n",
       "4 anna  23   \n",
       "5 josé  35   "
      ]
     },
     "metadata": {},
     "output_type": "display_data"
    }
   ],
   "source": [
    "# Busca todos os documentos na coleção pessoas\n",
    "pessoas$find()"
   ]
  },
  {
   "cell_type": "code",
   "execution_count": 19,
   "metadata": {},
   "outputs": [
    {
     "data": {
      "text/plain": [
       "List of 3\n",
       " $ modifiedCount: int 1\n",
       " $ matchedCount : int 1\n",
       " $ upsertedCount: int 0"
      ]
     },
     "metadata": {},
     "output_type": "display_data"
    }
   ],
   "source": [
    "pessoas$update('{ \"nome\": \"bill\" }', '{ \"$set\": { \"idade\": 21 }}')"
   ]
  },
  {
   "cell_type": "code",
   "execution_count": 20,
   "metadata": {},
   "outputs": [
    {
     "data": {
      "text/html": [
       "<table>\n",
       "<thead><tr><th scope=col>nome</th><th scope=col>idade</th></tr></thead>\n",
       "<tbody>\n",
       "\t<tr><td>maria</td><td>NA   </td></tr>\n",
       "\t<tr><td>joão </td><td>NA   </td></tr>\n",
       "\t<tr><td>bill </td><td>21   </td></tr>\n",
       "\t<tr><td>anna </td><td>23   </td></tr>\n",
       "\t<tr><td>josé </td><td>35   </td></tr>\n",
       "</tbody>\n",
       "</table>\n"
      ],
      "text/latex": [
       "\\begin{tabular}{r|ll}\n",
       " nome & idade\\\\\n",
       "\\hline\n",
       "\t maria & NA   \\\\\n",
       "\t joão  & NA   \\\\\n",
       "\t bill  & 21   \\\\\n",
       "\t anna  & 23   \\\\\n",
       "\t josé  & 35   \\\\\n",
       "\\end{tabular}\n"
      ],
      "text/markdown": [
       "\n",
       "| nome | idade |\n",
       "|---|---|\n",
       "| maria | NA    |\n",
       "| joão  | NA    |\n",
       "| bill  | 21    |\n",
       "| anna  | 23    |\n",
       "| josé  | 35    |\n",
       "\n"
      ],
      "text/plain": [
       "  nome  idade\n",
       "1 maria NA   \n",
       "2 joão  NA   \n",
       "3 bill  21   \n",
       "4 anna  23   \n",
       "5 josé  35   "
      ]
     },
     "metadata": {},
     "output_type": "display_data"
    }
   ],
   "source": [
    "pessoas$find()"
   ]
  }
 ],
 "metadata": {
  "kernelspec": {
   "display_name": "R",
   "language": "R",
   "name": "ir"
  },
  "language_info": {
   "codemirror_mode": "r",
   "file_extension": ".r",
   "mimetype": "text/x-r-source",
   "name": "R",
   "pygments_lexer": "r",
   "version": "3.6.1"
  }
 },
 "nbformat": 4,
 "nbformat_minor": 4
}
