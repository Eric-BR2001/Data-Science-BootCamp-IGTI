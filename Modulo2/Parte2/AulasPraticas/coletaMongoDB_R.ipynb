{
 "cells": [
  {
   "cell_type": "markdown",
   "metadata": {},
   "source": [
    "# Coleta de Dados no MongoDB com R"
   ]
  },
  {
   "cell_type": "code",
   "execution_count": 1,
   "metadata": {},
   "outputs": [
    {
     "name": "stdout",
     "output_type": "stream",
     "text": [
      "package 'mongolite' successfully unpacked and MD5 sums checked\n"
     ]
    },
    {
     "name": "stderr",
     "output_type": "stream",
     "text": [
      "Warning message:\n",
      "\"cannot remove prior installation of package 'mongolite'\"Warning message in file.copy(savedcopy, lib, recursive = TRUE):\n",
      "\"problem copying C:\\Users\\USUARIO\\anaconda3\\envs\\dev\\Lib\\R\\library\\00LOCK\\mongolite\\libs\\x64\\mongolite.dll to C:\\Users\\USUARIO\\anaconda3\\envs\\dev\\Lib\\R\\library\\mongolite\\libs\\x64\\mongolite.dll: Permission denied\"Warning message:\n",
      "\"restored 'mongolite'\""
     ]
    },
    {
     "name": "stdout",
     "output_type": "stream",
     "text": [
      "\n",
      "The downloaded binary packages are in\n",
      "\tC:\\Users\\USUARIO\\AppData\\Local\\Temp\\RtmpiU77kx\\downloaded_packages\n"
     ]
    }
   ],
   "source": [
    "# Instalação das bibliotecas\n",
    "install.packages('mongolite')"
   ]
  },
  {
   "cell_type": "code",
   "execution_count": 2,
   "metadata": {},
   "outputs": [
    {
     "name": "stderr",
     "output_type": "stream",
     "text": [
      "Loading required package: mongolite\n",
      "Warning message:\n",
      "\"package 'mongolite' was built under R version 3.6.3\""
     ]
    }
   ],
   "source": [
    "# Importação de bibliotecas\n",
    "require(mongolite)"
   ]
  },
  {
   "cell_type": "markdown",
   "metadata": {},
   "source": [
    "**OBSERVAÇÃO:** A mensagem abaixo não indica nenhum erro, toda mensagem iniciada por **Warning message** refere-se apenas a uma mensagem de alerta, ou seja, é informativa.\n",
    "\n",
    "*Loading required package: mongolite - Warning message: - \"package 'mongolite' was built under R version 3.6.3\"*"
   ]
  },
  {
   "cell_type": "code",
   "execution_count": 3,
   "metadata": {},
   "outputs": [
    {
     "name": "stderr",
     "output_type": "stream",
     "text": [
      "Registered S3 method overwritten by 'openssl':\n",
      "  method      from\n",
      "  print.bytes Rcpp\n"
     ]
    }
   ],
   "source": [
    "# Conexão ao banco de dados\n",
    "iris <- mongo(collection=\"iris\", db=\"igti\", url=\"mongodb://localhost\")"
   ]
  },
  {
   "cell_type": "code",
   "execution_count": 4,
   "metadata": {},
   "outputs": [
    {
     "data": {
      "text/html": [
       "150"
      ],
      "text/latex": [
       "150"
      ],
      "text/markdown": [
       "150"
      ],
      "text/plain": [
       "[1] 150"
      ]
     },
     "metadata": {},
     "output_type": "display_data"
    }
   ],
   "source": [
    "# Contar o número de documentos existentes na coleção iris\n",
    "iris$count()"
   ]
  },
  {
   "cell_type": "code",
   "execution_count": 5,
   "metadata": {},
   "outputs": [],
   "source": [
    "# Cria um data.frame com com todos os dados da coleção\n",
    "iris.df <- iris$find()"
   ]
  },
  {
   "cell_type": "code",
   "execution_count": 6,
   "metadata": {},
   "outputs": [
    {
     "name": "stdout",
     "output_type": "stream",
     "text": [
      "[1] \"Número de colunas:  5\"\n",
      "[1] \"Número de linhas:  150\"\n",
      "[1] \"Tamanho:  5\"\n"
     ]
    }
   ],
   "source": [
    "# Imprimir algumas informações sobre o dataframe\n",
    "print(paste('Número de colunas: ', ncol(iris.df)))\n",
    "print(paste('Número de linhas: ', nrow(iris.df)))\n",
    "print(paste('Tamanho: ', length(iris.df)))"
   ]
  },
  {
   "cell_type": "code",
   "execution_count": 7,
   "metadata": {},
   "outputs": [
    {
     "data": {
      "text/html": [
       "<table>\n",
       "<thead><tr><th scope=col>sepal_length</th><th scope=col>sepal_width</th><th scope=col>petal_length</th><th scope=col>petal_width</th><th scope=col>variety</th></tr></thead>\n",
       "<tbody>\n",
       "\t<tr><td>5.1   </td><td>3.5   </td><td>1.4   </td><td>0.2   </td><td>Setosa</td></tr>\n",
       "\t<tr><td>4.9   </td><td>3.0   </td><td>1.4   </td><td>0.2   </td><td>Setosa</td></tr>\n",
       "\t<tr><td>4.7   </td><td>3.2   </td><td>1.3   </td><td>0.2   </td><td>Setosa</td></tr>\n",
       "\t<tr><td>4.6   </td><td>3.1   </td><td>1.5   </td><td>0.2   </td><td>Setosa</td></tr>\n",
       "\t<tr><td>5.0   </td><td>3.6   </td><td>1.4   </td><td>0.2   </td><td>Setosa</td></tr>\n",
       "\t<tr><td>5.4   </td><td>3.9   </td><td>1.7   </td><td>0.4   </td><td>Setosa</td></tr>\n",
       "</tbody>\n",
       "</table>\n"
      ],
      "text/latex": [
       "\\begin{tabular}{r|lllll}\n",
       " sepal\\_length & sepal\\_width & petal\\_length & petal\\_width & variety\\\\\n",
       "\\hline\n",
       "\t 5.1    & 3.5    & 1.4    & 0.2    & Setosa\\\\\n",
       "\t 4.9    & 3.0    & 1.4    & 0.2    & Setosa\\\\\n",
       "\t 4.7    & 3.2    & 1.3    & 0.2    & Setosa\\\\\n",
       "\t 4.6    & 3.1    & 1.5    & 0.2    & Setosa\\\\\n",
       "\t 5.0    & 3.6    & 1.4    & 0.2    & Setosa\\\\\n",
       "\t 5.4    & 3.9    & 1.7    & 0.4    & Setosa\\\\\n",
       "\\end{tabular}\n"
      ],
      "text/markdown": [
       "\n",
       "| sepal_length | sepal_width | petal_length | petal_width | variety |\n",
       "|---|---|---|---|---|\n",
       "| 5.1    | 3.5    | 1.4    | 0.2    | Setosa |\n",
       "| 4.9    | 3.0    | 1.4    | 0.2    | Setosa |\n",
       "| 4.7    | 3.2    | 1.3    | 0.2    | Setosa |\n",
       "| 4.6    | 3.1    | 1.5    | 0.2    | Setosa |\n",
       "| 5.0    | 3.6    | 1.4    | 0.2    | Setosa |\n",
       "| 5.4    | 3.9    | 1.7    | 0.4    | Setosa |\n",
       "\n"
      ],
      "text/plain": [
       "  sepal_length sepal_width petal_length petal_width variety\n",
       "1 5.1          3.5         1.4          0.2         Setosa \n",
       "2 4.9          3.0         1.4          0.2         Setosa \n",
       "3 4.7          3.2         1.3          0.2         Setosa \n",
       "4 4.6          3.1         1.5          0.2         Setosa \n",
       "5 5.0          3.6         1.4          0.2         Setosa \n",
       "6 5.4          3.9         1.7          0.4         Setosa "
      ]
     },
     "metadata": {},
     "output_type": "display_data"
    }
   ],
   "source": [
    "# Imprimir as 6 primeiras linhas do vetor (data.frame) iris\n",
    "head(iris.df)"
   ]
  },
  {
   "cell_type": "code",
   "execution_count": 8,
   "metadata": {},
   "outputs": [
    {
     "name": "stdout",
     "output_type": "stream",
     "text": [
      "  [1] \"1\"   \"2\"   \"3\"   \"4\"   \"5\"   \"6\"   \"7\"   \"8\"   \"9\"   \"10\"  \"11\"  \"12\" \n",
      " [13] \"13\"  \"14\"  \"15\"  \"16\"  \"17\"  \"18\"  \"19\"  \"20\"  \"21\"  \"22\"  \"23\"  \"24\" \n",
      " [25] \"25\"  \"26\"  \"27\"  \"28\"  \"29\"  \"30\"  \"31\"  \"32\"  \"33\"  \"34\"  \"35\"  \"36\" \n",
      " [37] \"37\"  \"38\"  \"39\"  \"40\"  \"41\"  \"42\"  \"43\"  \"44\"  \"45\"  \"46\"  \"47\"  \"48\" \n",
      " [49] \"49\"  \"50\"  \"51\"  \"52\"  \"53\"  \"54\"  \"55\"  \"56\"  \"57\"  \"58\"  \"59\"  \"60\" \n",
      " [61] \"61\"  \"62\"  \"63\"  \"64\"  \"65\"  \"66\"  \"67\"  \"68\"  \"69\"  \"70\"  \"71\"  \"72\" \n",
      " [73] \"73\"  \"74\"  \"75\"  \"76\"  \"77\"  \"78\"  \"79\"  \"80\"  \"81\"  \"82\"  \"83\"  \"84\" \n",
      " [85] \"85\"  \"86\"  \"87\"  \"88\"  \"89\"  \"90\"  \"91\"  \"92\"  \"93\"  \"94\"  \"95\"  \"96\" \n",
      " [97] \"97\"  \"98\"  \"99\"  \"100\" \"101\" \"102\" \"103\" \"104\" \"105\" \"106\" \"107\" \"108\"\n",
      "[109] \"109\" \"110\" \"111\" \"112\" \"113\" \"114\" \"115\" \"116\" \"117\" \"118\" \"119\" \"120\"\n",
      "[121] \"121\" \"122\" \"123\" \"124\" \"125\" \"126\" \"127\" \"128\" \"129\" \"130\" \"131\" \"132\"\n",
      "[133] \"133\" \"134\" \"135\" \"136\" \"137\" \"138\" \"139\" \"140\" \"141\" \"142\" \"143\" \"144\"\n",
      "[145] \"145\" \"146\" \"147\" \"148\" \"149\" \"150\"\n"
     ]
    }
   ],
   "source": [
    "# Imprimir os nomes de linhas do data.frame iris\n",
    "#print(paste('Nome de linhas: ', rownames(iris.df)))\n",
    "print(rownames(iris.df))"
   ]
  },
  {
   "cell_type": "code",
   "execution_count": 9,
   "metadata": {},
   "outputs": [
    {
     "name": "stdout",
     "output_type": "stream",
     "text": [
      "[1] \"sepal_length\" \"sepal_width\"  \"petal_length\" \"petal_width\"  \"variety\"     \n"
     ]
    }
   ],
   "source": [
    "# Imprimir os nomes de colunas do data.frame iris\n",
    "#print(paste('Nome de colunas: ', colnames(iris.df)))\n",
    "print(colnames(iris.df))"
   ]
  },
  {
   "cell_type": "code",
   "execution_count": 10,
   "metadata": {},
   "outputs": [],
   "source": [
    "# Gravar num arquivo csv\n",
    "file_path <- 'C:/Users/USUARIO/Downloads/IGTI/Bootcamp Online - Cientista de Dados/3_Modulo2_Coleta_e_Obtencao_de_Dados/Parte2/AulasPraticas/dados/irisFromMongo.csv'\n",
    "write.csv(iris.df, file_path, row.names=FALSE)"
   ]
  },
  {
   "cell_type": "code",
   "execution_count": 11,
   "metadata": {},
   "outputs": [
    {
     "data": {
      "text/html": [
       "<table>\n",
       "<thead><tr><th scope=col>sepal_length</th><th scope=col>sepal_width</th><th scope=col>petal_length</th><th scope=col>petal_width</th><th scope=col>variety</th></tr></thead>\n",
       "<tbody>\n",
       "\t<tr><td>5.1   </td><td>3.5   </td><td>1.4   </td><td>0.2   </td><td>Setosa</td></tr>\n",
       "\t<tr><td>4.9   </td><td>3.0   </td><td>1.4   </td><td>0.2   </td><td>Setosa</td></tr>\n",
       "\t<tr><td>4.7   </td><td>3.2   </td><td>1.3   </td><td>0.2   </td><td>Setosa</td></tr>\n",
       "\t<tr><td>4.6   </td><td>3.1   </td><td>1.5   </td><td>0.2   </td><td>Setosa</td></tr>\n",
       "\t<tr><td>5.0   </td><td>3.6   </td><td>1.4   </td><td>0.2   </td><td>Setosa</td></tr>\n",
       "\t<tr><td>5.4   </td><td>3.9   </td><td>1.7   </td><td>0.4   </td><td>Setosa</td></tr>\n",
       "</tbody>\n",
       "</table>\n"
      ],
      "text/latex": [
       "\\begin{tabular}{r|lllll}\n",
       " sepal\\_length & sepal\\_width & petal\\_length & petal\\_width & variety\\\\\n",
       "\\hline\n",
       "\t 5.1    & 3.5    & 1.4    & 0.2    & Setosa\\\\\n",
       "\t 4.9    & 3.0    & 1.4    & 0.2    & Setosa\\\\\n",
       "\t 4.7    & 3.2    & 1.3    & 0.2    & Setosa\\\\\n",
       "\t 4.6    & 3.1    & 1.5    & 0.2    & Setosa\\\\\n",
       "\t 5.0    & 3.6    & 1.4    & 0.2    & Setosa\\\\\n",
       "\t 5.4    & 3.9    & 1.7    & 0.4    & Setosa\\\\\n",
       "\\end{tabular}\n"
      ],
      "text/markdown": [
       "\n",
       "| sepal_length | sepal_width | petal_length | petal_width | variety |\n",
       "|---|---|---|---|---|\n",
       "| 5.1    | 3.5    | 1.4    | 0.2    | Setosa |\n",
       "| 4.9    | 3.0    | 1.4    | 0.2    | Setosa |\n",
       "| 4.7    | 3.2    | 1.3    | 0.2    | Setosa |\n",
       "| 4.6    | 3.1    | 1.5    | 0.2    | Setosa |\n",
       "| 5.0    | 3.6    | 1.4    | 0.2    | Setosa |\n",
       "| 5.4    | 3.9    | 1.7    | 0.4    | Setosa |\n",
       "\n"
      ],
      "text/plain": [
       "  sepal_length sepal_width petal_length petal_width variety\n",
       "1 5.1          3.5         1.4          0.2         Setosa \n",
       "2 4.9          3.0         1.4          0.2         Setosa \n",
       "3 4.7          3.2         1.3          0.2         Setosa \n",
       "4 4.6          3.1         1.5          0.2         Setosa \n",
       "5 5.0          3.6         1.4          0.2         Setosa \n",
       "6 5.4          3.9         1.7          0.4         Setosa "
      ]
     },
     "metadata": {},
     "output_type": "display_data"
    }
   ],
   "source": [
    "# Criar um novo data.frame identico ao iris.df\n",
    "iris.df2 <- iris.df\n",
    "head(iris.df2)"
   ]
  },
  {
   "cell_type": "code",
   "execution_count": 12,
   "metadata": {},
   "outputs": [
    {
     "name": "stdout",
     "output_type": "stream",
     "text": [
      "[1] \"Colunas do dataframe 2:\"\n",
      "[1] \"\"\n",
      "[1] \"sepal_length\" \"sepal_width\"  \"petal_length\" \"petal_width\"  \"variety\"     \n"
     ]
    }
   ],
   "source": [
    "# Apresentar as colunas do dataframe 2\n",
    "print(\"Colunas do dataframe 2:\")\n",
    "print(\"\")\n",
    "print(colnames(iris.df2))"
   ]
  },
  {
   "cell_type": "code",
   "execution_count": 13,
   "metadata": {},
   "outputs": [
    {
     "name": "stdout",
     "output_type": "stream",
     "text": [
      "[1] \"Colunas do dataframe 2 após setar colunas ID e Especie para NULL:\"\n",
      "[1] \"\"\n",
      "[1] \"sepal_length\" \"sepal_width\"  \"petal_length\" \"petal_width\" \n"
     ]
    }
   ],
   "source": [
    "# Excluir as colunas do dataframe 2\n",
    "iris.df2$Id <- NULL\n",
    "iris.df2$variety <- NULL\n",
    "print(\"Colunas do dataframe 2 após setar colunas ID e Especie para NULL:\")\n",
    "print('')\n",
    "print(colnames(iris.df2))"
   ]
  },
  {
   "cell_type": "code",
   "execution_count": 14,
   "metadata": {},
   "outputs": [
    {
     "name": "stdout",
     "output_type": "stream",
     "text": [
      "[1] \"Comprimento_Sepala\" \"Largura_Sepala\"     \"Comprimento_Petala\"\n",
      "[4] \"Largura_Petala\"    \n"
     ]
    }
   ],
   "source": [
    "# Renomear colunas do dataframe 2\n",
    "colnames(iris.df2)[1] <- \"Comprimento_Sepala\"\n",
    "colnames(iris.df2)[2] <- \"Largura_Sepala\"\n",
    "colnames(iris.df2)[3] <- \"Comprimento_Petala\"\n",
    "colnames(iris.df2)[4] <- \"Largura_Petala\"\n",
    "print(colnames(iris.df2))"
   ]
  },
  {
   "cell_type": "code",
   "execution_count": 15,
   "metadata": {},
   "outputs": [
    {
     "data": {
      "text/plain": [
       " Comprimento_Sepala Largura_Sepala  Comprimento_Petala Largura_Petala \n",
       " Min.   :4.300      Min.   :2.000   Min.   :1.000      Min.   :0.100  \n",
       " 1st Qu.:5.100      1st Qu.:2.800   1st Qu.:1.600      1st Qu.:0.300  \n",
       " Median :5.800      Median :3.000   Median :4.350      Median :1.300  \n",
       " Mean   :5.843      Mean   :3.057   Mean   :3.758      Mean   :1.199  \n",
       " 3rd Qu.:6.400      3rd Qu.:3.300   3rd Qu.:5.100      3rd Qu.:1.800  \n",
       " Max.   :7.900      Max.   :4.400   Max.   :6.900      Max.   :2.500  "
      ]
     },
     "metadata": {},
     "output_type": "display_data"
    }
   ],
   "source": [
    "# Resumo das estatísticas descritivas\n",
    "summary(iris.df2)"
   ]
  },
  {
   "cell_type": "code",
   "execution_count": 16,
   "metadata": {},
   "outputs": [
    {
     "data": {
      "image/png": "[encoded data removed]",
      "text/plain": [
       "plot without title"
      ]
     },
     "metadata": {},
     "output_type": "display_data"
    }
   ],
   "source": [
    "# Boxplot monstrando o mediana, quartis 25% e 75% e observações máxima e mínima\n",
    "# Parâmetros ylab e xlab são as etiquetas dos eixos y e x, respectivamente.\n",
    "# Paramêtro col=3 inidica cor das barras para verde\n",
    "boxplot(iris.df2, col=3, ylab=\"Valores(cm)\", xlab=\"Característica\")"
   ]
  },
  {
   "cell_type": "code",
   "execution_count": 17,
   "metadata": {},
   "outputs": [
    {
     "data": {
      "image/png": "[encoded data removed]",
      "text/plain": [
       "plot without title"
      ]
     },
     "metadata": {},
     "output_type": "display_data"
    }
   ],
   "source": [
    "# Boxplot monstrando o mediana, quartis 25% e 75% e observações máxima e mínima\n",
    "# Usa range=0 para não mostrar os outliers (observações extremas representadas como pontos)\n",
    "# Parâmetros ylab e xlab são as etiquetas dos eixos y e x, respectivamente.\n",
    "# Paramêtro col=2 inidica cor das barras para vermelho\n",
    "boxplot(iris.df2, range=0, col=2, ylab=\"Valores(cm)\", xlab=\"Característica\")"
   ]
  },
  {
   "cell_type": "code",
   "execution_count": 19,
   "metadata": {},
   "outputs": [
    {
     "data": {
      "image/png": "[encoded data removed]",
      "text/plain": [
       "plot without title"
      ]
     },
     "metadata": {},
     "output_type": "display_data"
    }
   ],
   "source": [
    "# Mostrar todas as observações cruas da amostra A na forma de gráfico barplot.\n",
    "# Exemplo: y$A representa a coluna A de observações no arranjo de dados y\n",
    "# Parâmetro col=4 indica cor das barras para azul\n",
    "barplot(iris.df2$Comprimento_Sepala,\n",
    "        ylab=\"Valores em cm\",\n",
    "        xlab=\"Valores crus\",\n",
    "        names=as.character(iris.df2$Comprimento_Sepala),\n",
    "        cex.names=0.7,\n",
    "        ylim=c(0,10),\n",
    "        col=4)"
   ]
  },
  {
   "cell_type": "code",
   "execution_count": 21,
   "metadata": {},
   "outputs": [
    {
     "data": {
      "image/png": "[encoded data removed]",
      "text/plain": [
       "Plot with title \"Histograma da amostra A\""
      ]
     },
     "metadata": {},
     "output_type": "display_data"
    }
   ],
   "source": [
    "# Para mostrar um histograma de frequências das observações em amostra A\n",
    "# (mais informações sobre a distribuição das observações do que o gráfico anterior!) - Figura 4\n",
    "hist(iris.df2$Comprimento_Sepala,\n",
    "     col=2,\n",
    "     main=\"Histograma da amostra A\",\n",
    "     xlab=\"Classe de massa (g)\",\n",
    "     ylab=\"Frequência\")"
   ]
  },
  {
   "cell_type": "code",
   "execution_count": 22,
   "metadata": {},
   "outputs": [
    {
     "data": {
      "text/html": [
       "150"
      ],
      "text/latex": [
       "150"
      ],
      "text/markdown": [
       "150"
      ],
      "text/plain": [
       "[1] 150"
      ]
     },
     "metadata": {},
     "output_type": "display_data"
    }
   ],
   "source": [
    "# Contar o número de documentos existentes na coleção iris\n",
    "iris$count()"
   ]
  },
  {
   "cell_type": "markdown",
   "metadata": {},
   "source": [
    "### Importar e Exportar dados do MongoDB de/para arquivos"
   ]
  },
  {
   "cell_type": "markdown",
   "metadata": {},
   "source": [
    "Exportar dados de uma coleção para um arquivo JSON"
   ]
  },
  {
   "cell_type": "code",
   "execution_count": 24,
   "metadata": {},
   "outputs": [
    {
     "name": "stdout",
     "output_type": "stream",
     "text": [
      "{ \"_id\" : { \"$oid\" : \"5f23a856655800003c001782\" }, \"sepal_length\" : 5.0999999999999996447, \"sepal_width\" : 3.5, \"petal_length\" : 1.3999999999999999112, \"petal_width\" : 0.2000000000000000111, \"variety\" : \"Setosa\" }\n",
      "{ \"_id\" : { \"$oid\" : \"5f23a856655800003c001783\" }, \"sepal_length\" : 4.9000000000000003553, \"sepal_width\" : 3.0, \"petal_length\" : 1.3999999999999999112, \"petal_width\" : 0.2000000000000000111, \"variety\" : \"Setosa\" }\n",
      "{ \"_id\" : { \"$oid\" : \"5f23a856655800003c001784\" }, \"sepal_length\" : 4.7000000000000001776, \"sepal_width\" : 3.2000000000000001776, \"petal_length\" : 1.3000000000000000444, \"petal_width\" : 0.2000000000000000111, \"variety\" : \"Setosa\" }\n",
      "{ \"_id\" : { \"$oid\" : \"5f23a856655800003c001785\" }, \"sepal_length\" : 4.5999999999999996447, \"sepal_width\" : 3.1000000000000000888, \"petal_length\" : 1.5, \"petal_width\" : 0.2000000000000000111, \"variety\" : \"Setosa\" }\n",
      "{ \"_id\" : { \"$oid\" : \"5f23a856655800003c001786\" }, \"sepal_length\" : 5.0, \"sepal_width\" : 3.6000000000000000888, \"petal_length\" : 1.3999999999999999112, \"petal_width\" : 0.2000000000000000111, \"variety\" : \"Setosa\" }\n",
      "{ \"_id\" : { \"$oid\" : \"5f23a856655800003c001787\" }, \"sepal_length\" : 5.4000000000000003553, \"sepal_width\" : 3.8999999999999999112, \"petal_length\" : 1.6999999999999999556, \"petal_width\" : 0.4000000000000000222, \"variety\" : \"Setosa\" }\n",
      "{ \"_id\" : { \"$oid\" : \"5f23a856655800003c001788\" }, \"sepal_length\" : 4.5999999999999996447, \"sepal_width\" : 3.3999999999999999112, \"petal_length\" : 1.3999999999999999112, \"petal_width\" : 0.2999999999999999889, \"variety\" : \"Setosa\" }\n",
      "{ \"_id\" : { \"$oid\" : \"5f23a856655800003c001789\" }, \"sepal_length\" : 5.0, \"sepal_width\" : 3.3999999999999999112, \"petal_length\" : 1.5, \"petal_width\" : 0.2000000000000000111, \"variety\" : \"Setosa\" }\n",
      "{ \"_id\" : { \"$oid\" : \"5f23a856655800003c00178a\" }, \"sepal_length\" : 4.4000000000000003553, \"sepal_width\" : 2.8999999999999999112, \"petal_length\" : 1.3999999999999999112, \"petal_width\" : 0.2000000000000000111, \"variety\" : \"Setosa\" }\n",
      "{ \"_id\" : { \"$oid\" : \"5f23a856655800003c00178b\" }, \"sepal_length\" : 4.9000000000000003553, \"sepal_width\" : 3.1000000000000000888, \"petal_length\" : 1.5, \"petal_width\" : 0.10000000000000000555, \"variety\" : \"Setosa\" }\n",
      "{ \"_id\" : { \"$oid\" : \"5f23a856655800003c00178c\" }, \"sepal_length\" : 5.4000000000000003553, \"sepal_width\" : 3.7000000000000001776, \"petal_length\" : 1.5, \"petal_width\" : 0.2000000000000000111, \"variety\" : \"Setosa\" }\n",
      "{ \"_id\" : { \"$oid\" : \"5f23a856655800003c00178d\" }, \"sepal_length\" : 4.7999999999999998224, \"sepal_width\" : 3.3999999999999999112, \"petal_length\" : 1.6000000000000000888, \"petal_width\" : 0.2000000000000000111, \"variety\" : \"Setosa\" }\n",
      "{ \"_id\" : { \"$oid\" : \"5f23a856655800003c00178e\" }, \"sepal_length\" : 4.7999999999999998224, \"sepal_width\" : 3.0, \"petal_length\" : 1.3999999999999999112, \"petal_width\" : 0.10000000000000000555, \"variety\" : \"Setosa\" }\n",
      "{ \"_id\" : { \"$oid\" : \"5f23a856655800003c00178f\" }, \"sepal_length\" : 4.2999999999999998224, \"sepal_width\" : 3.0, \"petal_length\" : 1.1000000000000000888, \"petal_width\" : 0.10000000000000000555, \"variety\" : \"Setosa\" }\n",
      "{ \"_id\" : { \"$oid\" : \"5f23a856655800003c001790\" }, \"sepal_length\" : 5.7999999999999998224, \"sepal_width\" : 4.0, \"petal_length\" : 1.1999999999999999556, \"petal_width\" : 0.2000000000000000111, \"variety\" : \"Setosa\" }\n",
      "{ \"_id\" : { \"$oid\" : \"5f23a856655800003c001791\" }, \"sepal_length\" : 5.7000000000000001776, \"sepal_width\" : 4.4000000000000003553, \"petal_length\" : 1.5, \"petal_width\" : 0.4000000000000000222, \"variety\" : \"Setosa\" }\n",
      "{ \"_id\" : { \"$oid\" : \"5f23a856655800003c001792\" }, \"sepal_length\" : 5.4000000000000003553, \"sepal_width\" : 3.8999999999999999112, \"petal_length\" : 1.3000000000000000444, \"petal_width\" : 0.4000000000000000222, \"variety\" : \"Setosa\" }\n",
      "{ \"_id\" : { \"$oid\" : \"5f23a856655800003c001793\" }, \"sepal_length\" : 5.0999999999999996447, \"sepal_width\" : 3.5, \"petal_length\" : 1.3999999999999999112, \"petal_width\" : 0.2999999999999999889, \"variety\" : \"Setosa\" }\n",
      "{ \"_id\" : { \"$oid\" : \"5f23a856655800003c001794\" }, \"sepal_length\" : 5.7000000000000001776, \"sepal_width\" : 3.7999999999999998224, \"petal_length\" : 1.6999999999999999556, \"petal_width\" : 0.2999999999999999889, \"variety\" : \"Setosa\" }\n",
      "{ \"_id\" : { \"$oid\" : \"5f23a856655800003c001795\" }, \"sepal_length\" : 5.0999999999999996447, \"sepal_width\" : 3.7999999999999998224, \"petal_length\" : 1.5, \"petal_width\" : 0.2999999999999999889, \"variety\" : \"Setosa\" }\n",
      "{ \"_id\" : { \"$oid\" : \"5f23a856655800003c001796\" }, \"sepal_length\" : 5.4000000000000003553, \"sepal_width\" : 3.3999999999999999112, \"petal_length\" : 1.6999999999999999556, \"petal_width\" : 0.2000000000000000111, \"variety\" : \"Setosa\" }\n",
      "{ \"_id\" : { \"$oid\" : \"5f23a856655800003c001797\" }, \"sepal_length\" : 5.0999999999999996447, \"sepal_width\" : 3.7000000000000001776, \"petal_length\" : 1.5, \"petal_width\" : 0.4000000000000000222, \"variety\" : \"Setosa\" }\n",
      "{ \"_id\" : { \"$oid\" : \"5f23a856655800003c001798\" }, \"sepal_length\" : 4.5999999999999996447, \"sepal_width\" : 3.6000000000000000888, \"petal_length\" : 1.0, \"petal_width\" : 0.2000000000000000111, \"variety\" : \"Setosa\" }\n",
      "{ \"_id\" : { \"$oid\" : \"5f23a856655800003c001799\" }, \"sepal_length\" : 5.0999999999999996447, \"sepal_width\" : 3.2999999999999998224, \"petal_length\" : 1.6999999999999999556, \"petal_width\" : 0.5, \"variety\" : \"Setosa\" }\n",
      "{ \"_id\" : { \"$oid\" : \"5f23a856655800003c00179a\" }, \"sepal_length\" : 4.7999999999999998224, \"sepal_width\" : 3.3999999999999999112, \"petal_length\" : 1.8999999999999999112, \"petal_width\" : 0.2000000000000000111, \"variety\" : \"Setosa\" }\n",
      "{ \"_id\" : { \"$oid\" : \"5f23a856655800003c00179b\" }, \"sepal_length\" : 5.0, \"sepal_width\" : 3.0, \"petal_length\" : 1.6000000000000000888, \"petal_width\" : 0.2000000000000000111, \"variety\" : \"Setosa\" }\n",
      "{ \"_id\" : { \"$oid\" : \"5f23a856655800003c00179c\" }, \"sepal_length\" : 5.0, \"sepal_width\" : 3.3999999999999999112, \"petal_length\" : 1.6000000000000000888, \"petal_width\" : 0.4000000000000000222, \"variety\" : \"Setosa\" }\n",
      "{ \"_id\" : { \"$oid\" : \"5f23a856655800003c00179d\" }, \"sepal_length\" : 5.2000000000000001776, \"sepal_width\" : 3.5, \"petal_length\" : 1.5, \"petal_width\" : 0.2000000000000000111, \"variety\" : \"Setosa\" }\n",
      "{ \"_id\" : { \"$oid\" : \"5f23a856655800003c00179e\" }, \"sepal_length\" : 5.2000000000000001776, \"sepal_width\" : 3.3999999999999999112, \"petal_length\" : 1.3999999999999999112, \"petal_width\" : 0.2000000000000000111, \"variety\" : \"Setosa\" }\n",
      "{ \"_id\" : { \"$oid\" : \"5f23a856655800003c00179f\" }, \"sepal_length\" : 4.7000000000000001776, \"sepal_width\" : 3.2000000000000001776, \"petal_length\" : 1.6000000000000000888, \"petal_width\" : 0.2000000000000000111, \"variety\" : \"Setosa\" }\n",
      "{ \"_id\" : { \"$oid\" : \"5f23a856655800003c0017a0\" }, \"sepal_length\" : 4.7999999999999998224, \"sepal_width\" : 3.1000000000000000888, \"petal_length\" : 1.6000000000000000888, \"petal_width\" : 0.2000000000000000111, \"variety\" : \"Setosa\" }\n",
      "{ \"_id\" : { \"$oid\" : \"5f23a856655800003c0017a1\" }, \"sepal_length\" : 5.4000000000000003553, \"sepal_width\" : 3.3999999999999999112, \"petal_length\" : 1.5, \"petal_width\" : 0.4000000000000000222, \"variety\" : \"Setosa\" }\n",
      "{ \"_id\" : { \"$oid\" : \"5f23a856655800003c0017a2\" }, \"sepal_length\" : 5.2000000000000001776, \"sepal_width\" : 4.0999999999999996447, \"petal_length\" : 1.5, \"petal_width\" : 0.10000000000000000555, \"variety\" : \"Setosa\" }\n",
      "{ \"_id\" : { \"$oid\" : \"5f23a856655800003c0017a3\" }, \"sepal_length\" : 5.5, \"sepal_width\" : 4.2000000000000001776, \"petal_length\" : 1.3999999999999999112, \"petal_width\" : 0.2000000000000000111, \"variety\" : \"Setosa\" }\n",
      "{ \"_id\" : { \"$oid\" : \"5f23a856655800003c0017a4\" }, \"sepal_length\" : 4.9000000000000003553, \"sepal_width\" : 3.1000000000000000888, \"petal_length\" : 1.5, \"petal_width\" : 0.2000000000000000111, \"variety\" : \"Setosa\" }\n",
      "{ \"_id\" : { \"$oid\" : \"5f23a856655800003c0017a5\" }, \"sepal_length\" : 5.0, \"sepal_width\" : 3.2000000000000001776, \"petal_length\" : 1.1999999999999999556, \"petal_width\" : 0.2000000000000000111, \"variety\" : \"Setosa\" }\n",
      "{ \"_id\" : { \"$oid\" : \"5f23a856655800003c0017a6\" }, \"sepal_length\" : 5.5, \"sepal_width\" : 3.5, \"petal_length\" : 1.3000000000000000444, \"petal_width\" : 0.2000000000000000111, \"variety\" : \"Setosa\" }\n",
      "{ \"_id\" : { \"$oid\" : \"5f23a856655800003c0017a7\" }, \"sepal_length\" : 4.9000000000000003553, \"sepal_width\" : 3.6000000000000000888, \"petal_length\" : 1.3999999999999999112, \"petal_width\" : 0.10000000000000000555, \"variety\" : \"Setosa\" }\n",
      "{ \"_id\" : { \"$oid\" : \"5f23a856655800003c0017a8\" }, \"sepal_length\" : 4.4000000000000003553, \"sepal_width\" : 3.0, \"petal_length\" : 1.3000000000000000444, \"petal_width\" : 0.2000000000000000111, \"variety\" : \"Setosa\" }\n",
      "{ \"_id\" : { \"$oid\" : \"5f23a856655800003c0017a9\" }, \"sepal_length\" : 5.0999999999999996447, \"sepal_width\" : 3.3999999999999999112, \"petal_length\" : 1.5, \"petal_width\" : 0.2000000000000000111, \"variety\" : \"Setosa\" }\n",
      "{ \"_id\" : { \"$oid\" : \"5f23a856655800003c0017aa\" }, \"sepal_length\" : 5.0, \"sepal_width\" : 3.5, \"petal_length\" : 1.3000000000000000444, \"petal_width\" : 0.2999999999999999889, \"variety\" : \"Setosa\" }\n",
      "{ \"_id\" : { \"$oid\" : \"5f23a856655800003c0017ab\" }, \"sepal_length\" : 4.5, \"sepal_width\" : 2.2999999999999998224, \"petal_length\" : 1.3000000000000000444, \"petal_width\" : 0.2999999999999999889, \"variety\" : \"Setosa\" }\n",
      "{ \"_id\" : { \"$oid\" : \"5f23a856655800003c0017ac\" }, \"sepal_length\" : 4.4000000000000003553, \"sepal_width\" : 3.2000000000000001776, \"petal_length\" : 1.3000000000000000444, \"petal_width\" : 0.2000000000000000111, \"variety\" : \"Setosa\" }\n",
      "{ \"_id\" : { \"$oid\" : \"5f23a856655800003c0017ad\" }, \"sepal_length\" : 5.0, \"sepal_width\" : 3.5, \"petal_length\" : 1.6000000000000000888, \"petal_width\" : 0.5999999999999999778, \"variety\" : \"Setosa\" }\n",
      "{ \"_id\" : { \"$oid\" : \"5f23a856655800003c0017ae\" }, \"sepal_length\" : 5.0999999999999996447, \"sepal_width\" : 3.7999999999999998224, \"petal_length\" : 1.8999999999999999112, \"petal_width\" : 0.4000000000000000222, \"variety\" : \"Setosa\" }\n",
      "{ \"_id\" : { \"$oid\" : \"5f23a856655800003c0017af\" }, \"sepal_length\" : 4.7999999999999998224, \"sepal_width\" : 3.0, \"petal_length\" : 1.3999999999999999112, \"petal_width\" : 0.2999999999999999889, \"variety\" : \"Setosa\" }\n",
      "{ \"_id\" : { \"$oid\" : \"5f23a856655800003c0017b0\" }, \"sepal_length\" : 5.0999999999999996447, \"sepal_width\" : 3.7999999999999998224, \"petal_length\" : 1.6000000000000000888, \"petal_width\" : 0.2000000000000000111, \"variety\" : \"Setosa\" }\n",
      "{ \"_id\" : { \"$oid\" : \"5f23a856655800003c0017b1\" }, \"sepal_length\" : 4.5999999999999996447, \"sepal_width\" : 3.2000000000000001776, \"petal_length\" : 1.3999999999999999112, \"petal_width\" : 0.2000000000000000111, \"variety\" : \"Setosa\" }\n",
      "{ \"_id\" : { \"$oid\" : \"5f23a856655800003c0017b2\" }, \"sepal_length\" : 5.2999999999999998224, \"sepal_width\" : 3.7000000000000001776, \"petal_length\" : 1.5, \"petal_width\" : 0.2000000000000000111, \"variety\" : \"Setosa\" }\n",
      "{ \"_id\" : { \"$oid\" : \"5f23a856655800003c0017b3\" }, \"sepal_length\" : 5.0, \"sepal_width\" : 3.2999999999999998224, \"petal_length\" : 1.3999999999999999112, \"petal_width\" : 0.2000000000000000111, \"variety\" : \"Setosa\" }\n",
      "{ \"_id\" : { \"$oid\" : \"5f23a856655800003c0017b4\" }, \"sepal_length\" : 7.0, \"sepal_width\" : 3.2000000000000001776, \"petal_length\" : 4.7000000000000001776, \"petal_width\" : 1.3999999999999999112, \"variety\" : \"Versicolor\" }\n",
      "{ \"_id\" : { \"$oid\" : \"5f23a856655800003c0017b5\" }, \"sepal_length\" : 6.4000000000000003553, \"sepal_width\" : 3.2000000000000001776, \"petal_length\" : 4.5, \"petal_width\" : 1.5, \"variety\" : \"Versicolor\" }\n",
      "{ \"_id\" : { \"$oid\" : \"5f23a856655800003c0017b6\" }, \"sepal_length\" : 6.9000000000000003553, \"sepal_width\" : 3.1000000000000000888, \"petal_length\" : 4.9000000000000003553, \"petal_width\" : 1.5, \"variety\" : \"Versicolor\" }\n",
      "{ \"_id\" : { \"$oid\" : \"5f23a856655800003c0017b7\" }, \"sepal_length\" : 5.5, \"sepal_width\" : 2.2999999999999998224, \"petal_length\" : 4.0, \"petal_width\" : 1.3000000000000000444, \"variety\" : \"Versicolor\" }\n",
      "{ \"_id\" : { \"$oid\" : \"5f23a856655800003c0017b8\" }, \"sepal_length\" : 6.5, \"sepal_width\" : 2.7999999999999998224, \"petal_length\" : 4.5999999999999996447, \"petal_width\" : 1.5, \"variety\" : \"Versicolor\" }\n",
      "{ \"_id\" : { \"$oid\" : \"5f23a856655800003c0017b9\" }, \"sepal_length\" : 5.7000000000000001776, \"sepal_width\" : 2.7999999999999998224, \"petal_length\" : 4.5, \"petal_width\" : 1.3000000000000000444, \"variety\" : \"Versicolor\" }\n",
      "{ \"_id\" : { \"$oid\" : \"5f23a856655800003c0017ba\" }, \"sepal_length\" : 6.2999999999999998224, \"sepal_width\" : 3.2999999999999998224, \"petal_length\" : 4.7000000000000001776, \"petal_width\" : 1.6000000000000000888, \"variety\" : \"Versicolor\" }\n",
      "{ \"_id\" : { \"$oid\" : \"5f23a856655800003c0017bb\" }, \"sepal_length\" : 4.9000000000000003553, \"sepal_width\" : 2.3999999999999999112, \"petal_length\" : 3.2999999999999998224, \"petal_width\" : 1.0, \"variety\" : \"Versicolor\" }\n",
      "{ \"_id\" : { \"$oid\" : \"5f23a856655800003c0017bc\" }, \"sepal_length\" : 6.5999999999999996447, \"sepal_width\" : 2.8999999999999999112, \"petal_length\" : 4.5999999999999996447, \"petal_width\" : 1.3000000000000000444, \"variety\" : \"Versicolor\" }\n",
      "{ \"_id\" : { \"$oid\" : \"5f23a856655800003c0017bd\" }, \"sepal_length\" : 5.2000000000000001776, \"sepal_width\" : 2.7000000000000001776, \"petal_length\" : 3.8999999999999999112, \"petal_width\" : 1.3999999999999999112, \"variety\" : \"Versicolor\" }\n",
      "{ \"_id\" : { \"$oid\" : \"5f23a856655800003c0017be\" }, \"sepal_length\" : 5.0, \"sepal_width\" : 2.0, \"petal_length\" : 3.5, \"petal_width\" : 1.0, \"variety\" : \"Versicolor\" }\n",
      "{ \"_id\" : { \"$oid\" : \"5f23a856655800003c0017bf\" }, \"sepal_length\" : 5.9000000000000003553, \"sepal_width\" : 3.0, \"petal_length\" : 4.2000000000000001776, \"petal_width\" : 1.5, \"variety\" : \"Versicolor\" }\n",
      "{ \"_id\" : { \"$oid\" : \"5f23a856655800003c0017c0\" }, \"sepal_length\" : 6.0, \"sepal_width\" : 2.2000000000000001776, \"petal_length\" : 4.0, \"petal_width\" : 1.0, \"variety\" : \"Versicolor\" }\n",
      "{ \"_id\" : { \"$oid\" : \"5f23a856655800003c0017c1\" }, \"sepal_length\" : 6.0999999999999996447, \"sepal_width\" : 2.8999999999999999112, \"petal_length\" : 4.7000000000000001776, \"petal_width\" : 1.3999999999999999112, \"variety\" : \"Versicolor\" }\n",
      "{ \"_id\" : { \"$oid\" : \"5f23a856655800003c0017c2\" }, \"sepal_length\" : 5.5999999999999996447, \"sepal_width\" : 2.8999999999999999112, \"petal_length\" : 3.6000000000000000888, \"petal_width\" : 1.3000000000000000444, \"variety\" : \"Versicolor\" }\n",
      "{ \"_id\" : { \"$oid\" : \"5f23a856655800003c0017c3\" }, \"sepal_length\" : 6.7000000000000001776, \"sepal_width\" : 3.1000000000000000888, \"petal_length\" : 4.4000000000000003553, \"petal_width\" : 1.3999999999999999112, \"variety\" : \"Versicolor\" }\n",
      "{ \"_id\" : { \"$oid\" : \"5f23a856655800003c0017c4\" }, \"sepal_length\" : 5.5999999999999996447, \"sepal_width\" : 3.0, \"petal_length\" : 4.5, \"petal_width\" : 1.5, \"variety\" : \"Versicolor\" }\n",
      "{ \"_id\" : { \"$oid\" : \"5f23a856655800003c0017c5\" }, \"sepal_length\" : 5.7999999999999998224, \"sepal_width\" : 2.7000000000000001776, \"petal_length\" : 4.0999999999999996447, \"petal_width\" : 1.0, \"variety\" : \"Versicolor\" }\n",
      "{ \"_id\" : { \"$oid\" : \"5f23a856655800003c0017c6\" }, \"sepal_length\" : 6.2000000000000001776, \"sepal_width\" : 2.2000000000000001776, \"petal_length\" : 4.5, \"petal_width\" : 1.5, \"variety\" : \"Versicolor\" }\n",
      "{ \"_id\" : { \"$oid\" : \"5f23a856655800003c0017c7\" }, \"sepal_length\" : 5.5999999999999996447, \"sepal_width\" : 2.5, \"petal_length\" : 3.8999999999999999112, \"petal_width\" : 1.1000000000000000888, \"variety\" : \"Versicolor\" }\n",
      "{ \"_id\" : { \"$oid\" : \"5f23a856655800003c0017c8\" }, \"sepal_length\" : 5.9000000000000003553, \"sepal_width\" : 3.2000000000000001776, \"petal_length\" : 4.7999999999999998224, \"petal_width\" : 1.8000000000000000444, \"variety\" : \"Versicolor\" }\n",
      "{ \"_id\" : { \"$oid\" : \"5f23a856655800003c0017c9\" }, \"sepal_length\" : 6.0999999999999996447, \"sepal_width\" : 2.7999999999999998224, \"petal_length\" : 4.0, \"petal_width\" : 1.3000000000000000444, \"variety\" : \"Versicolor\" }\n",
      "{ \"_id\" : { \"$oid\" : \"5f23a856655800003c0017ca\" }, \"sepal_length\" : 6.2999999999999998224, \"sepal_width\" : 2.5, \"petal_length\" : 4.9000000000000003553, \"petal_width\" : 1.5, \"variety\" : \"Versicolor\" }\n",
      "{ \"_id\" : { \"$oid\" : \"5f23a856655800003c0017cb\" }, \"sepal_length\" : 6.0999999999999996447, \"sepal_width\" : 2.7999999999999998224, \"petal_length\" : 4.7000000000000001776, \"petal_width\" : 1.1999999999999999556, \"variety\" : \"Versicolor\" }\n",
      "{ \"_id\" : { \"$oid\" : \"5f23a856655800003c0017cc\" }, \"sepal_length\" : 6.4000000000000003553, \"sepal_width\" : 2.8999999999999999112, \"petal_length\" : 4.2999999999999998224, \"petal_width\" : 1.3000000000000000444, \"variety\" : \"Versicolor\" }\n",
      "{ \"_id\" : { \"$oid\" : \"5f23a856655800003c0017cd\" }, \"sepal_length\" : 6.5999999999999996447, \"sepal_width\" : 3.0, \"petal_length\" : 4.4000000000000003553, \"petal_width\" : 1.3999999999999999112, \"variety\" : \"Versicolor\" }\n",
      "{ \"_id\" : { \"$oid\" : \"5f23a856655800003c0017ce\" }, \"sepal_length\" : 6.7999999999999998224, \"sepal_width\" : 2.7999999999999998224, \"petal_length\" : 4.7999999999999998224, \"petal_width\" : 1.3999999999999999112, \"variety\" : \"Versicolor\" }\n",
      "{ \"_id\" : { \"$oid\" : \"5f23a856655800003c0017cf\" }, \"sepal_length\" : 6.7000000000000001776, \"sepal_width\" : 3.0, \"petal_length\" : 5.0, \"petal_width\" : 1.6999999999999999556, \"variety\" : \"Versicolor\" }\n",
      "{ \"_id\" : { \"$oid\" : \"5f23a856655800003c0017d0\" }, \"sepal_length\" : 6.0, \"sepal_width\" : 2.8999999999999999112, \"petal_length\" : 4.5, \"petal_width\" : 1.5, \"variety\" : \"Versicolor\" }\n",
      "{ \"_id\" : { \"$oid\" : \"5f23a856655800003c0017d1\" }, \"sepal_length\" : 5.7000000000000001776, \"sepal_width\" : 2.6000000000000000888, \"petal_length\" : 3.5, \"petal_width\" : 1.0, \"variety\" : \"Versicolor\" }\n",
      "{ \"_id\" : { \"$oid\" : \"5f23a856655800003c0017d2\" }, \"sepal_length\" : 5.5, \"sepal_width\" : 2.3999999999999999112, \"petal_length\" : 3.7999999999999998224, \"petal_width\" : 1.1000000000000000888, \"variety\" : \"Versicolor\" }\n",
      "{ \"_id\" : { \"$oid\" : \"5f23a856655800003c0017d3\" }, \"sepal_length\" : 5.5, \"sepal_width\" : 2.3999999999999999112, \"petal_length\" : 3.7000000000000001776, \"petal_width\" : 1.0, \"variety\" : \"Versicolor\" }\n",
      "{ \"_id\" : { \"$oid\" : \"5f23a856655800003c0017d4\" }, \"sepal_length\" : 5.7999999999999998224, \"sepal_width\" : 2.7000000000000001776, \"petal_length\" : 3.8999999999999999112, \"petal_width\" : 1.1999999999999999556, \"variety\" : \"Versicolor\" }\n",
      "{ \"_id\" : { \"$oid\" : \"5f23a856655800003c0017d5\" }, \"sepal_length\" : 6.0, \"sepal_width\" : 2.7000000000000001776, \"petal_length\" : 5.0999999999999996447, \"petal_width\" : 1.6000000000000000888, \"variety\" : \"Versicolor\" }\n",
      "{ \"_id\" : { \"$oid\" : \"5f23a856655800003c0017d6\" }, \"sepal_length\" : 5.4000000000000003553, \"sepal_width\" : 3.0, \"petal_length\" : 4.5, \"petal_width\" : 1.5, \"variety\" : \"Versicolor\" }\n",
      "{ \"_id\" : { \"$oid\" : \"5f23a856655800003c0017d7\" }, \"sepal_length\" : 6.0, \"sepal_width\" : 3.3999999999999999112, \"petal_length\" : 4.5, \"petal_width\" : 1.6000000000000000888, \"variety\" : \"Versicolor\" }\n",
      "{ \"_id\" : { \"$oid\" : \"5f23a856655800003c0017d8\" }, \"sepal_length\" : 6.7000000000000001776, \"sepal_width\" : 3.1000000000000000888, \"petal_length\" : 4.7000000000000001776, \"petal_width\" : 1.5, \"variety\" : \"Versicolor\" }\n",
      "{ \"_id\" : { \"$oid\" : \"5f23a856655800003c0017d9\" }, \"sepal_length\" : 6.2999999999999998224, \"sepal_width\" : 2.2999999999999998224, \"petal_length\" : 4.4000000000000003553, \"petal_width\" : 1.3000000000000000444, \"variety\" : \"Versicolor\" }\n",
      "{ \"_id\" : { \"$oid\" : \"5f23a856655800003c0017da\" }, \"sepal_length\" : 5.5999999999999996447, \"sepal_width\" : 3.0, \"petal_length\" : 4.0999999999999996447, \"petal_width\" : 1.3000000000000000444, \"variety\" : \"Versicolor\" }\n",
      "{ \"_id\" : { \"$oid\" : \"5f23a856655800003c0017db\" }, \"sepal_length\" : 5.5, \"sepal_width\" : 2.5, \"petal_length\" : 4.0, \"petal_width\" : 1.3000000000000000444, \"variety\" : \"Versicolor\" }\n",
      "{ \"_id\" : { \"$oid\" : \"5f23a856655800003c0017dc\" }, \"sepal_length\" : 5.5, \"sepal_width\" : 2.6000000000000000888, \"petal_length\" : 4.4000000000000003553, \"petal_width\" : 1.1999999999999999556, \"variety\" : \"Versicolor\" }\n",
      "{ \"_id\" : { \"$oid\" : \"5f23a856655800003c0017dd\" }, \"sepal_length\" : 6.0999999999999996447, \"sepal_width\" : 3.0, \"petal_length\" : 4.5999999999999996447, \"petal_width\" : 1.3999999999999999112, \"variety\" : \"Versicolor\" }\n",
      "{ \"_id\" : { \"$oid\" : \"5f23a856655800003c0017de\" }, \"sepal_length\" : 5.7999999999999998224, \"sepal_width\" : 2.6000000000000000888, \"petal_length\" : 4.0, \"petal_width\" : 1.1999999999999999556, \"variety\" : \"Versicolor\" }\n",
      "{ \"_id\" : { \"$oid\" : \"5f23a856655800003c0017df\" }, \"sepal_length\" : 5.0, \"sepal_width\" : 2.2999999999999998224, \"petal_length\" : 3.2999999999999998224, \"petal_width\" : 1.0, \"variety\" : \"Versicolor\" }\n",
      "{ \"_id\" : { \"$oid\" : \"5f23a856655800003c0017e0\" }, \"sepal_length\" : 5.5999999999999996447, \"sepal_width\" : 2.7000000000000001776, \"petal_length\" : 4.2000000000000001776, \"petal_width\" : 1.3000000000000000444, \"variety\" : \"Versicolor\" }\n",
      "{ \"_id\" : { \"$oid\" : \"5f23a856655800003c0017e1\" }, \"sepal_length\" : 5.7000000000000001776, \"sepal_width\" : 3.0, \"petal_length\" : 4.2000000000000001776, \"petal_width\" : 1.1999999999999999556, \"variety\" : \"Versicolor\" }\n",
      "{ \"_id\" : { \"$oid\" : \"5f23a856655800003c0017e2\" }, \"sepal_length\" : 5.7000000000000001776, \"sepal_width\" : 2.8999999999999999112, \"petal_length\" : 4.2000000000000001776, \"petal_width\" : 1.3000000000000000444, \"variety\" : \"Versicolor\" }\n",
      "{ \"_id\" : { \"$oid\" : \"5f23a856655800003c0017e3\" }, \"sepal_length\" : 6.2000000000000001776, \"sepal_width\" : 2.8999999999999999112, \"petal_length\" : 4.2999999999999998224, \"petal_width\" : 1.3000000000000000444, \"variety\" : \"Versicolor\" }\n",
      "{ \"_id\" : { \"$oid\" : \"5f23a856655800003c0017e4\" }, \"sepal_length\" : 5.0999999999999996447, \"sepal_width\" : 2.5, \"petal_length\" : 3.0, \"petal_width\" : 1.1000000000000000888, \"variety\" : \"Versicolor\" }\n",
      "{ \"_id\" : { \"$oid\" : \"5f23a856655800003c0017e5\" }, \"sepal_length\" : 5.7000000000000001776, \"sepal_width\" : 2.7999999999999998224, \"petal_length\" : 4.0999999999999996447, \"petal_width\" : 1.3000000000000000444, \"variety\" : \"Versicolor\" }\n",
      "{ \"_id\" : { \"$oid\" : \"5f23a856655800003c0017e6\" }, \"sepal_length\" : 6.2999999999999998224, \"sepal_width\" : 3.2999999999999998224, \"petal_length\" : 6.0, \"petal_width\" : 2.5, \"variety\" : \"Virginica\" }\n",
      "{ \"_id\" : { \"$oid\" : \"5f23a856655800003c0017e7\" }, \"sepal_length\" : 5.7999999999999998224, \"sepal_width\" : 2.7000000000000001776, \"petal_length\" : 5.0999999999999996447, \"petal_width\" : 1.8999999999999999112, \"variety\" : \"Virginica\" }\n",
      "{ \"_id\" : { \"$oid\" : \"5f23a856655800003c0017e8\" }, \"sepal_length\" : 7.0999999999999996447, \"sepal_width\" : 3.0, \"petal_length\" : 5.9000000000000003553, \"petal_width\" : 2.1000000000000000888, \"variety\" : \"Virginica\" }\n",
      "{ \"_id\" : { \"$oid\" : \"5f23a856655800003c0017e9\" }, \"sepal_length\" : 6.2999999999999998224, \"sepal_width\" : 2.8999999999999999112, \"petal_length\" : 5.5999999999999996447, \"petal_width\" : 1.8000000000000000444, \"variety\" : \"Virginica\" }\n",
      "{ \"_id\" : { \"$oid\" : \"5f23a856655800003c0017ea\" }, \"sepal_length\" : 6.5, \"sepal_width\" : 3.0, \"petal_length\" : 5.7999999999999998224, \"petal_width\" : 2.2000000000000001776, \"variety\" : \"Virginica\" }\n",
      "{ \"_id\" : { \"$oid\" : \"5f23a856655800003c0017eb\" }, \"sepal_length\" : 7.5999999999999996447, \"sepal_width\" : 3.0, \"petal_length\" : 6.5999999999999996447, \"petal_width\" : 2.1000000000000000888, \"variety\" : \"Virginica\" }\n",
      "{ \"_id\" : { \"$oid\" : \"5f23a856655800003c0017ec\" }, \"sepal_length\" : 4.9000000000000003553, \"sepal_width\" : 2.5, \"petal_length\" : 4.5, \"petal_width\" : 1.6999999999999999556, \"variety\" : \"Virginica\" }\n",
      "{ \"_id\" : { \"$oid\" : \"5f23a856655800003c0017ed\" }, \"sepal_length\" : 7.2999999999999998224, \"sepal_width\" : 2.8999999999999999112, \"petal_length\" : 6.2999999999999998224, \"petal_width\" : 1.8000000000000000444, \"variety\" : \"Virginica\" }\n",
      "{ \"_id\" : { \"$oid\" : \"5f23a856655800003c0017ee\" }, \"sepal_length\" : 6.7000000000000001776, \"sepal_width\" : 2.5, \"petal_length\" : 5.7999999999999998224, \"petal_width\" : 1.8000000000000000444, \"variety\" : \"Virginica\" }\n",
      "{ \"_id\" : { \"$oid\" : \"5f23a856655800003c0017ef\" }, \"sepal_length\" : 7.2000000000000001776, \"sepal_width\" : 3.6000000000000000888, \"petal_length\" : 6.0999999999999996447, \"petal_width\" : 2.5, \"variety\" : \"Virginica\" }\n",
      "{ \"_id\" : { \"$oid\" : \"5f23a856655800003c0017f0\" }, \"sepal_length\" : 6.5, \"sepal_width\" : 3.2000000000000001776, \"petal_length\" : 5.0999999999999996447, \"petal_width\" : 2.0, \"variety\" : \"Virginica\" }\n",
      "{ \"_id\" : { \"$oid\" : \"5f23a856655800003c0017f1\" }, \"sepal_length\" : 6.4000000000000003553, \"sepal_width\" : 2.7000000000000001776, \"petal_length\" : 5.2999999999999998224, \"petal_width\" : 1.8999999999999999112, \"variety\" : \"Virginica\" }\n",
      "{ \"_id\" : { \"$oid\" : \"5f23a856655800003c0017f2\" }, \"sepal_length\" : 6.7999999999999998224, \"sepal_width\" : 3.0, \"petal_length\" : 5.5, \"petal_width\" : 2.1000000000000000888, \"variety\" : \"Virginica\" }\n",
      "{ \"_id\" : { \"$oid\" : \"5f23a856655800003c0017f3\" }, \"sepal_length\" : 5.7000000000000001776, \"sepal_width\" : 2.5, \"petal_length\" : 5.0, \"petal_width\" : 2.0, \"variety\" : \"Virginica\" }\n",
      "{ \"_id\" : { \"$oid\" : \"5f23a856655800003c0017f4\" }, \"sepal_length\" : 5.7999999999999998224, \"sepal_width\" : 2.7999999999999998224, \"petal_length\" : 5.0999999999999996447, \"petal_width\" : 2.3999999999999999112, \"variety\" : \"Virginica\" }\n",
      "{ \"_id\" : { \"$oid\" : \"5f23a856655800003c0017f5\" }, \"sepal_length\" : 6.4000000000000003553, \"sepal_width\" : 3.2000000000000001776, \"petal_length\" : 5.2999999999999998224, \"petal_width\" : 2.2999999999999998224, \"variety\" : \"Virginica\" }\n",
      "{ \"_id\" : { \"$oid\" : \"5f23a856655800003c0017f6\" }, \"sepal_length\" : 6.5, \"sepal_width\" : 3.0, \"petal_length\" : 5.5, \"petal_width\" : 1.8000000000000000444, \"variety\" : \"Virginica\" }\n",
      "{ \"_id\" : { \"$oid\" : \"5f23a856655800003c0017f7\" }, \"sepal_length\" : 7.7000000000000001776, \"sepal_width\" : 3.7999999999999998224, \"petal_length\" : 6.7000000000000001776, \"petal_width\" : 2.2000000000000001776, \"variety\" : \"Virginica\" }\n",
      "{ \"_id\" : { \"$oid\" : \"5f23a856655800003c0017f8\" }, \"sepal_length\" : 7.7000000000000001776, \"sepal_width\" : 2.6000000000000000888, \"petal_length\" : 6.9000000000000003553, \"petal_width\" : 2.2999999999999998224, \"variety\" : \"Virginica\" }\n",
      "{ \"_id\" : { \"$oid\" : \"5f23a856655800003c0017f9\" }, \"sepal_length\" : 6.0, \"sepal_width\" : 2.2000000000000001776, \"petal_length\" : 5.0, \"petal_width\" : 1.5, \"variety\" : \"Virginica\" }\n",
      "{ \"_id\" : { \"$oid\" : \"5f23a856655800003c0017fa\" }, \"sepal_length\" : 6.9000000000000003553, \"sepal_width\" : 3.2000000000000001776, \"petal_length\" : 5.7000000000000001776, \"petal_width\" : 2.2999999999999998224, \"variety\" : \"Virginica\" }\n",
      "{ \"_id\" : { \"$oid\" : \"5f23a856655800003c0017fb\" }, \"sepal_length\" : 5.5999999999999996447, \"sepal_width\" : 2.7999999999999998224, \"petal_length\" : 4.9000000000000003553, \"petal_width\" : 2.0, \"variety\" : \"Virginica\" }\n",
      "{ \"_id\" : { \"$oid\" : \"5f23a856655800003c0017fc\" }, \"sepal_length\" : 7.7000000000000001776, \"sepal_width\" : 2.7999999999999998224, \"petal_length\" : 6.7000000000000001776, \"petal_width\" : 2.0, \"variety\" : \"Virginica\" }\n",
      "{ \"_id\" : { \"$oid\" : \"5f23a856655800003c0017fd\" }, \"sepal_length\" : 6.2999999999999998224, \"sepal_width\" : 2.7000000000000001776, \"petal_length\" : 4.9000000000000003553, \"petal_width\" : 1.8000000000000000444, \"variety\" : \"Virginica\" }\n",
      "{ \"_id\" : { \"$oid\" : \"5f23a856655800003c0017fe\" }, \"sepal_length\" : 6.7000000000000001776, \"sepal_width\" : 3.2999999999999998224, \"petal_length\" : 5.7000000000000001776, \"petal_width\" : 2.1000000000000000888, \"variety\" : \"Virginica\" }\n",
      "{ \"_id\" : { \"$oid\" : \"5f23a856655800003c0017ff\" }, \"sepal_length\" : 7.2000000000000001776, \"sepal_width\" : 3.2000000000000001776, \"petal_length\" : 6.0, \"petal_width\" : 1.8000000000000000444, \"variety\" : \"Virginica\" }\n",
      "{ \"_id\" : { \"$oid\" : \"5f23a856655800003c001800\" }, \"sepal_length\" : 6.2000000000000001776, \"sepal_width\" : 2.7999999999999998224, \"petal_length\" : 4.7999999999999998224, \"petal_width\" : 1.8000000000000000444, \"variety\" : \"Virginica\" }\n",
      "{ \"_id\" : { \"$oid\" : \"5f23a856655800003c001801\" }, \"sepal_length\" : 6.0999999999999996447, \"sepal_width\" : 3.0, \"petal_length\" : 4.9000000000000003553, \"petal_width\" : 1.8000000000000000444, \"variety\" : \"Virginica\" }\n",
      "{ \"_id\" : { \"$oid\" : \"5f23a856655800003c001802\" }, \"sepal_length\" : 6.4000000000000003553, \"sepal_width\" : 2.7999999999999998224, \"petal_length\" : 5.5999999999999996447, \"petal_width\" : 2.1000000000000000888, \"variety\" : \"Virginica\" }\n",
      "{ \"_id\" : { \"$oid\" : \"5f23a856655800003c001803\" }, \"sepal_length\" : 7.2000000000000001776, \"sepal_width\" : 3.0, \"petal_length\" : 5.7999999999999998224, \"petal_width\" : 1.6000000000000000888, \"variety\" : \"Virginica\" }\n",
      "{ \"_id\" : { \"$oid\" : \"5f23a856655800003c001804\" }, \"sepal_length\" : 7.4000000000000003553, \"sepal_width\" : 2.7999999999999998224, \"petal_length\" : 6.0999999999999996447, \"petal_width\" : 1.8999999999999999112, \"variety\" : \"Virginica\" }\n",
      "{ \"_id\" : { \"$oid\" : \"5f23a856655800003c001805\" }, \"sepal_length\" : 7.9000000000000003553, \"sepal_width\" : 3.7999999999999998224, \"petal_length\" : 6.4000000000000003553, \"petal_width\" : 2.0, \"variety\" : \"Virginica\" }\n",
      "{ \"_id\" : { \"$oid\" : \"5f23a856655800003c001806\" }, \"sepal_length\" : 6.4000000000000003553, \"sepal_width\" : 2.7999999999999998224, \"petal_length\" : 5.5999999999999996447, \"petal_width\" : 2.2000000000000001776, \"variety\" : \"Virginica\" }\n",
      "{ \"_id\" : { \"$oid\" : \"5f23a856655800003c001807\" }, \"sepal_length\" : 6.2999999999999998224, \"sepal_width\" : 2.7999999999999998224, \"petal_length\" : 5.0999999999999996447, \"petal_width\" : 1.5, \"variety\" : \"Virginica\" }\n",
      "{ \"_id\" : { \"$oid\" : \"5f23a856655800003c001808\" }, \"sepal_length\" : 6.0999999999999996447, \"sepal_width\" : 2.6000000000000000888, \"petal_length\" : 5.5999999999999996447, \"petal_width\" : 1.3999999999999999112, \"variety\" : \"Virginica\" }\n",
      "{ \"_id\" : { \"$oid\" : \"5f23a856655800003c001809\" }, \"sepal_length\" : 7.7000000000000001776, \"sepal_width\" : 3.0, \"petal_length\" : 6.0999999999999996447, \"petal_width\" : 2.2999999999999998224, \"variety\" : \"Virginica\" }\n",
      "{ \"_id\" : { \"$oid\" : \"5f23a856655800003c00180a\" }, \"sepal_length\" : 6.2999999999999998224, \"sepal_width\" : 3.3999999999999999112, \"petal_length\" : 5.5999999999999996447, \"petal_width\" : 2.3999999999999999112, \"variety\" : \"Virginica\" }\n",
      "{ \"_id\" : { \"$oid\" : \"5f23a856655800003c00180b\" }, \"sepal_length\" : 6.4000000000000003553, \"sepal_width\" : 3.1000000000000000888, \"petal_length\" : 5.5, \"petal_width\" : 1.8000000000000000444, \"variety\" : \"Virginica\" }\n",
      "{ \"_id\" : { \"$oid\" : \"5f23a856655800003c00180c\" }, \"sepal_length\" : 6.0, \"sepal_width\" : 3.0, \"petal_length\" : 4.7999999999999998224, \"petal_width\" : 1.8000000000000000444, \"variety\" : \"Virginica\" }\n",
      "{ \"_id\" : { \"$oid\" : \"5f23a856655800003c00180d\" }, \"sepal_length\" : 6.9000000000000003553, \"sepal_width\" : 3.1000000000000000888, \"petal_length\" : 5.4000000000000003553, \"petal_width\" : 2.1000000000000000888, \"variety\" : \"Virginica\" }\n",
      "{ \"_id\" : { \"$oid\" : \"5f23a856655800003c00180e\" }, \"sepal_length\" : 6.7000000000000001776, \"sepal_width\" : 3.1000000000000000888, \"petal_length\" : 5.5999999999999996447, \"petal_width\" : 2.3999999999999999112, \"variety\" : \"Virginica\" }\n",
      "{ \"_id\" : { \"$oid\" : \"5f23a856655800003c00180f\" }, \"sepal_length\" : 6.9000000000000003553, \"sepal_width\" : 3.1000000000000000888, \"petal_length\" : 5.0999999999999996447, \"petal_width\" : 2.2999999999999998224, \"variety\" : \"Virginica\" }\n",
      "{ \"_id\" : { \"$oid\" : \"5f23a856655800003c001810\" }, \"sepal_length\" : 5.7999999999999998224, \"sepal_width\" : 2.7000000000000001776, \"petal_length\" : 5.0999999999999996447, \"petal_width\" : 1.8999999999999999112, \"variety\" : \"Virginica\" }\n",
      "{ \"_id\" : { \"$oid\" : \"5f23a856655800003c001811\" }, \"sepal_length\" : 6.7999999999999998224, \"sepal_width\" : 3.2000000000000001776, \"petal_length\" : 5.9000000000000003553, \"petal_width\" : 2.2999999999999998224, \"variety\" : \"Virginica\" }\n",
      "{ \"_id\" : { \"$oid\" : \"5f23a856655800003c001812\" }, \"sepal_length\" : 6.7000000000000001776, \"sepal_width\" : 3.2999999999999998224, \"petal_length\" : 5.7000000000000001776, \"petal_width\" : 2.5, \"variety\" : \"Virginica\" }\n",
      "{ \"_id\" : { \"$oid\" : \"5f23a856655800003c001813\" }, \"sepal_length\" : 6.7000000000000001776, \"sepal_width\" : 3.0, \"petal_length\" : 5.2000000000000001776, \"petal_width\" : 2.2999999999999998224, \"variety\" : \"Virginica\" }\n",
      "{ \"_id\" : { \"$oid\" : \"5f23a856655800003c001814\" }, \"sepal_length\" : 6.2999999999999998224, \"sepal_width\" : 2.5, \"petal_length\" : 5.0, \"petal_width\" : 1.8999999999999999112, \"variety\" : \"Virginica\" }\n",
      "{ \"_id\" : { \"$oid\" : \"5f23a856655800003c001815\" }, \"sepal_length\" : 6.5, \"sepal_width\" : 3.0, \"petal_length\" : 5.2000000000000001776, \"petal_width\" : 2.0, \"variety\" : \"Virginica\" }\n",
      "{ \"_id\" : { \"$oid\" : \"5f23a856655800003c001816\" }, \"sepal_length\" : 6.2000000000000001776, \"sepal_width\" : 3.3999999999999999112, \"petal_length\" : 5.4000000000000003553, \"petal_width\" : 2.2999999999999998224, \"variety\" : \"Virginica\" }\n",
      "{ \"_id\" : { \"$oid\" : \"5f23a856655800003c001817\" }, \"sepal_length\" : 5.9000000000000003553, \"sepal_width\" : 3.0, \"petal_length\" : 5.0999999999999996447, \"petal_width\" : 1.8000000000000000444, \"variety\" : \"Virginica\" }\n"
     ]
    }
   ],
   "source": [
    "# Usar a função export para exibir os documentos da coleção iris\n",
    "iris$export(stdout())"
   ]
  },
  {
   "cell_type": "code",
   "execution_count": 26,
   "metadata": {},
   "outputs": [],
   "source": [
    "# Exportar os documentos da coleção para um arquivo json\n",
    "# Se não informar o caminho, será gerado no diretório de trabalho\n",
    "iris$export(file(\"dumpIris.json\"))"
   ]
  },
  {
   "cell_type": "code",
   "execution_count": 27,
   "metadata": {},
   "outputs": [],
   "source": [
    "# Gerar o arquivo de dump em um local específico\n",
    "iris$export(file(\"C:/Users/USUARIO/Downloads/IGTI/Bootcamp Online - Cientista de Dados/3_Modulo2_Coleta_e_Obtencao_de_Dados/Parte2/AulasPraticas/dados/dumpIris.json\"))"
   ]
  },
  {
   "cell_type": "markdown",
   "metadata": {},
   "source": [
    "Importar dados de um arquivo JSON para uma coleção"
   ]
  },
  {
   "cell_type": "code",
   "execution_count": 28,
   "metadata": {},
   "outputs": [],
   "source": [
    "# Criar uma nova conexão ao banco de dados\n",
    "irisDump <- mongo(collection=\"irisDump\", db=\"igti\", url=\"mongodb://localhost\")"
   ]
  },
  {
   "cell_type": "code",
   "execution_count": 29,
   "metadata": {},
   "outputs": [],
   "source": [
    "# Importar os documentos do arquivo para a nova coleção\n",
    "irisDump$import(file(\"C:/Users/USUARIO/Downloads/IGTI/Bootcamp Online - Cientista de Dados/3_Modulo2_Coleta_e_Obtencao_de_Dados/Parte2/AulasPraticas/dados/dumpIris.json\"))"
   ]
  },
  {
   "cell_type": "code",
   "execution_count": 30,
   "metadata": {},
   "outputs": [
    {
     "data": {
      "text/html": [
       "150"
      ],
      "text/latex": [
       "150"
      ],
      "text/markdown": [
       "150"
      ],
      "text/plain": [
       "[1] 150"
      ]
     },
     "metadata": {},
     "output_type": "display_data"
    }
   ],
   "source": [
    "# Contar o número de documentos existentes na coleção irisDump\n",
    "irisDump$count()"
   ]
  },
  {
   "cell_type": "code",
   "execution_count": 31,
   "metadata": {},
   "outputs": [
    {
     "data": {
      "text/html": [
       "<table>\n",
       "<thead><tr><th scope=col>sepal_length</th><th scope=col>sepal_width</th><th scope=col>petal_length</th><th scope=col>petal_width</th><th scope=col>variety</th></tr></thead>\n",
       "<tbody>\n",
       "\t<tr><td>5.1   </td><td>3.5   </td><td>1.4   </td><td>0.2   </td><td>Setosa</td></tr>\n",
       "\t<tr><td>4.9   </td><td>3.0   </td><td>1.4   </td><td>0.2   </td><td>Setosa</td></tr>\n",
       "\t<tr><td>4.7   </td><td>3.2   </td><td>1.3   </td><td>0.2   </td><td>Setosa</td></tr>\n",
       "\t<tr><td>4.6   </td><td>3.1   </td><td>1.5   </td><td>0.2   </td><td>Setosa</td></tr>\n",
       "\t<tr><td>5.0   </td><td>3.6   </td><td>1.4   </td><td>0.2   </td><td>Setosa</td></tr>\n",
       "</tbody>\n",
       "</table>\n"
      ],
      "text/latex": [
       "\\begin{tabular}{r|lllll}\n",
       " sepal\\_length & sepal\\_width & petal\\_length & petal\\_width & variety\\\\\n",
       "\\hline\n",
       "\t 5.1    & 3.5    & 1.4    & 0.2    & Setosa\\\\\n",
       "\t 4.9    & 3.0    & 1.4    & 0.2    & Setosa\\\\\n",
       "\t 4.7    & 3.2    & 1.3    & 0.2    & Setosa\\\\\n",
       "\t 4.6    & 3.1    & 1.5    & 0.2    & Setosa\\\\\n",
       "\t 5.0    & 3.6    & 1.4    & 0.2    & Setosa\\\\\n",
       "\\end{tabular}\n"
      ],
      "text/markdown": [
       "\n",
       "| sepal_length | sepal_width | petal_length | petal_width | variety |\n",
       "|---|---|---|---|---|\n",
       "| 5.1    | 3.5    | 1.4    | 0.2    | Setosa |\n",
       "| 4.9    | 3.0    | 1.4    | 0.2    | Setosa |\n",
       "| 4.7    | 3.2    | 1.3    | 0.2    | Setosa |\n",
       "| 4.6    | 3.1    | 1.5    | 0.2    | Setosa |\n",
       "| 5.0    | 3.6    | 1.4    | 0.2    | Setosa |\n",
       "\n"
      ],
      "text/plain": [
       "  sepal_length sepal_width petal_length petal_width variety\n",
       "1 5.1          3.5         1.4          0.2         Setosa \n",
       "2 4.9          3.0         1.4          0.2         Setosa \n",
       "3 4.7          3.2         1.3          0.2         Setosa \n",
       "4 4.6          3.1         1.5          0.2         Setosa \n",
       "5 5.0          3.6         1.4          0.2         Setosa "
      ]
     },
     "metadata": {},
     "output_type": "display_data"
    }
   ],
   "source": [
    "# Buscar e imprimir as 5 primeiras linhas do coleção irisDump\n",
    "irisDump$find(limit=5)"
   ]
  },
  {
   "cell_type": "code",
   "execution_count": 32,
   "metadata": {},
   "outputs": [],
   "source": [
    "# Remove a conexão com a coleção irisDump\n",
    "rm(irisDump)"
   ]
  },
  {
   "cell_type": "markdown",
   "metadata": {},
   "source": [
    "### Desconectar"
   ]
  },
  {
   "cell_type": "code",
   "execution_count": 33,
   "metadata": {},
   "outputs": [],
   "source": [
    "# Desconecta do MongoDB\n",
    "iris$disconnect()"
   ]
  },
  {
   "cell_type": "code",
   "execution_count": 34,
   "metadata": {},
   "outputs": [
    {
     "name": "stderr",
     "output_type": "stream",
     "text": [
      "Connection lost. Trying to reconnect with mongo...\n"
     ]
    },
    {
     "data": {
      "text/html": [
       "150"
      ],
      "text/latex": [
       "150"
      ],
      "text/markdown": [
       "150"
      ],
      "text/plain": [
       "[1] 150"
      ]
     },
     "metadata": {},
     "output_type": "display_data"
    }
   ],
   "source": [
    "# Contar o número de documentos existentes na coleção iris\n",
    "iris$count()"
   ]
  },
  {
   "cell_type": "markdown",
   "metadata": {},
   "source": [
    "**OBSERVAÇÃO:** A mensagem abaixo indica que sessão está desconectada e que está sendo realizada uma tentativa de nova conexão.\n",
    "\n",
    "*Connection lost: Trying to reconnect with mongo...*\n",
    "\n",
    "Observe ainda que, logo após a mensagem, é exibido novamente o valor 150 que é o resultado do comando \"iris$count()\". Isto indica que a conexão foi reestabelecida."
   ]
  },
  {
   "cell_type": "code",
   "execution_count": 35,
   "metadata": {},
   "outputs": [],
   "source": [
    "# Fazendo uma nova desconexão\n",
    "iris$disconnect(gc=TRUE)"
   ]
  },
  {
   "cell_type": "code",
   "execution_count": 36,
   "metadata": {},
   "outputs": [
    {
     "name": "stderr",
     "output_type": "stream",
     "text": [
      "Connection lost. Trying to reconnect with mongo...\n"
     ]
    },
    {
     "data": {
      "text/html": [
       "150"
      ],
      "text/latex": [
       "150"
      ],
      "text/markdown": [
       "150"
      ],
      "text/plain": [
       "[1] 150"
      ]
     },
     "metadata": {},
     "output_type": "display_data"
    }
   ],
   "source": [
    "# Contar o número de documentos existentes na coleção iris\n",
    "iris$count()"
   ]
  },
  {
   "cell_type": "code",
   "execution_count": 37,
   "metadata": {},
   "outputs": [],
   "source": [
    "# Quando a conexão for removida vai desconectar automaticamente\n",
    "rm(iris) #remove a conexão com a coleção iris"
   ]
  },
  {
   "cell_type": "code",
   "execution_count": 38,
   "metadata": {},
   "outputs": [
    {
     "ename": "ERROR",
     "evalue": "Error in eval(expr, envir, enclos): attempt to apply non-function\n",
     "output_type": "error",
     "traceback": [
      "Error in eval(expr, envir, enclos): attempt to apply non-function\nTraceback:\n"
     ]
    }
   ],
   "source": [
    "# Contar o número de documentos existentes na coleção iris\n",
    "iris$count()"
   ]
  }
 ],
 "metadata": {
  "kernelspec": {
   "display_name": "R",
   "language": "R",
   "name": "ir"
  },
  "language_info": {
   "codemirror_mode": "r",
   "file_extension": ".r",
   "mimetype": "text/x-r-source",
   "name": "R",
   "pygments_lexer": "r",
   "version": "3.6.1"
  }
 },
 "nbformat": 4,
 "nbformat_minor": 4
}
