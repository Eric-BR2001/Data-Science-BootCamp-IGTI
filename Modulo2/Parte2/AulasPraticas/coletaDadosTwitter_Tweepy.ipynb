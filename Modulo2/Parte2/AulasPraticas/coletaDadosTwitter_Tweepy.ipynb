{
 "metadata": {
  "language_info": {
   "codemirror_mode": {
    "name": "ipython",
    "version": 3
   },
   "file_extension": ".py",
   "mimetype": "text/x-python",
   "name": "python",
   "nbconvert_exporter": "python",
   "pygments_lexer": "ipython3",
   "version": "3.7.1-final"
  },
  "orig_nbformat": 2,
  "kernelspec": {
   "name": "python37164bitdevconda1dd050da84e847dab75ff951c29c7165",
   "display_name": "Python 3.7.1 64-bit ('dev': conda)"
  }
 },
 "nbformat": 4,
 "nbformat_minor": 2,
 "cells": [
  {
   "cell_type": "markdown",
   "metadata": {},
   "source": [
    "# Coleta de Dados no Twitter utilizando a biblioteca Tweepy do Python"
   ]
  },
  {
   "cell_type": "markdown",
   "metadata": {},
   "source": [
    "**OBSERVAÇÃO:**\n",
    "\n",
    "Antes de usar o tweepy pela primeira vez, <span style=\"color:red\">é necessário instalar o pacote</span>. Para isso, acesse o prompt do anaconda e execute o comando:\n",
    "\n",
    "<h2><center>conda -c install conda-forge tweepy</center></h2>"
   ]
  },
  {
   "cell_type": "markdown",
   "metadata": {},
   "source": [
    "**Importação do pacote tweepy**\n",
    "\n",
    "<span style=\"color:red\">**SEMPRE** é necessário importar</span> o(s) pacote(s) que serão usados no seu script.\n",
    "\n",
    "Vamos importar os pacotes que precisaremos usar nessa aplicação: TextBlob, Tweepy e NumPy. Tenha certeza que os pacotes foram previamente instalados."
   ]
  },
  {
   "cell_type": "code",
   "execution_count": 1,
   "metadata": {},
   "outputs": [],
   "source": [
    "# Importação dos pacotes\n",
    "import tweepy"
   ]
  },
  {
   "cell_type": "markdown",
   "metadata": {},
   "source": [
    "### Credenciais para utlização da API do Twitter\n",
    "\n",
    "Para utilizar a API do Twitter, é necessário ter uma conta no Twitter, solicitar o acesso de desenvolvedor, criar sua aplicação e gerar suas credenciais.\n",
    "\n",
    "- Veja o vídeo explicativo \"APIs e coleta de dados\": https://igti.instructure.com/courses/3068/pages/apis-e-coleta-de-dados?module_item_id=203835"
   ]
  },
  {
   "cell_type": "code",
   "execution_count": 2,
   "metadata": {},
   "outputs": [],
   "source": [
    "# Credenciais para utilização da API do Twitter\n",
    "consumer_key = ''\n",
    "consumer_secret = ''\n",
    "access_token = ''\n",
    "access_token_secret = ''"
   ]
  },
  {
   "cell_type": "markdown",
   "metadata": {},
   "source": [
    "Fazer a autenticação na API usando suas credencias"
   ]
  },
  {
   "cell_type": "code",
   "execution_count": 3,
   "metadata": {},
   "outputs": [],
   "source": [
    "auth = tweepy.OAuthHandler(consumer_key, consumer_secret)\n",
    "auth.set_access_token(access_token, access_token_secret)\n",
    "token = tweepy.API(auth)"
   ]
  },
  {
   "cell_type": "markdown",
   "metadata": {},
   "source": [
    "### Realizando a busca por palavra-chave"
   ]
  },
  {
   "cell_type": "code",
   "execution_count": 4,
   "metadata": {},
   "outputs": [],
   "source": [
    "# Definir a(s) palavra(s)-chave que deseja-se pesquisar no Twitter\n",
    "#keyword = 'covid-19'\n",
    "keyword = ('covid OR covid-19 OR corona OR coronavirus')"
   ]
  },
  {
   "cell_type": "code",
   "execution_count": 5,
   "metadata": {},
   "outputs": [],
   "source": [
    "# Fazer a busca pro palavra-chave\n",
    "\n",
    "# resulta_type --> mixed (default), recent, popular\n",
    "# tweets --> variável que irá armazenas todos os tweets com a(s) palavra(s) escolhida(s) na função search da API\n",
    "\n",
    "tweets = token.search(q=keyword, count=10, result_type='mixed')\n",
    "\n",
    "#tweets = token.search(q=keyword, count=10, result_type='mixed', tweet_mode='extended', lang='pt')"
   ]
  },
  {
   "cell_type": "markdown",
   "metadata": {},
   "source": [
    "**Observação:**\n",
    "\n",
    "Fazer a pesquisa por palavra-chave buscando o texto do tweet truncado:\n",
    "\n",
    "- tweets = token.search(q=keyword, lang='pt')\n",
    "\n",
    "Fazer a pesquisa por palavra-chave buscando o texto do tweet por inteiro\n",
    "\n",
    "- tweets = token.search(q=keyword, tweet_mode='extended')"
   ]
  },
  {
   "cell_type": "code",
   "execution_count": 6,
   "metadata": {
    "tags": []
   },
   "outputs": [
    {
     "output_type": "stream",
     "name": "stdout",
     "text": "Total de tweets coletados 10.\n"
    }
   ],
   "source": [
    "# Para verificar a quantidade de tweets colentado, use a função \"len()\"\n",
    "print(\"Total de tweets coletados %s.\" % (len(tweets)))"
   ]
  },
  {
   "cell_type": "code",
   "execution_count": 15,
   "metadata": {
    "tags": []
   },
   "outputs": [
    {
     "output_type": "stream",
     "name": "stdout",
     "text": "Usuário: {'IAMJADEJACKSON'}\n     Tweet: {'“Once COVID is over” is starting to sound about as confident as “When I win the lotto..” 🥴'}\nUsuário: {'DGHisham'}\n     Tweet: {'Marilah kita belajar drp negara2 lain supaya kita dpt mencegah drp dilanda gelombang tsunami Covid-19 yg lebih dahs… https://t.co/Y6B9jiNsOH'}\nUsuário: {'RBReich'}\n     Tweet: {'The coronavirus is completely out of control in the U.S. We should lock down the whole nation for the month of Augu… https://t.co/VrQxI55RoL'}\nUsuário: {'Teresa_LS'}\n     Tweet: {'RT @PlayersTribune: The Players of the Pac-12 will opt-out of fall camp and game participation due to COVID-19 and other serious concerns u…'}\nUsuário: {'oneLOVE231745'}\n     Tweet: {'RT @ElijahSchaffer: CDC openly admits hospitals have an incentive to inflate coronavirus numbers \\n\\n https://t.co/gq8JL42Dnx'}\nUsuário: {'zwahlebe'}\n     Tweet: {'RT @ginsig: Du reist trotz Corona mit dem Flugzeug in die Ferien und bist überrascht, dass bei der Kontrolle am Flughafen ein Gedränge ents…'}\nUsuário: {'Frajud12'}\n     Tweet: {'RT @ruthmkb: @TypesAndSpells Ontario reported 116 new cases today,👉\"62% of those newly infected were under the age of 39.\" #COVIDIOTS #Youn…'}\nUsuário: {'AnandKu94405963'}\n     Tweet: {'RT @kanpurnagarpol: #kanpurnagarpolice #COVID__19 के दृष्टिगत #DIG/SSP_KNR के निर्देशन में  जनपद के समस्त थानाक्षेत्रों में संदिग्ध वाहन/…'}\nUsuário: {'_kartemis'}\n     Tweet: {'RT @majesticdevil_: o covid nos ensinou que ver a boca da pessoa que você tá conversando é muito importante pra entender o que ela tá falan…'}\nUsuário: {'susanoconn'}\n     Tweet: {\"RT @DrDenaGrayson: 🔥@SpeakerPelosi says she doesn't have confidence in Dr. Birx: “I think the president is spreading disinformation about t…\"}\n"
    }
   ],
   "source": [
    "# Podemos imprimir o nome do usuário (screen_name) e o texto do tweet\n",
    "for tweet in tweets:\n",
    "    print(\"Usuário: %s\" % {tweet.user.screen_name})\n",
    "    print(\"     Tweet: %s\" % {tweet.text})\n",
    "    #print(\"    Tweet: %s\" % {tweet.full_text}) #no caso da busca em tweet_mode='extended'"
   ]
  },
  {
   "cell_type": "markdown",
   "metadata": {},
   "source": [
    "### Análise de polaridade"
   ]
  },
  {
   "cell_type": "markdown",
   "metadata": {},
   "source": [
    "Para fazer a **análise de polaridade**, vamos usar a função sentiment.polarity do pacote TextBlob.\n",
    "\n",
    "- A função sentiment.polarity retornará um número entre -1 e 1, onde quanto maior esse número, menos \"chateada\" a pessoa que postou está.\n",
    "\n",
    "Ou seja, quanto maior esse número, mais positivoé o tweet. Podemos ainda considerar que a polaridade 0 (zero) pode indicar uma neutralidade do tweet."
   ]
  },
  {
   "cell_type": "markdown",
   "metadata": {},
   "source": [
    "**OBSERVAÇÃO:**\n",
    "\n",
    "Antes de usar o textblob e numpy pela primeira vez, <span style=\"color:red\">é necessário instalar os pacotes</span>. Para isso, acesse o prompt do anaconda e execute o comando:\n",
    "\n",
    "<h2><center>conda -c install conda-forge textblob</center></h2>\n",
    "\n",
    "<h2><center>conda -c install conda-forge numpy</center></h2>"
   ]
  },
  {
   "cell_type": "code",
   "execution_count": 19,
   "metadata": {},
   "outputs": [],
   "source": [
    "# Importação dos pacotes\n",
    "from textblob import TextBlob as tb\n",
    "import numpy as np"
   ]
  },
  {
   "cell_type": "code",
   "execution_count": 20,
   "metadata": {},
   "outputs": [],
   "source": [
    "# Variável que irá armazenar as polaridades\n",
    "analysis = None"
   ]
  },
  {
   "cell_type": "code",
   "execution_count": 22,
   "metadata": {},
   "outputs": [],
   "source": [
    "# Lista vazia para armazenas os scores\n",
    "tweets_score = []"
   ]
  },
  {
   "cell_type": "code",
   "execution_count": 23,
   "metadata": {
    "tags": []
   },
   "outputs": [
    {
     "output_type": "stream",
     "name": "stdout",
     "text": "** “Once COVID is over” is starting to sound about as confident as “When I win the lotto..” 🥴\n** Marilah kita belajar drp negara2 lain supaya kita dpt mencegah drp dilanda gelombang tsunami Covid-19 yg lebih dahs… https://t.co/Y6B9jiNsOH\n** The coronavirus is completely out of control in the U.S. We should lock down the whole nation for the month of Augu… https://t.co/VrQxI55RoL\n** RT @PlayersTribune: The Players of the Pac-12 will opt-out of fall camp and game participation due to COVID-19 and other serious concerns u…\n** RT @ElijahSchaffer: CDC openly admits hospitals have an incentive to inflate coronavirus numbers \n\n https://t.co/gq8JL42Dnx\n** RT @ginsig: Du reist trotz Corona mit dem Flugzeug in die Ferien und bist überrascht, dass bei der Kontrolle am Flughafen ein Gedränge ents…\n** RT @ruthmkb: @TypesAndSpells Ontario reported 116 new cases today,👉\"62% of those newly infected were under the age of 39.\" #COVIDIOTS #Youn…\n** RT @kanpurnagarpol: #kanpurnagarpolice #COVID__19 के दृष्टिगत #DIG/SSP_KNR के निर्देशन में  जनपद के समस्त थानाक्षेत्रों में संदिग्ध वाहन/…\n** RT @majesticdevil_: o covid nos ensinou que ver a boca da pessoa que você tá conversando é muito importante pra entender o que ela tá falan…\n** RT @DrDenaGrayson: 🔥@SpeakerPelosi says she doesn't have confidence in Dr. Birx: “I think the president is spreading disinformation about t…\n"
    }
   ],
   "source": [
    "# Coletando os scores de cada tweet e apresentando os textos\n",
    "for tweet in tweets:\n",
    "    print('**', tweet.text)\n",
    "    analysis = tb(tweet.text)\n",
    "    polarity = analysis.sentiment.polarity\n",
    "    tweets_score.append(polarity)"
   ]
  },
  {
   "cell_type": "code",
   "execution_count": 26,
   "metadata": {
    "tags": []
   },
   "outputs": [
    {
     "output_type": "stream",
     "name": "stdout",
     "text": "Vetor de polaridade: [0.42500000000000004, 0.0, 0.04814814814814814, -0.24583333333333335, 0.0, 0.0, 0.13636363636363635, 0.0, 0.05, 0.0]\n"
    }
   ],
   "source": [
    "# Apresentando os índices de polaridade de cada tweet\n",
    "print('Vetor de polaridade:', tweets_score)"
   ]
  },
  {
   "cell_type": "code",
   "execution_count": 27,
   "metadata": {
    "tags": []
   },
   "outputs": [
    {
     "output_type": "stream",
     "name": "stdout",
     "text": "MÉDIA DE SENTIMENTO: 0.04136784511784512\n"
    }
   ],
   "source": [
    "# Apresentando a média das polaridades\n",
    "print('MÉDIA DE SENTIMENTO: ' + str(np.mean(tweets_score))) #a função mean() pertence ao pacote numpy"
   ]
  },
  {
   "cell_type": "markdown",
   "metadata": {},
   "source": [
    "Análise de polaridade para tweets que não foram postados em inglês"
   ]
  },
  {
   "cell_type": "code",
   "execution_count": 28,
   "metadata": {
    "tags": []
   },
   "outputs": [
    {
     "output_type": "stream",
     "name": "stdout",
     "text": "Texto traduzido: Let us learn from other countries so that we can prevent from being hit by the more severe Covid-19 tsunami… https://t.co/Y6B9jiNsOH\nTexto traduzido: RT @ginsig: In spite of Corona, you are going on vacation by plane and you are surprised that there is a crowd at the airport control…\nTexto traduzido: RT @kanpurnagarpol: Suspected vehicle /…\nTexto traduzido: RT @majesticdevil_: the covid taught us that seeing the mouth of the person you are talking to is very important to understand what they are talking about ...\n"
    }
   ],
   "source": [
    "# coletando novamente as polaridades com tradução dos textos para o inglês\n",
    "polarities = []\n",
    "\n",
    "for tweet in tweets: #para cada tweet\n",
    "    analysis = tb(tweet.text) #tweet.full_text para modo extendido\n",
    "\n",
    "    if analysis.detect_language() != 'en': #verifica se o tweet está em inglês e, caso não esteja, o texto será traduzido\n",
    "        traducao = tb(str(analysis.translate(to='en')))\n",
    "\n",
    "        print('Texto traduzido: %s' % traducao)\n",
    "\n",
    "        polarity = traducao.sentiment.polarity\n",
    "    else:\n",
    "        polarity = analysis.sentiment.polarity\n",
    "    \n",
    "    polarities.append(polarity)"
   ]
  },
  {
   "cell_type": "code",
   "execution_count": 29,
   "metadata": {
    "tags": []
   },
   "outputs": [
    {
     "output_type": "stream",
     "name": "stdout",
     "text": "Vetor de polaridade: [0.42500000000000004, 0.1875, 0.04814814814814814, -0.24583333333333335, 0.0, 0.1, 0.13636363636363635, 0.0, 0.52, 0.0]\n"
    }
   ],
   "source": [
    "# Apresentando os novos índices de polaridade de cada tweet\n",
    "print('Vetor de polaridade:', polarities)"
   ]
  },
  {
   "cell_type": "code",
   "execution_count": 30,
   "metadata": {
    "tags": []
   },
   "outputs": [
    {
     "output_type": "stream",
     "name": "stdout",
     "text": "MÉDIA DE SENTIMENTO: 0.11711784511784513\n"
    }
   ],
   "source": [
    "# Apresentando a média das polaridades novamente\n",
    "print('MÉDIA DE SENTIMENTO: ' + str(np.mean(polarities)))"
   ]
  },
  {
   "cell_type": "markdown",
   "metadata": {},
   "source": [
    "### Armazenar os tweets coletados"
   ]
  },
  {
   "cell_type": "markdown",
   "metadata": {},
   "source": [
    "Até aqui, nós criamos nossa auntenticação e já temos acesso aos tweets coletados. Agora, vamos armazenar nossos tweets."
   ]
  },
  {
   "cell_type": "markdown",
   "metadata": {},
   "source": [
    "**Armazenar em arquivos**"
   ]
  },
  {
   "cell_type": "code",
   "execution_count": 31,
   "metadata": {},
   "outputs": [],
   "source": [
    "# Importanção do pacote json\n",
    "import json"
   ]
  },
  {
   "cell_type": "code",
   "execution_count": 32,
   "metadata": {},
   "outputs": [],
   "source": [
    "status = tweets[0]\n",
    "\n",
    "# Convertendo para string\n",
    "json_str = json.dumps(status._json)\n",
    "\n",
    "# Deserializando a string para um objeto Python do tipo dict\n",
    "parsed = json.loads(json_str) "
   ]
  },
  {
   "cell_type": "code",
   "execution_count": 33,
   "metadata": {},
   "outputs": [
    {
     "output_type": "execute_result",
     "data": {
      "text/plain": "tweepy.models.SearchResults"
     },
     "metadata": {},
     "execution_count": 33
    }
   ],
   "source": [
    "# Apresentando o tipo da variável\n",
    "type(tweets)"
   ]
  },
  {
   "cell_type": "code",
   "execution_count": 34,
   "metadata": {},
   "outputs": [
    {
     "output_type": "execute_result",
     "data": {
      "text/plain": "str"
     },
     "metadata": {},
     "execution_count": 34
    }
   ],
   "source": [
    "# Apresentando o tipo da variável\n",
    "type(json_str)"
   ]
  },
  {
   "cell_type": "code",
   "execution_count": 35,
   "metadata": {},
   "outputs": [
    {
     "output_type": "execute_result",
     "data": {
      "text/plain": "dict"
     },
     "metadata": {},
     "execution_count": 35
    }
   ],
   "source": [
    "# Apresentando o tipo da variável\n",
    "type(parsed)"
   ]
  },
  {
   "cell_type": "markdown",
   "metadata": {},
   "source": [
    "Agora vamos deserializar os tweets e gravar o arquivo json.\n",
    "\n",
    "**Observação:** Antes de executar o script, verifique se o caminho de gravação do arquivo definido na varíavel *datasetPath* existe"
   ]
  },
  {
   "cell_type": "code",
   "execution_count": 37,
   "metadata": {},
   "outputs": [],
   "source": [
    "import os\n",
    "\n",
    "# datasetPath = r'C:\\Users\\USUARIO\\Downloads\\IGTI\\Bootcamp Online - Cientista de Dados\\3_Modulo2_Coleta_e_Obtencao_de_Dados\\Parte2\\AulasPraticas\\dados\\tweets_keywords.json'\n",
    "\n",
    "filename = 'tweets_keywords.json'\n",
    "path = os.path.join(os.getcwd(), \"dados\") #diretório_atual/dados\n",
    "file_path = os.path.join(path, filename)\n",
    "\n",
    "# with open(datasetPath + '/' + filename, 'a', encoding='utf-8') as file_object:\n",
    "with open(file_path, 'a', encoding='utf-8') as file_object:\n",
    "    for tweet in tweets:\n",
    "        status = tweet\n",
    "\n",
    "        # Convertendo para string\n",
    "        json_str = json.dumps(status._json)\n",
    "\n",
    "        # Deserializando a string para um objeto Python do tipo dict\n",
    "        parsed = json.loads(json_str)\n",
    "\n",
    "        # Gravando o tweet deserializado no arquivo\n",
    "        json.dump(parsed, file_object, ensure_ascii=False, sort_keys=True, indent=4, separators=(',', ':'))"
   ]
  },
  {
   "cell_type": "markdown",
   "metadata": {},
   "source": [
    "**Armazenar no MongoDB**"
   ]
  },
  {
   "cell_type": "code",
   "execution_count": 38,
   "metadata": {},
   "outputs": [],
   "source": [
    "# Importação do pacote pymongo\n",
    "import pymongo"
   ]
  },
  {
   "cell_type": "code",
   "execution_count": 40,
   "metadata": {},
   "outputs": [],
   "source": [
    "# Conexão ao banco de dados\n",
    "con = pymongo.MongoClient('localhost', 27017)"
   ]
  },
  {
   "cell_type": "code",
   "execution_count": 41,
   "metadata": {},
   "outputs": [],
   "source": [
    "# Selecionando o banco de dados\n",
    "db = con.twitterdb"
   ]
  },
  {
   "cell_type": "code",
   "execution_count": 42,
   "metadata": {},
   "outputs": [],
   "source": [
    "# Selecionando a coleção para armazenar os tweets\n",
    "collection = db.tweets_keywords"
   ]
  },
  {
   "cell_type": "code",
   "execution_count": 43,
   "metadata": {},
   "outputs": [
    {
     "output_type": "execute_result",
     "data": {
      "text/plain": "0"
     },
     "metadata": {},
     "execution_count": 43
    }
   ],
   "source": [
    "# Listando a quantidade de tweets existentes na coleção\n",
    "db.tweets_keywords.count()"
   ]
  },
  {
   "cell_type": "code",
   "execution_count": 44,
   "metadata": {},
   "outputs": [
    {
     "output_type": "execute_result",
     "data": {
      "text/plain": "0"
     },
     "metadata": {},
     "execution_count": 44
    }
   ],
   "source": [
    "# Listando a quantidade de tweets existentes na coleção (função recomendada)\n",
    "db.tweets_keywords.count_documents({})"
   ]
  },
  {
   "cell_type": "code",
   "execution_count": 45,
   "metadata": {},
   "outputs": [],
   "source": [
    "i = 0\n",
    "\n",
    "# Para cada tweet no vetor de resultado tweets\n",
    "for tweet in tweets:\n",
    "    db.tweets_keywords.insert_one(tweet._json)\n",
    "    i= i+1\n",
    "    #print(\"Tweet inserido com sucesso!!\")"
   ]
  },
  {
   "cell_type": "code",
   "execution_count": 47,
   "metadata": {
    "tags": []
   },
   "outputs": [
    {
     "output_type": "stream",
     "name": "stdout",
     "text": "Quantidade de tweets inseridos: 10\n"
    }
   ],
   "source": [
    "# Listando a quantidade de tweets inseridos\n",
    "print(\"Quantidade de tweets inseridos: %s\" % i)"
   ]
  },
  {
   "cell_type": "code",
   "execution_count": 48,
   "metadata": {},
   "outputs": [
    {
     "output_type": "execute_result",
     "data": {
      "text/plain": "10"
     },
     "metadata": {},
     "execution_count": 48
    }
   ],
   "source": [
    "# Listando a quantidade de tweets existentes na coleção (função recomendada)\n",
    "db.tweets_keywords.count_documents({})"
   ]
  }
 ]
}